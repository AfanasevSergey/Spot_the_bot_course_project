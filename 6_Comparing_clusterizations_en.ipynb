{
  "cells": [
    {
      "cell_type": "code",
      "execution_count": 1,
      "id": "cdb50c2b",
      "metadata": {
        "ExecuteTime": {
          "end_time": "2022-01-20T00:05:19.638787Z",
          "start_time": "2022-01-20T00:05:19.628854Z"
        },
        "id": "cdb50c2b",
        "colab": {
          "base_uri": "https://localhost:8080/"
        },
        "outputId": "9ad3ef02-0551-42a7-e04f-3524b0419d14"
      },
      "outputs": [
        {
          "output_type": "stream",
          "name": "stdout",
          "text": [
            "Collecting unidecode\n",
            "  Downloading Unidecode-1.3.2-py3-none-any.whl (235 kB)\n",
            "\u001b[?25l\r\u001b[K     |█▍                              | 10 kB 20.4 MB/s eta 0:00:01\r\u001b[K     |██▉                             | 20 kB 10.1 MB/s eta 0:00:01\r\u001b[K     |████▏                           | 30 kB 8.7 MB/s eta 0:00:01\r\u001b[K     |█████▋                          | 40 kB 7.2 MB/s eta 0:00:01\r\u001b[K     |███████                         | 51 kB 5.3 MB/s eta 0:00:01\r\u001b[K     |████████▍                       | 61 kB 5.5 MB/s eta 0:00:01\r\u001b[K     |█████████▊                      | 71 kB 5.3 MB/s eta 0:00:01\r\u001b[K     |███████████▏                    | 81 kB 5.9 MB/s eta 0:00:01\r\u001b[K     |████████████▌                   | 92 kB 5.3 MB/s eta 0:00:01\r\u001b[K     |██████████████                  | 102 kB 5.0 MB/s eta 0:00:01\r\u001b[K     |███████████████▎                | 112 kB 5.0 MB/s eta 0:00:01\r\u001b[K     |████████████████▊               | 122 kB 5.0 MB/s eta 0:00:01\r\u001b[K     |██████████████████              | 133 kB 5.0 MB/s eta 0:00:01\r\u001b[K     |███████████████████▌            | 143 kB 5.0 MB/s eta 0:00:01\r\u001b[K     |████████████████████▉           | 153 kB 5.0 MB/s eta 0:00:01\r\u001b[K     |██████████████████████▎         | 163 kB 5.0 MB/s eta 0:00:01\r\u001b[K     |███████████████████████▋        | 174 kB 5.0 MB/s eta 0:00:01\r\u001b[K     |█████████████████████████       | 184 kB 5.0 MB/s eta 0:00:01\r\u001b[K     |██████████████████████████▍     | 194 kB 5.0 MB/s eta 0:00:01\r\u001b[K     |███████████████████████████▉    | 204 kB 5.0 MB/s eta 0:00:01\r\u001b[K     |█████████████████████████████▏  | 215 kB 5.0 MB/s eta 0:00:01\r\u001b[K     |██████████████████████████████▋ | 225 kB 5.0 MB/s eta 0:00:01\r\u001b[K     |████████████████████████████████| 235 kB 5.0 MB/s eta 0:00:01\r\u001b[K     |████████████████████████████████| 235 kB 5.0 MB/s \n",
            "\u001b[?25hInstalling collected packages: unidecode\n",
            "Successfully installed unidecode-1.3.2\n"
          ]
        }
      ],
      "source": [
        "!pip install unidecode"
      ]
    },
    {
      "cell_type": "code",
      "source": [
        "!pip install fastdist"
      ],
      "metadata": {
        "colab": {
          "base_uri": "https://localhost:8080/"
        },
        "id": "X1_n7_oWJ1BF",
        "outputId": "ea92b58a-23be-4e29-ff3e-2523396133e4"
      },
      "id": "X1_n7_oWJ1BF",
      "execution_count": 2,
      "outputs": [
        {
          "output_type": "stream",
          "name": "stdout",
          "text": [
            "Collecting fastdist\n",
            "  Downloading fastdist-1.1.3-py3-none-any.whl (11 kB)\n",
            "Installing collected packages: fastdist\n",
            "Successfully installed fastdist-1.1.3\n"
          ]
        }
      ]
    },
    {
      "cell_type": "code",
      "source": [
        "import numpy as np\n",
        "import pandas as pd\n",
        "import re\n",
        "import gensim\n",
        "import glob\n",
        "import os\n",
        "import pickle\n",
        "import matplotlib.pyplot as plt\n",
        "from scipy.sparse.linalg import svds\n",
        "from datetime import datetime\n",
        "import codecs\n",
        "import unidecode\n",
        "from itertools import product\n",
        "from math import log\n",
        "from sklearn.metrics import silhouette_score, silhouette_samples\n",
        "from sklearn.metrics.pairwise import pairwise_distances\n",
        "from sklearn.metrics import calinski_harabasz_score\n",
        "from scipy.spatial.distance import cityblock\n",
        "from scipy.spatial.distance import euclidean\n",
        "import gc\n",
        "from fastdist import fastdist"
      ],
      "metadata": {
        "id": "yYIiBCgzJLJL"
      },
      "id": "yYIiBCgzJLJL",
      "execution_count": 3,
      "outputs": []
    },
    {
      "cell_type": "code",
      "execution_count": 4,
      "id": "6120d187",
      "metadata": {
        "ExecuteTime": {
          "end_time": "2022-01-19T23:16:44.565625Z",
          "start_time": "2022-01-19T23:16:40.800174Z"
        },
        "colab": {
          "base_uri": "https://localhost:8080/"
        },
        "id": "6120d187",
        "outputId": "f2b44894-b0e1-48a8-dead-4521957bc474"
      },
      "outputs": [
        {
          "output_type": "stream",
          "name": "stdout",
          "text": [
            "[nltk_data] Downloading package stopwords to /root/nltk_data...\n",
            "[nltk_data]   Unzipping corpora/stopwords.zip.\n"
          ]
        }
      ],
      "source": [
        "from sklearn.feature_extraction.text import TfidfVectorizer\n",
        "import nltk\n",
        "nltk.download('stopwords')\n",
        "from nltk.corpus import stopwords"
      ]
    },
    {
      "cell_type": "code",
      "execution_count": 5,
      "id": "4bdd0d23",
      "metadata": {
        "colab": {
          "base_uri": "https://localhost:8080/"
        },
        "id": "4bdd0d23",
        "outputId": "d5d9d759-1466-4e27-9368-9c9c88f2e1e7"
      },
      "outputs": [
        {
          "output_type": "stream",
          "name": "stdout",
          "text": [
            "Mounted at /content/drive\n"
          ]
        }
      ],
      "source": [
        "from google.colab import drive\n",
        "drive.mount('/content/drive')"
      ]
    },
    {
      "cell_type": "code",
      "source": [
        "def divide(data, labels):\n",
        "    clusters = set(labels)\n",
        "    clusters_data = []\n",
        "    for cluster in clusters:\n",
        "        clusters_data.append(data[labels == cluster, :])\n",
        "    return clusters_data\n",
        "\n",
        "def get_centroids(clusters):\n",
        "    centroids = []\n",
        "    for cluster_data in clusters:\n",
        "        centroids.append(cluster_data.mean(axis=0))\n",
        "    return centroids"
      ],
      "metadata": {
        "id": "RmkSdUrn6ONZ"
      },
      "id": "RmkSdUrn6ONZ",
      "execution_count": 6,
      "outputs": []
    },
    {
      "cell_type": "code",
      "source": [
        "def cohesion(data, labels):\n",
        "    clusters = sorted(set(labels))\n",
        "    sse = 0\n",
        "    for cluster in clusters:\n",
        "        cluster_data = data[labels == cluster, :]\n",
        "        centroid = cluster_data.mean(axis = 0)\n",
        "        sse += ((cluster_data - centroid)**2).sum()\n",
        "    return sse\n",
        "\n",
        "def separation(data, labels, cohesion_score):\n",
        "    # calculate separation as SST - SSE\n",
        "    return cohesion(data, np.zeros(data.shape[0])) - cohesion_score\n",
        "\n",
        "def SST(data):\n",
        "    c = get_centroids([data])\n",
        "    return ((data - c) ** 2).sum()\n",
        "\n",
        "def SSE(clusters, centroids):\n",
        "    result = 0\n",
        "    for cluster, centroid in zip(clusters, centroids):\n",
        "        result += ((cluster - centroid) ** 2).sum()\n",
        "    return result\n",
        "\n",
        "# Clear the store before running each time\n",
        "within_cluster_dist_sum_store = {}\n",
        "def within_cluster_dist_sum(cluster, centroid, cluster_id):\n",
        "    if cluster_id in within_cluster_dist_sum_store:\n",
        "        return within_cluster_dist_sum_store[cluster_id]\n",
        "    else:\n",
        "        result = (((cluster - centroid) ** 2).sum(axis=1)**.5).sum()\n",
        "        within_cluster_dist_sum_store[cluster_id] = result\n",
        "    return result\n",
        "\n",
        "def RMSSTD(data, clusters, centroids):\n",
        "    df = data.shape[0] - len(clusters)\n",
        "    attribute_num = data.shape[1]\n",
        "    return (SSE(clusters, centroids) / (attribute_num * df)) ** .5\n",
        "\n",
        "# equal to separation / (cohesion + separation)\n",
        "def RS(data, clusters, centroids):\n",
        "    sst = SST(data)\n",
        "    sse = SSE(clusters, centroids)\n",
        "    return (sst - sse) / sst\n",
        "\n",
        "def DB_find_max_j(clusters, centroids, i):\n",
        "    max_val = 0\n",
        "    max_j = 0\n",
        "    for j in range(len(clusters)):\n",
        "        if j == i:\n",
        "            continue\n",
        "        cluster_i_stat = within_cluster_dist_sum(clusters[i], centroids[i], i) / clusters[i].shape[0]\n",
        "        cluster_j_stat = within_cluster_dist_sum(clusters[j], centroids[j], j) / clusters[j].shape[0]\n",
        "        val = (cluster_i_stat + cluster_j_stat) / (((centroids[i] - centroids[j]) ** 2).sum() ** .5)\n",
        "        if val > max_val:\n",
        "            max_val = val\n",
        "            max_j = j\n",
        "    return max_val\n",
        "\n",
        "def DB(data, clusters, centroids):\n",
        "    result = 0\n",
        "    for i in range(len(clusters)):\n",
        "        result += DB_find_max_j(clusters, centroids, i)\n",
        "    return result / len(clusters)\n",
        "\n",
        "def XB(data, clusters, centroids):\n",
        "    sse = SSE(clusters, centroids)\n",
        "    min_dist = ((centroids[0] - centroids[1]) ** 2).sum()\n",
        "    for centroid_i, centroid_j in list(product(centroids, centroids)):\n",
        "        if (centroid_i - centroid_j).sum() == 0:\n",
        "            continue\n",
        "        dist = ((centroid_i - centroid_j) ** 2).sum()\n",
        "        if dist < min_dist:\n",
        "            min_dist = dist\n",
        "    return sse / (data.shape[0] * min_dist)"
      ],
      "metadata": {
        "id": "vh49B8Vq6Sot"
      },
      "id": "vh49B8Vq6Sot",
      "execution_count": 7,
      "outputs": []
    },
    {
      "cell_type": "code",
      "source": [
        "def stat_clust(data, labels, verbose = 200, dist = True):\n",
        "  clusters = sorted(set(labels))\n",
        "  i = 0\n",
        "  n_c = len(clusters)\n",
        "  k = n_c // verbose\n",
        "\n",
        "  cluster_stat = []\n",
        "  print(datetime.utcnow().strftime('%Y-%m-%d %H:%M:%S.%f')[:-3], '|', 'Count clusters: ', n_c)\n",
        "  for cluster in clusters:\n",
        "    if verbose and (i % k == 0):\n",
        "      print(datetime.utcnow().strftime('%Y-%m-%d %H:%M:%S.%f')[:-3], '|', i,  'progress: ', round(i/ n_c, 3)*100, '%')\n",
        "    dict_c = dict()\n",
        "    cluster_data = data[labels == cluster, :]\n",
        "    centroid = cluster_data.mean(axis = 0)\n",
        "    clust_uniq = np.unique(cluster_data, axis=0)\n",
        "    count_uni = clust_uniq.shape[0]\n",
        "    dict_c['cluster'] = cluster\n",
        "    dict_c['centr_dist'] = ((cluster_data - centroid)**2).sum()\n",
        "    dict_c['count_all'] = cluster_data.shape[0]\n",
        "    dict_c['count_uniq'] = count_uni\n",
        "    #dist_nod_e = []\n",
        "    if dist:\n",
        "      min_e = 10000000\n",
        "      max_e = -1\n",
        "\n",
        "      for i in range(count_uni):\n",
        "        for j in range(i+1, count_uni):\n",
        "          dist_nod = fastdist.euclidean(clust_uniq[i], clust_uniq[j])\n",
        "          min_e = min(min_e, dist_nod)\n",
        "          max_e = max(max_e, dist_nod)\n",
        "\n",
        "      dict_c['min_euclidean'] = min_e\n",
        "      dict_c['max_euclidean'] = max_e\n",
        "\n",
        "    i += 1\n",
        "    gc.collect()\n",
        "\n",
        "    cluster_stat.append(dict_c)\n",
        "  return pd.DataFrame(cluster_stat)"
      ],
      "metadata": {
        "id": "ht-aiX7q6hhU"
      },
      "id": "ht-aiX7q6hhU",
      "execution_count": 8,
      "outputs": []
    },
    {
      "cell_type": "code",
      "source": [
        "# GridSearch results for English human texts\n",
        "list_grid_human = []\n",
        "list_grid_human.append({'cohesion': 8571.319560256108, 'separation': 12140.398810480781, 'calinski_harabaz_score': 195.9886519420432, 'RMSSTD': 0.028304474174194103, 'RS': 0.5861608676387597, 'silhouette': -0.1965591040947928, 'significance': 1000, 'neighbors': 50, 'cluster_num': 3867})\n",
        "list_grid_human.append({'cohesion': 8146.544521532364, 'separation': 12565.173849204526, 'calinski_harabaz_score': 685.8482355045229, 'RMSSTD': 0.027525935621499728, 'RS': 0.6066697907092811, 'silhouette': -0.137816160048998, 'significance': 1000, 'neighbors': 100, 'cluster_num': 1210})\n",
        "list_grid_human.append({'cohesion': 8571.319560256108, 'separation': 12140.398810480781, 'calinski_harabaz_score': 195.9886519420432, 'RMSSTD': 0.028304474174194103, 'RS': 0.5861608676387597, 'silhouette': -0.1965591040947928, 'significance': 100000, 'neighbors': 50, 'cluster_num': 3867})\n",
        "list_grid_human.append({'cohesion': 8146.544521532364, 'separation': 12565.173849204526, 'calinski_harabaz_score': 685.8482355045229, 'RMSSTD': 0.027525935621499728, 'RS': 0.6066697907092811, 'silhouette': -0.137816160048998, 'significance': 100000, 'neighbors': 100, 'cluster_num': 1210})"
      ],
      "metadata": {
        "id": "3qGzk3rrLinu"
      },
      "id": "3qGzk3rrLinu",
      "execution_count": 9,
      "outputs": []
    },
    {
      "cell_type": "code",
      "source": [
        "# GridSearch results for English bot texts\n",
        "list_grid_bot = []\n",
        "list_grid_bot.append({'cohesion': 2749.449792574569, 'separation': 5000.656659175672, 'calinski_harabaz_score': 777.6272060819349, 'RMSSTD': 0.027281668292086288, 'RS': 0.6452371577485043, 'silhouette': -0.07547212191489622, 'significance': 1000, 'neighbors': 50, 'cluster_num': 433})\n",
        "list_grid_bot.append({'cohesion': 2780.602040187679, 'separation': 4969.504411562562, 'calinski_harabaz_score': 1167.3792288173, 'RMSSTD': 0.027424728941625044, 'RS': 0.6412175681071163, 'silhouette': -0.060082838204908326, 'significance': 1000, 'neighbors': 100, 'cluster_num': 284})\n",
        "list_grid_bot.append({'cohesion': 2749.449792574569, 'separation': 5000.656659175672, 'calinski_harabaz_score': 777.6272060819349, 'RMSSTD': 0.027281668292086288, 'RS': 0.6452371577485043, 'silhouette': -0.07547212191489622, 'significance': 100000, 'neighbors': 50, 'cluster_num': 433})\n",
        "list_grid_bot.append({'cohesion': 2780.602040187679, 'separation': 4969.504411562562, 'calinski_harabaz_score': 1167.3792288173, 'RMSSTD': 0.027424728941625044, 'RS': 0.6412175681071163, 'silhouette': -0.060082838204908326, 'significance': 100000, 'neighbors': 100, 'cluster_num': 284})\n"
      ],
      "metadata": {
        "id": "ArRkXpuqLGS6"
      },
      "id": "ArRkXpuqLGS6",
      "execution_count": 10,
      "outputs": []
    },
    {
      "cell_type": "code",
      "source": [
        "list_grid_human = pd.DataFrame(list_grid_human)\n",
        "list_grid_bot = pd.DataFrame(list_grid_bot)\n"
      ],
      "metadata": {
        "id": "v5Svp1MUMrSc"
      },
      "id": "v5Svp1MUMrSc",
      "execution_count": 11,
      "outputs": []
    },
    {
      "cell_type": "code",
      "source": [
        "list_grid_human.sort_values('calinski_harabaz_score', ascending=False)"
      ],
      "metadata": {
        "colab": {
          "base_uri": "https://localhost:8080/",
          "height": 175
        },
        "id": "dYH6ooikM2PC",
        "outputId": "55881127-3e9c-4c3c-b525-1e0c27591b9e"
      },
      "id": "dYH6ooikM2PC",
      "execution_count": 12,
      "outputs": [
        {
          "output_type": "execute_result",
          "data": {
            "text/html": [
              "\n",
              "  <div id=\"df-386898e4-cac5-48dc-87ec-67061154da90\">\n",
              "    <div class=\"colab-df-container\">\n",
              "      <div>\n",
              "<style scoped>\n",
              "    .dataframe tbody tr th:only-of-type {\n",
              "        vertical-align: middle;\n",
              "    }\n",
              "\n",
              "    .dataframe tbody tr th {\n",
              "        vertical-align: top;\n",
              "    }\n",
              "\n",
              "    .dataframe thead th {\n",
              "        text-align: right;\n",
              "    }\n",
              "</style>\n",
              "<table border=\"1\" class=\"dataframe\">\n",
              "  <thead>\n",
              "    <tr style=\"text-align: right;\">\n",
              "      <th></th>\n",
              "      <th>cohesion</th>\n",
              "      <th>separation</th>\n",
              "      <th>calinski_harabaz_score</th>\n",
              "      <th>RMSSTD</th>\n",
              "      <th>RS</th>\n",
              "      <th>silhouette</th>\n",
              "      <th>significance</th>\n",
              "      <th>neighbors</th>\n",
              "      <th>cluster_num</th>\n",
              "    </tr>\n",
              "  </thead>\n",
              "  <tbody>\n",
              "    <tr>\n",
              "      <th>1</th>\n",
              "      <td>8146.544522</td>\n",
              "      <td>12565.173849</td>\n",
              "      <td>685.848236</td>\n",
              "      <td>0.027526</td>\n",
              "      <td>0.606670</td>\n",
              "      <td>-0.137816</td>\n",
              "      <td>1000</td>\n",
              "      <td>100</td>\n",
              "      <td>1210</td>\n",
              "    </tr>\n",
              "    <tr>\n",
              "      <th>3</th>\n",
              "      <td>8146.544522</td>\n",
              "      <td>12565.173849</td>\n",
              "      <td>685.848236</td>\n",
              "      <td>0.027526</td>\n",
              "      <td>0.606670</td>\n",
              "      <td>-0.137816</td>\n",
              "      <td>100000</td>\n",
              "      <td>100</td>\n",
              "      <td>1210</td>\n",
              "    </tr>\n",
              "    <tr>\n",
              "      <th>0</th>\n",
              "      <td>8571.319560</td>\n",
              "      <td>12140.398810</td>\n",
              "      <td>195.988652</td>\n",
              "      <td>0.028304</td>\n",
              "      <td>0.586161</td>\n",
              "      <td>-0.196559</td>\n",
              "      <td>1000</td>\n",
              "      <td>50</td>\n",
              "      <td>3867</td>\n",
              "    </tr>\n",
              "    <tr>\n",
              "      <th>2</th>\n",
              "      <td>8571.319560</td>\n",
              "      <td>12140.398810</td>\n",
              "      <td>195.988652</td>\n",
              "      <td>0.028304</td>\n",
              "      <td>0.586161</td>\n",
              "      <td>-0.196559</td>\n",
              "      <td>100000</td>\n",
              "      <td>50</td>\n",
              "      <td>3867</td>\n",
              "    </tr>\n",
              "  </tbody>\n",
              "</table>\n",
              "</div>\n",
              "      <button class=\"colab-df-convert\" onclick=\"convertToInteractive('df-386898e4-cac5-48dc-87ec-67061154da90')\"\n",
              "              title=\"Convert this dataframe to an interactive table.\"\n",
              "              style=\"display:none;\">\n",
              "        \n",
              "  <svg xmlns=\"http://www.w3.org/2000/svg\" height=\"24px\"viewBox=\"0 0 24 24\"\n",
              "       width=\"24px\">\n",
              "    <path d=\"M0 0h24v24H0V0z\" fill=\"none\"/>\n",
              "    <path d=\"M18.56 5.44l.94 2.06.94-2.06 2.06-.94-2.06-.94-.94-2.06-.94 2.06-2.06.94zm-11 1L8.5 8.5l.94-2.06 2.06-.94-2.06-.94L8.5 2.5l-.94 2.06-2.06.94zm10 10l.94 2.06.94-2.06 2.06-.94-2.06-.94-.94-2.06-.94 2.06-2.06.94z\"/><path d=\"M17.41 7.96l-1.37-1.37c-.4-.4-.92-.59-1.43-.59-.52 0-1.04.2-1.43.59L10.3 9.45l-7.72 7.72c-.78.78-.78 2.05 0 2.83L4 21.41c.39.39.9.59 1.41.59.51 0 1.02-.2 1.41-.59l7.78-7.78 2.81-2.81c.8-.78.8-2.07 0-2.86zM5.41 20L4 18.59l7.72-7.72 1.47 1.35L5.41 20z\"/>\n",
              "  </svg>\n",
              "      </button>\n",
              "      \n",
              "  <style>\n",
              "    .colab-df-container {\n",
              "      display:flex;\n",
              "      flex-wrap:wrap;\n",
              "      gap: 12px;\n",
              "    }\n",
              "\n",
              "    .colab-df-convert {\n",
              "      background-color: #E8F0FE;\n",
              "      border: none;\n",
              "      border-radius: 50%;\n",
              "      cursor: pointer;\n",
              "      display: none;\n",
              "      fill: #1967D2;\n",
              "      height: 32px;\n",
              "      padding: 0 0 0 0;\n",
              "      width: 32px;\n",
              "    }\n",
              "\n",
              "    .colab-df-convert:hover {\n",
              "      background-color: #E2EBFA;\n",
              "      box-shadow: 0px 1px 2px rgba(60, 64, 67, 0.3), 0px 1px 3px 1px rgba(60, 64, 67, 0.15);\n",
              "      fill: #174EA6;\n",
              "    }\n",
              "\n",
              "    [theme=dark] .colab-df-convert {\n",
              "      background-color: #3B4455;\n",
              "      fill: #D2E3FC;\n",
              "    }\n",
              "\n",
              "    [theme=dark] .colab-df-convert:hover {\n",
              "      background-color: #434B5C;\n",
              "      box-shadow: 0px 1px 3px 1px rgba(0, 0, 0, 0.15);\n",
              "      filter: drop-shadow(0px 1px 2px rgba(0, 0, 0, 0.3));\n",
              "      fill: #FFFFFF;\n",
              "    }\n",
              "  </style>\n",
              "\n",
              "      <script>\n",
              "        const buttonEl =\n",
              "          document.querySelector('#df-386898e4-cac5-48dc-87ec-67061154da90 button.colab-df-convert');\n",
              "        buttonEl.style.display =\n",
              "          google.colab.kernel.accessAllowed ? 'block' : 'none';\n",
              "\n",
              "        async function convertToInteractive(key) {\n",
              "          const element = document.querySelector('#df-386898e4-cac5-48dc-87ec-67061154da90');\n",
              "          const dataTable =\n",
              "            await google.colab.kernel.invokeFunction('convertToInteractive',\n",
              "                                                     [key], {});\n",
              "          if (!dataTable) return;\n",
              "\n",
              "          const docLinkHtml = 'Like what you see? Visit the ' +\n",
              "            '<a target=\"_blank\" href=https://colab.research.google.com/notebooks/data_table.ipynb>data table notebook</a>'\n",
              "            + ' to learn more about interactive tables.';\n",
              "          element.innerHTML = '';\n",
              "          dataTable['output_type'] = 'display_data';\n",
              "          await google.colab.output.renderOutput(dataTable, element);\n",
              "          const docLink = document.createElement('div');\n",
              "          docLink.innerHTML = docLinkHtml;\n",
              "          element.appendChild(docLink);\n",
              "        }\n",
              "      </script>\n",
              "    </div>\n",
              "  </div>\n",
              "  "
            ],
            "text/plain": [
              "      cohesion    separation  ...  neighbors  cluster_num\n",
              "1  8146.544522  12565.173849  ...        100         1210\n",
              "3  8146.544522  12565.173849  ...        100         1210\n",
              "0  8571.319560  12140.398810  ...         50         3867\n",
              "2  8571.319560  12140.398810  ...         50         3867\n",
              "\n",
              "[4 rows x 9 columns]"
            ]
          },
          "metadata": {},
          "execution_count": 12
        }
      ]
    },
    {
      "cell_type": "code",
      "source": [
        "list_grid_bot.sort_values('calinski_harabaz_score', ascending=False)"
      ],
      "metadata": {
        "colab": {
          "base_uri": "https://localhost:8080/",
          "height": 175
        },
        "id": "iLhMLroQLGdG",
        "outputId": "d66213be-5044-482a-dc38-5a94865ca996"
      },
      "id": "iLhMLroQLGdG",
      "execution_count": 13,
      "outputs": [
        {
          "output_type": "execute_result",
          "data": {
            "text/html": [
              "\n",
              "  <div id=\"df-8d3ff68f-27e1-4f8d-86ea-8c8dbcef9334\">\n",
              "    <div class=\"colab-df-container\">\n",
              "      <div>\n",
              "<style scoped>\n",
              "    .dataframe tbody tr th:only-of-type {\n",
              "        vertical-align: middle;\n",
              "    }\n",
              "\n",
              "    .dataframe tbody tr th {\n",
              "        vertical-align: top;\n",
              "    }\n",
              "\n",
              "    .dataframe thead th {\n",
              "        text-align: right;\n",
              "    }\n",
              "</style>\n",
              "<table border=\"1\" class=\"dataframe\">\n",
              "  <thead>\n",
              "    <tr style=\"text-align: right;\">\n",
              "      <th></th>\n",
              "      <th>cohesion</th>\n",
              "      <th>separation</th>\n",
              "      <th>calinski_harabaz_score</th>\n",
              "      <th>RMSSTD</th>\n",
              "      <th>RS</th>\n",
              "      <th>silhouette</th>\n",
              "      <th>significance</th>\n",
              "      <th>neighbors</th>\n",
              "      <th>cluster_num</th>\n",
              "    </tr>\n",
              "  </thead>\n",
              "  <tbody>\n",
              "    <tr>\n",
              "      <th>1</th>\n",
              "      <td>2780.602040</td>\n",
              "      <td>4969.504412</td>\n",
              "      <td>1167.379229</td>\n",
              "      <td>0.027425</td>\n",
              "      <td>0.641218</td>\n",
              "      <td>-0.060083</td>\n",
              "      <td>1000</td>\n",
              "      <td>100</td>\n",
              "      <td>284</td>\n",
              "    </tr>\n",
              "    <tr>\n",
              "      <th>3</th>\n",
              "      <td>2780.602040</td>\n",
              "      <td>4969.504412</td>\n",
              "      <td>1167.379229</td>\n",
              "      <td>0.027425</td>\n",
              "      <td>0.641218</td>\n",
              "      <td>-0.060083</td>\n",
              "      <td>100000</td>\n",
              "      <td>100</td>\n",
              "      <td>284</td>\n",
              "    </tr>\n",
              "    <tr>\n",
              "      <th>0</th>\n",
              "      <td>2749.449793</td>\n",
              "      <td>5000.656659</td>\n",
              "      <td>777.627206</td>\n",
              "      <td>0.027282</td>\n",
              "      <td>0.645237</td>\n",
              "      <td>-0.075472</td>\n",
              "      <td>1000</td>\n",
              "      <td>50</td>\n",
              "      <td>433</td>\n",
              "    </tr>\n",
              "    <tr>\n",
              "      <th>2</th>\n",
              "      <td>2749.449793</td>\n",
              "      <td>5000.656659</td>\n",
              "      <td>777.627206</td>\n",
              "      <td>0.027282</td>\n",
              "      <td>0.645237</td>\n",
              "      <td>-0.075472</td>\n",
              "      <td>100000</td>\n",
              "      <td>50</td>\n",
              "      <td>433</td>\n",
              "    </tr>\n",
              "  </tbody>\n",
              "</table>\n",
              "</div>\n",
              "      <button class=\"colab-df-convert\" onclick=\"convertToInteractive('df-8d3ff68f-27e1-4f8d-86ea-8c8dbcef9334')\"\n",
              "              title=\"Convert this dataframe to an interactive table.\"\n",
              "              style=\"display:none;\">\n",
              "        \n",
              "  <svg xmlns=\"http://www.w3.org/2000/svg\" height=\"24px\"viewBox=\"0 0 24 24\"\n",
              "       width=\"24px\">\n",
              "    <path d=\"M0 0h24v24H0V0z\" fill=\"none\"/>\n",
              "    <path d=\"M18.56 5.44l.94 2.06.94-2.06 2.06-.94-2.06-.94-.94-2.06-.94 2.06-2.06.94zm-11 1L8.5 8.5l.94-2.06 2.06-.94-2.06-.94L8.5 2.5l-.94 2.06-2.06.94zm10 10l.94 2.06.94-2.06 2.06-.94-2.06-.94-.94-2.06-.94 2.06-2.06.94z\"/><path d=\"M17.41 7.96l-1.37-1.37c-.4-.4-.92-.59-1.43-.59-.52 0-1.04.2-1.43.59L10.3 9.45l-7.72 7.72c-.78.78-.78 2.05 0 2.83L4 21.41c.39.39.9.59 1.41.59.51 0 1.02-.2 1.41-.59l7.78-7.78 2.81-2.81c.8-.78.8-2.07 0-2.86zM5.41 20L4 18.59l7.72-7.72 1.47 1.35L5.41 20z\"/>\n",
              "  </svg>\n",
              "      </button>\n",
              "      \n",
              "  <style>\n",
              "    .colab-df-container {\n",
              "      display:flex;\n",
              "      flex-wrap:wrap;\n",
              "      gap: 12px;\n",
              "    }\n",
              "\n",
              "    .colab-df-convert {\n",
              "      background-color: #E8F0FE;\n",
              "      border: none;\n",
              "      border-radius: 50%;\n",
              "      cursor: pointer;\n",
              "      display: none;\n",
              "      fill: #1967D2;\n",
              "      height: 32px;\n",
              "      padding: 0 0 0 0;\n",
              "      width: 32px;\n",
              "    }\n",
              "\n",
              "    .colab-df-convert:hover {\n",
              "      background-color: #E2EBFA;\n",
              "      box-shadow: 0px 1px 2px rgba(60, 64, 67, 0.3), 0px 1px 3px 1px rgba(60, 64, 67, 0.15);\n",
              "      fill: #174EA6;\n",
              "    }\n",
              "\n",
              "    [theme=dark] .colab-df-convert {\n",
              "      background-color: #3B4455;\n",
              "      fill: #D2E3FC;\n",
              "    }\n",
              "\n",
              "    [theme=dark] .colab-df-convert:hover {\n",
              "      background-color: #434B5C;\n",
              "      box-shadow: 0px 1px 3px 1px rgba(0, 0, 0, 0.15);\n",
              "      filter: drop-shadow(0px 1px 2px rgba(0, 0, 0, 0.3));\n",
              "      fill: #FFFFFF;\n",
              "    }\n",
              "  </style>\n",
              "\n",
              "      <script>\n",
              "        const buttonEl =\n",
              "          document.querySelector('#df-8d3ff68f-27e1-4f8d-86ea-8c8dbcef9334 button.colab-df-convert');\n",
              "        buttonEl.style.display =\n",
              "          google.colab.kernel.accessAllowed ? 'block' : 'none';\n",
              "\n",
              "        async function convertToInteractive(key) {\n",
              "          const element = document.querySelector('#df-8d3ff68f-27e1-4f8d-86ea-8c8dbcef9334');\n",
              "          const dataTable =\n",
              "            await google.colab.kernel.invokeFunction('convertToInteractive',\n",
              "                                                     [key], {});\n",
              "          if (!dataTable) return;\n",
              "\n",
              "          const docLinkHtml = 'Like what you see? Visit the ' +\n",
              "            '<a target=\"_blank\" href=https://colab.research.google.com/notebooks/data_table.ipynb>data table notebook</a>'\n",
              "            + ' to learn more about interactive tables.';\n",
              "          element.innerHTML = '';\n",
              "          dataTable['output_type'] = 'display_data';\n",
              "          await google.colab.output.renderOutput(dataTable, element);\n",
              "          const docLink = document.createElement('div');\n",
              "          docLink.innerHTML = docLinkHtml;\n",
              "          element.appendChild(docLink);\n",
              "        }\n",
              "      </script>\n",
              "    </div>\n",
              "  </div>\n",
              "  "
            ],
            "text/plain": [
              "      cohesion   separation  ...  neighbors  cluster_num\n",
              "1  2780.602040  4969.504412  ...        100          284\n",
              "3  2780.602040  4969.504412  ...        100          284\n",
              "0  2749.449793  5000.656659  ...         50          433\n",
              "2  2749.449793  5000.656659  ...         50          433\n",
              "\n",
              "[4 rows x 9 columns]"
            ]
          },
          "metadata": {},
          "execution_count": 13
        }
      ]
    },
    {
      "cell_type": "markdown",
      "source": [
        "**The Root-mean-square standard deviation (𝑅𝑀𝑆𝑆𝑇𝐷)**\n",
        "is the square root of the pooled sample variance of all the\n",
        "attributes. It measures the homogeneity of the formed\n",
        "clusters. \n",
        "\n",
        "**R-squared (𝑅𝑆) ** is the ratio of sum of squares\n",
        "between clusters to the total sum of squares of the whole data\n",
        "set. It measures the degree of difference between clusters.\n",
        "\n",
        "\n",
        "𝑅𝑀𝑆𝑆𝑇𝐷 decreases as 𝑁𝐶 increases.\n",
        "𝑅𝑆 = (𝑇𝑆𝑆 −𝑆𝑆𝐸)/𝑇 𝑆𝑆 (𝑇𝑆𝑆 - Total Sum of Squares), and 𝑇𝑆𝑆 = 𝑆𝑆𝐸 +𝑆𝑆𝐵 (𝑆𝑆𝐵 - Between group Sum of Squares) which is a constant number for a certain data set. Thus, 𝑅𝑆 increases as 𝑁𝐶 increases.\n",
        "Looking further into these two indices, we can find out that they only take either separation or compactness into account. (𝑅𝑆 only consider separation, and 𝑅𝑀𝑆𝑆𝑇𝐷 only considers compactness). As the property\n",
        "of monotonicity, the curves of 𝑅𝑀𝑆𝑆𝑇𝐷 and 𝑅𝑆 will be either upward or downward. It is claimed that the optimal cluster number is reached at the shift point of the curves.\n",
        "\n",
        "\n",
        "\n",
        "**The Calinski-Harabasz index (𝐶𝐻)** evaluates the cluster validity based on the average between- and withincluster sum of squares. The optimal cluster number is determined by maximizing the value of these indices. take a form of\n",
        "$𝐼𝑛𝑑𝑒𝑥 = (𝑎⋅ 𝑆𝑒𝑝𝑎𝑟𝑎𝑡𝑖𝑜𝑛)/(𝑏⋅ 𝐶𝑜𝑚𝑝𝑎𝑐𝑡𝑛𝑒𝑠𝑠)$, where 𝑎 and 𝑏 are weights.\n",
        "\n",
        "**The Silhouette index (𝑆)** validates the clustering performance based on the pairwise difference of betweenand within-cluster distances. In addition, the optimal cluster number is determined by maximizing the value of this index.\n",
        "\n"
      ],
      "metadata": {
        "id": "b7UdeUbPjOql"
      },
      "id": "b7UdeUbPjOql"
    },
    {
      "cell_type": "markdown",
      "source": [
        "### Permutation test\n",
        "$H_0\\colon$ median metrics are the same for human and bot.\n",
        "\n",
        "$H_1\\colon$ median metrics are not the same for human and bot."
      ],
      "metadata": {
        "id": "bt3AJNvW2n-z"
      },
      "id": "bt3AJNvW2n-z"
    },
    {
      "cell_type": "code",
      "source": [
        "def get_bootstrap_samples(x, n_resamples):\n",
        "    indices = np.random.randint(0, len(x), (n_resamples, len(x)))\n",
        "    resamples = x[indices]\n",
        "    return resamples"
      ],
      "metadata": {
        "id": "fRlqgX9s4XwN"
      },
      "id": "fRlqgX9s4XwN",
      "execution_count": 14,
      "outputs": []
    },
    {
      "cell_type": "code",
      "source": [
        "def percentile_interval(stat, alpha):\n",
        "    boundaries = np.percentile(stat, [100 * alpha / 2., 100 * (1 - alpha / 2.)])\n",
        "    return boundaries"
      ],
      "metadata": {
        "id": "dJ43vENc4YzD"
      },
      "id": "dJ43vENc4YzD",
      "execution_count": 15,
      "outputs": []
    },
    {
      "cell_type": "code",
      "source": [
        "# permutation functions for median\n",
        "\n",
        "def permutation_t_stat_2s(sample1, sample2):\n",
        "    return np.median(sample1) - np.median(sample2)\n",
        "\n",
        "def get_random_combinations(n1, n2, max_permutations):\n",
        "    index = np.array(range(n1 + n2))\n",
        "    indices = set([tuple(index)])\n",
        "    for i in range(max_permutations - 1):\n",
        "        np.random.shuffle(index)\n",
        "        indices.add(tuple(index))\n",
        "    return [(index[:n1], index[n1:]) for index in indices]\n",
        "\n",
        "def permutation_null_dist_2s(sample1, sample2, max_permutations = None):\n",
        "    pooled_sample = np.hstack((sample1, sample2))\n",
        "    n1 = len(sample1)\n",
        "    n2 = len(sample2)\n",
        "    n = n1 + n2\n",
        "    \n",
        "    if max_permutations:\n",
        "        indices = get_random_combinations(n1, n2, max_permutations)\n",
        "    else:\n",
        "        indices = [(list(index), filter(lambda i: i not in index, range(n))) \\\n",
        "                    for index in itertools.combinations(range(n), n1)]\n",
        "    \n",
        "    distr = [permutation_t_stat_2s(pooled_sample[list(i[0])], pooled_sample[list(i[1])]) \\\n",
        "             for i in indices]\n",
        "    return distr\n",
        "\n",
        "def permutation_test_2s(sample1, sample2, max_permutations = None, alternative = 'two-sided', return_distr = False):\n",
        "    if alternative not in ('two-sided', 'less', 'greater'):\n",
        "        raise ValueError(\"alternative not recognized\\n\"\n",
        "                         \"should be 'two-sided', 'less' or 'greater'\")\n",
        "    \n",
        "    t_stat = permutation_t_stat_2s(sample1, sample2)\n",
        "    \n",
        "    null_distr = permutation_null_dist_2s(sample1, sample2, max_permutations)\n",
        "    \n",
        "    if alternative == 'two-sided':\n",
        "        p = sum([1. if abs(x) >= abs(t_stat) else 0. for x in null_distr]) / len(null_distr)\n",
        "    elif alternative == 'less':\n",
        "        p = sum([1. if x <= t_stat else 0. for x in null_distr]) / len(null_distr)\n",
        "    else: # alternative == 'greater':\n",
        "        p = sum([1. if x >= t_stat else 0. for x in null_distr]) / len(null_distr)\n",
        "    \n",
        "    if return_distr:\n",
        "        return {'t': t_stat, 'p': p, 'null_distr': null_distr}\n",
        "    else:\n",
        "        return {'t': t_stat, 'p': p}"
      ],
      "metadata": {
        "id": "igr6PDxC2m3E"
      },
      "id": "igr6PDxC2m3E",
      "execution_count": 16,
      "outputs": []
    },
    {
      "cell_type": "code",
      "source": [
        "# permutation functions for mean\n",
        "\n",
        "def permutation_t_stat_2s_mean(sample1, sample2):\n",
        "    return np.mean(sample1) - np.mean(sample2)\n",
        "\n",
        "def permutation_null_dist_2s_mean(sample1, sample2, max_permutations = None):\n",
        "    pooled_sample = np.hstack((sample1, sample2))\n",
        "    n1 = len(sample1)\n",
        "    n2 = len(sample2)\n",
        "    n = n1 + n2\n",
        "    \n",
        "    if max_permutations:\n",
        "        indices = get_random_combinations(n1, n2, max_permutations)\n",
        "    else:\n",
        "        indices = [(list(index), filter(lambda i: i not in index, range(n))) \\\n",
        "                    for index in itertools.combinations(range(n), n1)]\n",
        "    \n",
        "    distr = [permutation_t_stat_2s_mean(pooled_sample[list(i[0])], pooled_sample[list(i[1])]) \\\n",
        "             for i in indices]\n",
        "    return distr\n",
        "\n",
        "def permutation_test_2s_mean(sample1, sample2, max_permutations = None, alternative = 'two-sided', return_distr = False):\n",
        "    if alternative not in ('two-sided', 'less', 'greater'):\n",
        "        raise ValueError(\"alternative not recognized\\n\"\n",
        "                         \"should be 'two-sided', 'less' or 'greater'\")\n",
        "    \n",
        "    t_stat = permutation_t_stat_2s_mean(sample1, sample2)\n",
        "    \n",
        "    null_distr = permutation_null_dist_2s_mean(sample1, sample2, max_permutations)\n",
        "    \n",
        "    if alternative == 'two-sided':\n",
        "        p = sum([1. if abs(x) >= abs(t_stat) else 0. for x in null_distr]) / len(null_distr)\n",
        "    elif alternative == 'less':\n",
        "        p = sum([1. if x <= t_stat else 0. for x in null_distr]) / len(null_distr)\n",
        "    else: # alternative == 'greater':\n",
        "        p = sum([1. if x >= t_stat else 0. for x in null_distr]) / len(null_distr)\n",
        "    \n",
        "    if return_distr:\n",
        "        return {'t': t_stat, 'p': p, 'null_distr': null_distr}\n",
        "    else:\n",
        "        return {'t': t_stat, 'p': p}"
      ],
      "metadata": {
        "id": "nwBy94N72sqn"
      },
      "id": "nwBy94N72sqn",
      "execution_count": 17,
      "outputs": []
    },
    {
      "cell_type": "markdown",
      "source": [
        "## English - check result"
      ],
      "metadata": {
        "id": "0dQ0MQxnoZep"
      },
      "id": "0dQ0MQxnoZep"
    },
    {
      "cell_type": "code",
      "source": [
        "# Figure for human texts\n",
        "\n",
        "fig, ax1 = plt.subplots()\n",
        "\n",
        "k = list_grid_human.sort_values('neighbors')\n",
        "color = 'tab:red'\n",
        "ax1.set_xlabel('neighbors')\n",
        "ax1.set_ylabel('calinski_harabaz', color=color)\n",
        "lns1 = ax1.plot(k['neighbors'], k['calinski_harabaz_score'], color=color, label = \"calinski_harabaz\")\n",
        "ax1.tick_params(axis='y', labelcolor=color)\n",
        "\n",
        "ax2 = ax1.twinx()  # instantiate a second axes that shares the same x-axis\n",
        "\n",
        "color = 'tab:blue'\n",
        "ax2.set_ylabel('silhouette', color=color)  # we already handled the x-label with ax1\n",
        "lns2 = ax2.plot(k['neighbors'], k['silhouette'], color=color, label = \"silhouette\", linestyle = ':', linewidth = 5)\n",
        "ax2.tick_params(axis='y', labelcolor=color)\n",
        "\n",
        "fig.tight_layout()  # otherwise the right y-label is slightly clipped\n",
        "plt.legend(title = \"Metrics\")\n",
        "lns = lns1+lns2\n",
        "labs = [l.get_label() for l in lns]\n",
        "ax2.legend(lns, labs, loc=0)\n",
        "plt.title(\"Internal clustering measures for human-written texts\")\n",
        "plt.show()"
      ],
      "metadata": {
        "colab": {
          "base_uri": "https://localhost:8080/",
          "height": 313
        },
        "id": "On7khAx4owmk",
        "outputId": "586f66d5-1878-4bc7-cdbc-1a1beeec9711"
      },
      "id": "On7khAx4owmk",
      "execution_count": 18,
      "outputs": [
        {
          "output_type": "display_data",
          "data": {
            "image/png": "[encoded data removed]",
            "text/plain": [
              "<Figure size 432x288 with 2 Axes>"
            ]
          },
          "metadata": {
            "needs_background": "light"
          }
        }
      ]
    },
    {
      "cell_type": "code",
      "source": [
        "# Figure for bot texts\n",
        "\n",
        "fig, ax1 = plt.subplots()\n",
        "\n",
        "k = list_grid_bot.sort_values('neighbors')\n",
        "color = 'tab:red'\n",
        "ax1.set_xlabel('neighbors')\n",
        "ax1.set_ylabel('calinski_harabaz', color=color)\n",
        "lns1 = ax1.plot(k['neighbors'], k['calinski_harabaz_score'], color=color, label = \"calinski_harabaz\")\n",
        "ax1.tick_params(axis='y', labelcolor=color)\n",
        "\n",
        "ax2 = ax1.twinx()  # instantiate a second axes that shares the same x-axis\n",
        "\n",
        "color = 'tab:blue'\n",
        "ax2.set_ylabel('silhouette', color=color)  # we already handled the x-label with ax1\n",
        "lns2 = ax2.plot(k['neighbors'], k['silhouette'], color=color, label = \"silhouette\", linestyle = ':', linewidth = 5)\n",
        "ax2.tick_params(axis='y', labelcolor=color)\n",
        "\n",
        "fig.tight_layout()  # otherwise the right y-label is slightly clipped\n",
        "plt.legend(title = \"Metrics\")\n",
        "lns = lns1+lns2\n",
        "labs = [l.get_label() for l in lns]\n",
        "ax2.legend(lns, labs, loc=0)\n",
        "plt.title(\"Internal clustering measures for human-written texts\")\n",
        "plt.show()"
      ],
      "metadata": {
        "colab": {
          "base_uri": "https://localhost:8080/",
          "height": 313
        },
        "id": "alKHiUsuPjfV",
        "outputId": "3c7ac6ff-41eb-4832-8c02-244a7a4e85af"
      },
      "id": "alKHiUsuPjfV",
      "execution_count": 19,
      "outputs": [
        {
          "output_type": "display_data",
          "data": {
            "image/png": "[encoded data removed]",
            "text/plain": [
              "<Figure size 432x288 with 2 Axes>"
            ]
          },
          "metadata": {
            "needs_background": "light"
          }
        }
      ]
    },
    {
      "cell_type": "code",
      "source": [
        "X_human = pd.read_csv('/content/drive/MyDrive/2022-01-15_Course_project/TF_IDF_clustering_en/10000_n_2gramm_human_en.csv')\n",
        "X_bot = pd.read_csv('/content/drive/MyDrive/2022-01-15_Course_project/TF_IDF_clustering_bot_en/10000_n_2gramm_bot_en.csv')"
      ],
      "metadata": {
        "id": "SLEn_tAnpiuG"
      },
      "id": "SLEn_tAnpiuG",
      "execution_count": 21,
      "outputs": []
    },
    {
      "cell_type": "code",
      "source": [
        "X_human.columns"
      ],
      "metadata": {
        "colab": {
          "base_uri": "https://localhost:8080/"
        },
        "id": "WCq4JWzJqc_Q",
        "outputId": "c1dd3fd9-6b2b-464a-8792-60a1484fbe72"
      },
      "id": "WCq4JWzJqc_Q",
      "execution_count": 22,
      "outputs": [
        {
          "output_type": "execute_result",
          "data": {
            "text/plain": [
              "Index(['Unnamed: 0', '0', '1', '2', '3', '4', '5', '6', '7', '8', '9', '10',\n",
              "       '11', '12', '13', '14', '15', '16', '17', '18', '19', 'ind', 'name',\n",
              "       'cluster_100050', 'cluster_1000100', 'cluster_10000050',\n",
              "       'cluster_100000100'],\n",
              "      dtype='object')"
            ]
          },
          "metadata": {},
          "execution_count": 22
        }
      ]
    },
    {
      "cell_type": "code",
      "source": [
        "X_bot.columns"
      ],
      "metadata": {
        "colab": {
          "base_uri": "https://localhost:8080/"
        },
        "id": "C5fvmMQWqdCM",
        "outputId": "d0752ee6-6105-439b-e6b7-03b1b6e90e18"
      },
      "id": "C5fvmMQWqdCM",
      "execution_count": 23,
      "outputs": [
        {
          "output_type": "execute_result",
          "data": {
            "text/plain": [
              "Index(['Unnamed: 0', '0', '1', '2', '3', '4', '5', '6', '7', '8', '9', '10',\n",
              "       '11', '12', '13', '14', '15', '16', '17', '18', '19', 'ind', 'name',\n",
              "       'cluster_100050', 'cluster_1000100', 'cluster_10000050',\n",
              "       'cluster_100000100'],\n",
              "      dtype='object')"
            ]
          },
          "metadata": {},
          "execution_count": 23
        }
      ]
    },
    {
      "cell_type": "code",
      "source": [
        "list_col = ['0', '1', '2', '3', '4', '5', '6', '7', '8', '9', '10', '11', '12', '13', '14', '15', '16', '17', '18', '19']"
      ],
      "metadata": {
        "id": "4a-4WCZ_qwEE"
      },
      "id": "4a-4WCZ_qwEE",
      "execution_count": 24,
      "outputs": []
    },
    {
      "cell_type": "code",
      "source": [
        "# for human texts\n",
        "en_human = stat_clust(np.array(X_human[list_col]), X_human['cluster_100000100'],  verbose = 10, dist = False )"
      ],
      "metadata": {
        "colab": {
          "base_uri": "https://localhost:8080/"
        },
        "id": "KU7V4xtIqdEc",
        "outputId": "58f0257d-b436-4a01-d57d-2be870f681e8"
      },
      "id": "KU7V4xtIqdEc",
      "execution_count": 25,
      "outputs": [
        {
          "output_type": "stream",
          "name": "stdout",
          "text": [
            "2022-01-26 00:05:57.474 | Count clusters:  1210\n",
            "2022-01-26 00:05:57.474 | 0 progress:  0.0 %\n",
            "2022-01-26 00:06:11.540 | 121 progress:  10.0 %\n",
            "2022-01-26 00:06:23.783 | 242 progress:  20.0 %\n",
            "2022-01-26 00:06:36.061 | 363 progress:  30.0 %\n",
            "2022-01-26 00:06:48.849 | 484 progress:  40.0 %\n",
            "2022-01-26 00:07:00.936 | 605 progress:  50.0 %\n",
            "2022-01-26 00:07:13.107 | 726 progress:  60.0 %\n",
            "2022-01-26 00:07:25.220 | 847 progress:  70.0 %\n",
            "2022-01-26 00:07:37.399 | 968 progress:  80.0 %\n",
            "2022-01-26 00:07:49.557 | 1089 progress:  90.0 %\n"
          ]
        }
      ]
    },
    {
      "cell_type": "code",
      "source": [
        "# for bot texts\n",
        "en_bot = stat_clust(np.array(X_bot[list_col]), X_bot['cluster_100000100'],  verbose = 10, dist = False )"
      ],
      "metadata": {
        "colab": {
          "base_uri": "https://localhost:8080/"
        },
        "id": "8jK3dTl4qrcG",
        "outputId": "cdffce5e-a7ff-44d0-c14c-6ca857d78bb3"
      },
      "id": "8jK3dTl4qrcG",
      "execution_count": 26,
      "outputs": [
        {
          "output_type": "stream",
          "name": "stdout",
          "text": [
            "2022-01-26 00:08:01.643 | Count clusters:  284\n",
            "2022-01-26 00:08:01.644 | 0 progress:  0.0 %\n",
            "2022-01-26 00:08:04.816 | 28 progress:  9.9 %\n",
            "2022-01-26 00:08:07.615 | 56 progress:  19.7 %\n",
            "2022-01-26 00:08:10.396 | 84 progress:  29.599999999999998 %\n",
            "2022-01-26 00:08:13.186 | 112 progress:  39.4 %\n",
            "2022-01-26 00:08:15.928 | 140 progress:  49.3 %\n",
            "2022-01-26 00:08:18.670 | 168 progress:  59.199999999999996 %\n",
            "2022-01-26 00:08:21.411 | 196 progress:  69.0 %\n",
            "2022-01-26 00:08:24.117 | 224 progress:  78.9 %\n",
            "2022-01-26 00:08:26.828 | 252 progress:  88.7 %\n",
            "2022-01-26 00:08:29.573 | 280 progress:  98.6 %\n"
          ]
        }
      ]
    },
    {
      "cell_type": "code",
      "source": [
        "en_human.to_csv('/content/drive/MyDrive/2022-01-15_Course_project/TF_IDF_clustering_en/10000_statistics_human_en.csv')\n",
        "en_bot.to_csv('/content/drive/MyDrive/2022-01-15_Course_project/TF_IDF_clustering_bot_en/10000_statistics_bot_en.csv')"
      ],
      "metadata": {
        "id": "4EHzfi2yQhPf"
      },
      "id": "4EHzfi2yQhPf",
      "execution_count": 27,
      "outputs": []
    },
    {
      "cell_type": "code",
      "source": [
        "plt.figure(figsize=(12,4))\n",
        "\n",
        "plt.subplot(1,2,1)\n",
        "plt.grid()\n",
        "plt.hist(en_human['count_all'].sort_values(ascending = False)[10 :], bins = 100, color = 'g')\n",
        "plt.xlabel('Human-written text')\n",
        "\n",
        "plt.subplot(1,2,2)\n",
        "plt.grid()\n",
        "plt.hist( en_bot['count_all'].sort_values(ascending = False)[5 :], bins = 100, color = 'r')\n",
        "plt.xlabel('Bot-written text');"
      ],
      "metadata": {
        "colab": {
          "base_uri": "https://localhost:8080/",
          "height": 279
        },
        "id": "_yMpLu-r3M9O",
        "outputId": "13fe03e0-73d1-41c8-8b77-a3f128bf01b4"
      },
      "id": "_yMpLu-r3M9O",
      "execution_count": 28,
      "outputs": [
        {
          "output_type": "display_data",
          "data": {
            "image/png": "[encoded data removed]",
            "text/plain": [
              "<Figure size 864x288 with 2 Axes>"
            ]
          },
          "metadata": {
            "needs_background": "light"
          }
        }
      ]
    },
    {
      "cell_type": "code",
      "source": [
        "en_human['norm_clusters'] = en_human['count_all'] / sum(en_human['count_all'])"
      ],
      "metadata": {
        "id": "gDaFJuRQRC59"
      },
      "id": "gDaFJuRQRC59",
      "execution_count": 29,
      "outputs": []
    },
    {
      "cell_type": "code",
      "source": [
        "sum(en_human['norm_clusters'])"
      ],
      "metadata": {
        "colab": {
          "base_uri": "https://localhost:8080/"
        },
        "id": "UBZlmaf2RWNR",
        "outputId": "258a6b22-501d-466c-d087-18fc1c98d39a"
      },
      "id": "UBZlmaf2RWNR",
      "execution_count": 30,
      "outputs": [
        {
          "output_type": "execute_result",
          "data": {
            "text/plain": [
              "1.0000000000000104"
            ]
          },
          "metadata": {},
          "execution_count": 30
        }
      ]
    },
    {
      "cell_type": "code",
      "source": [
        "en_bot['norm_clusters'] = en_bot['count_all'] / sum(en_bot['count_all'])"
      ],
      "metadata": {
        "id": "2TQ7zkpiRu74"
      },
      "id": "2TQ7zkpiRu74",
      "execution_count": 31,
      "outputs": []
    },
    {
      "cell_type": "code",
      "source": [
        "sum(en_bot['norm_clusters'])"
      ],
      "metadata": {
        "colab": {
          "base_uri": "https://localhost:8080/"
        },
        "id": "Kbi54BSnR0io",
        "outputId": "5ad6d7b6-30ef-4e4f-8ddd-47d7cd0efd12"
      },
      "id": "Kbi54BSnR0io",
      "execution_count": 32,
      "outputs": [
        {
          "output_type": "execute_result",
          "data": {
            "text/plain": [
              "1.0"
            ]
          },
          "metadata": {},
          "execution_count": 32
        }
      ]
    },
    {
      "cell_type": "code",
      "source": [
        "#median number of vectors in a cluster\n",
        "\n",
        "np.random.seed(0)\n",
        "\n",
        "human_median_scores = list(map(np.median, get_bootstrap_samples(np.array(en_human['norm_clusters']), 5000)))\n",
        "bot_median_scores = list(map(np.median, get_bootstrap_samples(np.array(en_bot['norm_clusters']), 5000)))\n",
        "\n",
        "print(\"95% confidence interval for average number of vectors in a cluster (Human-written):\",  percentile_interval(human_median_scores, 0.05))\n",
        "print(\"95% confidence interval for average number of vectors in a cluster (Bot-written):\",  percentile_interval(bot_median_scores, 0.05))\n",
        "print(\"Estimated difference avg number of vectors in a cluster:\", np.median(en_human['norm_clusters']) - np.median(en_bot['norm_clusters']))\n",
        "\n",
        "delta_median_scores = list(map(lambda x: x[0] - x[1], zip(human_median_scores, bot_median_scores)))\n",
        "print(\"95% confidence interval for the difference between median number of vectors in a cluster:\",  \n",
        "      percentile_interval(delta_median_scores, 0.05))"
      ],
      "metadata": {
        "colab": {
          "base_uri": "https://localhost:8080/"
        },
        "id": "u4xMZN8r4flC",
        "outputId": "97dcc999-518f-4190-c8ec-7b5dc38fc393"
      },
      "id": "u4xMZN8r4flC",
      "execution_count": 33,
      "outputs": [
        {
          "output_type": "stream",
          "name": "stdout",
          "text": [
            "95% confidence interval for average number of vectors in a cluster (Human-written): [0.00012064 0.00020137]\n",
            "95% confidence interval for average number of vectors in a cluster (Bot-written): [0.00089664 0.00115591]\n",
            "Estimated difference avg number of vectors in a cluster: -0.0008475069760659423\n",
            "95% confidence interval for the difference between median number of vectors in a cluster: [-0.00099444 -0.00072041]\n"
          ]
        }
      ]
    },
    {
      "cell_type": "code",
      "source": [
        "np.random.seed(0)\n",
        "res = permutation_test_2s(en_human['norm_clusters'], en_bot['norm_clusters'], max_permutations = 5000, return_distr = True)\n",
        "print(\"Permutation test: t = %f, p = %f\" % (res['t'], res['p']))\n",
        "print('---------------------------------------------------------------')\n",
        "\n",
        "if res['p'] < 0.05:\n",
        "  print('H0 is rejected:')\n",
        "  print('Median metrics are not the same for Human and Bot texts.')\n",
        "else:\n",
        "  print('H0 is not rejected:')\n",
        "  print('Median metrics are the same for Human and Bot texts.')\n",
        "\n",
        "print('---------------------------------------------------------------')\n"
      ],
      "metadata": {
        "colab": {
          "base_uri": "https://localhost:8080/"
        },
        "id": "iF9-dOhbowpZ",
        "outputId": "1778981e-dc00-40f3-b3ea-4f400bb618e0"
      },
      "id": "iF9-dOhbowpZ",
      "execution_count": 34,
      "outputs": [
        {
          "output_type": "stream",
          "name": "stdout",
          "text": [
            "Permutation test: t = -0.000848, p = 0.000200\n",
            "---------------------------------------------------------------\n",
            "H0 is rejected:\n",
            "Median metrics are not the same for Human and Bot texts.\n",
            "---------------------------------------------------------------\n"
          ]
        }
      ]
    },
    {
      "cell_type": "code",
      "source": [
        "# median distance to centroid\n",
        "\n",
        "np.random.seed(0)\n",
        "\n",
        "human_median_scores = list(map(np.median, get_bootstrap_samples(np.array(en_human['centr_dist']), 5000)))\n",
        "bot_median_scores = list(map(np.median, get_bootstrap_samples(np.array(en_bot['centr_dist']), 5000)))\n",
        "\n",
        "print(\"95% confidence interval for average distance to centroid in a cluster (Human-written):\",  percentile_interval(human_median_scores, 0.05))\n",
        "print(\"95% confidence interval for average distance to centroid in a cluster (Bot-written):\",  percentile_interval(bot_median_scores, 0.05))\n",
        "print(\"Estimated difference average distance to centroid in a cluster:\", np.median(en_human['centr_dist']) - np.median(en_bot['centr_dist']))\n",
        "\n",
        "delta_median_scores = list(map(lambda x: x[0] - x[1], zip(human_median_scores, bot_median_scores)))\n",
        "print(\"95% confidence interval for the difference between median distance to centroid in a cluster:\",  \n",
        "      percentile_interval(delta_median_scores, 0.05))"
      ],
      "metadata": {
        "colab": {
          "base_uri": "https://localhost:8080/"
        },
        "id": "fHk65fln6L_B",
        "outputId": "2f29fabb-1fff-452c-f6ce-b241793edfae"
      },
      "id": "fHk65fln6L_B",
      "execution_count": 35,
      "outputs": [
        {
          "output_type": "stream",
          "name": "stdout",
          "text": [
            "95% confidence interval for average distance to centroid in a cluster (Human-written): [0.0188026  0.04995215]\n",
            "95% confidence interval for average distance to centroid in a cluster (Bot-written): [0.48792405 1.169965  ]\n",
            "Estimated difference average distance to centroid in a cluster: -0.8880997337071175\n",
            "95% confidence interval for the difference between median distance to centroid in a cluster: [-1.13993149 -0.45365966]\n"
          ]
        }
      ]
    },
    {
      "cell_type": "code",
      "source": [
        "# permutation for median distance to centroid\n",
        "\n",
        "np.random.seed(0)\n",
        "res = permutation_test_2s(en_human['centr_dist'], en_bot['centr_dist'], max_permutations = 5000, return_distr = True)\n",
        "print(\"Permutation test: t = %f, p = %f\" % (res['t'], res['p']))\n",
        "\n",
        "print('---------------------------------------------------------------')\n",
        "\n",
        "if res['p'] < 0.05:\n",
        "  print('H0 is rejected:')\n",
        "  print('Median metrics are not the same for Human and Bot texts.')\n",
        "else:\n",
        "  print('H0 is not rejected:')\n",
        "  print('Median metrics are the same for Human and Bot texts.')\n",
        "\n",
        "print('---------------------------------------------------------------')"
      ],
      "metadata": {
        "colab": {
          "base_uri": "https://localhost:8080/"
        },
        "id": "LGrXirCC6MCb",
        "outputId": "a65b641a-cf9d-4745-9f25-6a6cbcd59334"
      },
      "id": "LGrXirCC6MCb",
      "execution_count": 36,
      "outputs": [
        {
          "output_type": "stream",
          "name": "stdout",
          "text": [
            "Permutation test: t = -0.888100, p = 0.000200\n",
            "---------------------------------------------------------------\n",
            "H0 is rejected:\n",
            "Median metrics are not the same for Human and Bot texts.\n",
            "---------------------------------------------------------------\n"
          ]
        }
      ]
    },
    {
      "cell_type": "code",
      "source": [
        "# distribution distance to centroid\n",
        "\n",
        "plt.figure(figsize=(12,4))\n",
        "\n",
        "plt.subplot(1,2,1)\n",
        "plt.grid()\n",
        "plt.hist(en_human['centr_dist'].sort_values(ascending = False)[10 :], bins = 100, color = 'g')\n",
        "plt.xlabel('Human-written text')\n",
        "\n",
        "plt.subplot(1,2,2)\n",
        "plt.grid()\n",
        "plt.hist(en_bot['centr_dist'].sort_values(ascending = False)[10 :], bins = 100, color = 'r')\n",
        "plt.xlabel('Bot-written text');"
      ],
      "metadata": {
        "id": "2iCceBeK6mb9",
        "colab": {
          "base_uri": "https://localhost:8080/",
          "height": 279
        },
        "outputId": "066f8dcf-7189-4ede-b9e4-cd530a1c60fc"
      },
      "id": "2iCceBeK6mb9",
      "execution_count": 37,
      "outputs": [
        {
          "output_type": "display_data",
          "data": {
            "image/png": "[encoded data removed]",
            "text/plain": [
              "<Figure size 864x288 with 2 Axes>"
            ]
          },
          "metadata": {
            "needs_background": "light"
          }
        }
      ]
    },
    {
      "cell_type": "code",
      "source": [
        "# mean distance to centroid\n",
        "np.random.seed(0)\n",
        "\n",
        "human_mean_scores = list(map(np.mean, get_bootstrap_samples(np.array(en_human['centr_dist']), 5000)))\n",
        "bot_mean_scores = list(map(np.mean, get_bootstrap_samples(np.array(en_bot['centr_dist']), 5000)))\n",
        "\n",
        "print(\"95% confidence interval for mean distance to centroid in a cluster (Human-written):\",  percentile_interval(human_mean_scores, 0.05))\n",
        "print(\"95% confidence interval for mean distance to centroid in a cluster (Bot-written):\",  percentile_interval(bot_mean_scores, 0.05))\n",
        "print(\"Estimated difference mean distance to centroid in a cluster:\", np.mean(en_human['centr_dist']) - np.mean(en_bot['centr_dist']))\n",
        "\n",
        "delta_mean_scores = list(map(lambda x: x[0] - x[1], zip(human_mean_scores, bot_mean_scores)))\n",
        "print(\"95% confidence interval for the difference between mean distance to centroid in a cluster:\",  \n",
        "      percentile_interval(delta_mean_scores, 0.05))"
      ],
      "metadata": {
        "colab": {
          "base_uri": "https://localhost:8080/"
        },
        "id": "xSMlLxzWsK_E",
        "outputId": "269b6853-59af-489b-b083-974f375150f6"
      },
      "id": "xSMlLxzWsK_E",
      "execution_count": 38,
      "outputs": [
        {
          "output_type": "stream",
          "name": "stdout",
          "text": [
            "95% confidence interval for mean distance to centroid in a cluster (Human-written): [ 0.99166893 18.08243426]\n",
            "95% confidence interval for mean distance to centroid in a cluster (Bot-written): [ 1.92570377 25.10648377]\n",
            "Estimated difference mean distance to centroid in a cluster: -3.058170831427949\n",
            "95% confidence interval for the difference between mean distance to centroid in a cluster: [-23.76091866  15.47716567]\n"
          ]
        }
      ]
    },
    {
      "cell_type": "code",
      "source": [
        "# permutation for mean distance to centroid\n",
        "\n",
        "np.random.seed(0)\n",
        "res = permutation_test_2s_mean(en_human['centr_dist'], en_bot['centr_dist'], max_permutations = 5000, return_distr = True)\n",
        "print(\"Permutation test: t = %f, p = %f\" % (res['t'], res['p']))\n",
        "\n",
        "print('---------------------------------------------------------------')\n",
        "\n",
        "if res['p'] < 0.05:\n",
        "  print('H0 is rejected:')\n",
        "  print('Median metrics are not the same for Human and Bot texts.')\n",
        "else:\n",
        "  print('H0 is not rejected:')\n",
        "  print('Median metrics are the same for Human and Bot texts.')\n",
        "\n",
        "print('---------------------------------------------------------------')"
      ],
      "metadata": {
        "colab": {
          "base_uri": "https://localhost:8080/"
        },
        "id": "YwhMyVqqsLBl",
        "outputId": "8c2e7725-3388-4f97-e855-24646268ef87"
      },
      "id": "YwhMyVqqsLBl",
      "execution_count": 39,
      "outputs": [
        {
          "output_type": "stream",
          "name": "stdout",
          "text": [
            "Permutation test: t = -3.058171, p = 0.845800\n",
            "---------------------------------------------------------------\n",
            "H0 is not rejected:\n",
            "Median metrics are the same for Human and Bot texts.\n",
            "---------------------------------------------------------------\n"
          ]
        }
      ]
    },
    {
      "cell_type": "code",
      "source": [
        ""
      ],
      "metadata": {
        "id": "autd8hVxsLEM"
      },
      "id": "autd8hVxsLEM",
      "execution_count": null,
      "outputs": []
    },
    {
      "cell_type": "code",
      "source": [
        ""
      ],
      "metadata": {
        "id": "OuwvTz66sLGx"
      },
      "id": "OuwvTz66sLGx",
      "execution_count": null,
      "outputs": []
    }
  ],
  "metadata": {
    "kernelspec": {
      "display_name": "Python 3",
      "language": "python",
      "name": "python3"
    },
    "language_info": {
      "codemirror_mode": {
        "name": "ipython",
        "version": 3
      },
      "file_extension": ".py",
      "mimetype": "text/x-python",
      "name": "python",
      "nbconvert_exporter": "python",
      "pygments_lexer": "ipython3",
      "version": "3.8.8"
    },
    "colab": {
      "name": "Comparing_clusterizations_en.ipynb",
      "provenance": [],
      "collapsed_sections": [],
      "machine_shape": "hm"
    }
  },
  "nbformat": 4,
  "nbformat_minor": 5
}