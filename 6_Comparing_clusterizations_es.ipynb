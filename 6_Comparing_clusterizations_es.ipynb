{
  "cells": [
    {
      "cell_type": "code",
      "execution_count": 1,
      "metadata": {
        "ExecuteTime": {
          "end_time": "2022-01-20T00:05:19.638787Z",
          "start_time": "2022-01-20T00:05:19.628854Z"
        },
        "colab": {
          "base_uri": "https://localhost:8080/"
        },
        "id": "cdb50c2b",
        "outputId": "c82b39f0-3dca-4778-e20e-e354b8428655"
      },
      "outputs": [
        {
          "output_type": "stream",
          "name": "stdout",
          "text": [
            "Collecting unidecode\n",
            "  Downloading Unidecode-1.3.2-py3-none-any.whl (235 kB)\n",
            "\u001b[?25l\r\u001b[K     |█▍                              | 10 kB 22.4 MB/s eta 0:00:01\r\u001b[K     |██▉                             | 20 kB 16.0 MB/s eta 0:00:01\r\u001b[K     |████▏                           | 30 kB 8.7 MB/s eta 0:00:01\r\u001b[K     |█████▋                          | 40 kB 4.6 MB/s eta 0:00:01\r\u001b[K     |███████                         | 51 kB 5.2 MB/s eta 0:00:01\r\u001b[K     |████████▍                       | 61 kB 5.7 MB/s eta 0:00:01\r\u001b[K     |█████████▊                      | 71 kB 5.6 MB/s eta 0:00:01\r\u001b[K     |███████████▏                    | 81 kB 6.2 MB/s eta 0:00:01\r\u001b[K     |████████████▌                   | 92 kB 4.9 MB/s eta 0:00:01\r\u001b[K     |██████████████                  | 102 kB 5.3 MB/s eta 0:00:01\r\u001b[K     |███████████████▎                | 112 kB 5.3 MB/s eta 0:00:01\r\u001b[K     |████████████████▊               | 122 kB 5.3 MB/s eta 0:00:01\r\u001b[K     |██████████████████              | 133 kB 5.3 MB/s eta 0:00:01\r\u001b[K     |███████████████████▌            | 143 kB 5.3 MB/s eta 0:00:01\r\u001b[K     |████████████████████▉           | 153 kB 5.3 MB/s eta 0:00:01\r\u001b[K     |██████████████████████▎         | 163 kB 5.3 MB/s eta 0:00:01\r\u001b[K     |███████████████████████▋        | 174 kB 5.3 MB/s eta 0:00:01\r\u001b[K     |█████████████████████████       | 184 kB 5.3 MB/s eta 0:00:01\r\u001b[K     |██████████████████████████▍     | 194 kB 5.3 MB/s eta 0:00:01\r\u001b[K     |███████████████████████████▉    | 204 kB 5.3 MB/s eta 0:00:01\r\u001b[K     |█████████████████████████████▏  | 215 kB 5.3 MB/s eta 0:00:01\r\u001b[K     |██████████████████████████████▋ | 225 kB 5.3 MB/s eta 0:00:01\r\u001b[K     |████████████████████████████████| 235 kB 5.3 MB/s eta 0:00:01\r\u001b[K     |████████████████████████████████| 235 kB 5.3 MB/s \n",
            "\u001b[?25hInstalling collected packages: unidecode\n",
            "Successfully installed unidecode-1.3.2\n"
          ]
        }
      ],
      "source": [
        "!pip install unidecode"
      ],
      "id": "cdb50c2b"
    },
    {
      "cell_type": "code",
      "execution_count": 2,
      "metadata": {
        "colab": {
          "base_uri": "https://localhost:8080/"
        },
        "id": "X1_n7_oWJ1BF",
        "outputId": "469cb754-6c1e-45e6-ecda-65d590e26e5f"
      },
      "outputs": [
        {
          "output_type": "stream",
          "name": "stdout",
          "text": [
            "Collecting fastdist\n",
            "  Downloading fastdist-1.1.3-py3-none-any.whl (11 kB)\n",
            "Installing collected packages: fastdist\n",
            "Successfully installed fastdist-1.1.3\n"
          ]
        }
      ],
      "source": [
        "!pip install fastdist"
      ],
      "id": "X1_n7_oWJ1BF"
    },
    {
      "cell_type": "code",
      "execution_count": 3,
      "metadata": {
        "id": "yYIiBCgzJLJL"
      },
      "outputs": [],
      "source": [
        "import numpy as np\n",
        "import pandas as pd\n",
        "import re\n",
        "import gensim\n",
        "import glob\n",
        "import os\n",
        "import pickle\n",
        "import matplotlib.pyplot as plt\n",
        "from scipy.sparse.linalg import svds\n",
        "from datetime import datetime\n",
        "import codecs\n",
        "import unidecode\n",
        "from itertools import product\n",
        "from math import log\n",
        "from sklearn.metrics import silhouette_score, silhouette_samples\n",
        "from sklearn.metrics.pairwise import pairwise_distances\n",
        "from sklearn.metrics import calinski_harabasz_score\n",
        "from scipy.spatial.distance import cityblock\n",
        "from scipy.spatial.distance import euclidean\n",
        "import gc\n",
        "from fastdist import fastdist"
      ],
      "id": "yYIiBCgzJLJL"
    },
    {
      "cell_type": "code",
      "execution_count": 4,
      "metadata": {
        "ExecuteTime": {
          "end_time": "2022-01-19T23:16:44.565625Z",
          "start_time": "2022-01-19T23:16:40.800174Z"
        },
        "colab": {
          "base_uri": "https://localhost:8080/"
        },
        "id": "6120d187",
        "outputId": "f267de7b-dbde-40ce-d2b9-db109164358d"
      },
      "outputs": [
        {
          "output_type": "stream",
          "name": "stdout",
          "text": [
            "[nltk_data] Downloading package stopwords to /root/nltk_data...\n",
            "[nltk_data]   Unzipping corpora/stopwords.zip.\n"
          ]
        }
      ],
      "source": [
        "from sklearn.feature_extraction.text import TfidfVectorizer\n",
        "import nltk\n",
        "nltk.download('stopwords')\n",
        "from nltk.corpus import stopwords"
      ],
      "id": "6120d187"
    },
    {
      "cell_type": "code",
      "execution_count": 5,
      "metadata": {
        "colab": {
          "base_uri": "https://localhost:8080/"
        },
        "id": "4bdd0d23",
        "outputId": "91c69354-49b7-47f4-9acd-b3aed053a4f2"
      },
      "outputs": [
        {
          "output_type": "stream",
          "name": "stdout",
          "text": [
            "Mounted at /content/drive\n"
          ]
        }
      ],
      "source": [
        "from google.colab import drive\n",
        "drive.mount('/content/drive')"
      ],
      "id": "4bdd0d23"
    },
    {
      "cell_type": "code",
      "execution_count": 6,
      "metadata": {
        "id": "RmkSdUrn6ONZ"
      },
      "outputs": [],
      "source": [
        "def divide(data, labels):\n",
        "    clusters = set(labels)\n",
        "    clusters_data = []\n",
        "    for cluster in clusters:\n",
        "        clusters_data.append(data[labels == cluster, :])\n",
        "    return clusters_data\n",
        "\n",
        "def get_centroids(clusters):\n",
        "    centroids = []\n",
        "    for cluster_data in clusters:\n",
        "        centroids.append(cluster_data.mean(axis=0))\n",
        "    return centroids"
      ],
      "id": "RmkSdUrn6ONZ"
    },
    {
      "cell_type": "code",
      "execution_count": 7,
      "metadata": {
        "id": "vh49B8Vq6Sot"
      },
      "outputs": [],
      "source": [
        "def cohesion(data, labels):\n",
        "    clusters = sorted(set(labels))\n",
        "    sse = 0\n",
        "    for cluster in clusters:\n",
        "        cluster_data = data[labels == cluster, :]\n",
        "        centroid = cluster_data.mean(axis = 0)\n",
        "        sse += ((cluster_data - centroid)**2).sum()\n",
        "    return sse\n",
        "\n",
        "def separation(data, labels, cohesion_score):\n",
        "    # calculate separation as SST - SSE\n",
        "    return cohesion(data, np.zeros(data.shape[0])) - cohesion_score\n",
        "\n",
        "def SST(data):\n",
        "    c = get_centroids([data])\n",
        "    return ((data - c) ** 2).sum()\n",
        "\n",
        "def SSE(clusters, centroids):\n",
        "    result = 0\n",
        "    for cluster, centroid in zip(clusters, centroids):\n",
        "        result += ((cluster - centroid) ** 2).sum()\n",
        "    return result\n",
        "\n",
        "# Clear the store before running each time\n",
        "within_cluster_dist_sum_store = {}\n",
        "def within_cluster_dist_sum(cluster, centroid, cluster_id):\n",
        "    if cluster_id in within_cluster_dist_sum_store:\n",
        "        return within_cluster_dist_sum_store[cluster_id]\n",
        "    else:\n",
        "        result = (((cluster - centroid) ** 2).sum(axis=1)**.5).sum()\n",
        "        within_cluster_dist_sum_store[cluster_id] = result\n",
        "    return result\n",
        "\n",
        "def RMSSTD(data, clusters, centroids):\n",
        "    df = data.shape[0] - len(clusters)\n",
        "    attribute_num = data.shape[1]\n",
        "    return (SSE(clusters, centroids) / (attribute_num * df)) ** .5\n",
        "\n",
        "# equal to separation / (cohesion + separation)\n",
        "def RS(data, clusters, centroids):\n",
        "    sst = SST(data)\n",
        "    sse = SSE(clusters, centroids)\n",
        "    return (sst - sse) / sst\n",
        "\n",
        "def DB_find_max_j(clusters, centroids, i):\n",
        "    max_val = 0\n",
        "    max_j = 0\n",
        "    for j in range(len(clusters)):\n",
        "        if j == i:\n",
        "            continue\n",
        "        cluster_i_stat = within_cluster_dist_sum(clusters[i], centroids[i], i) / clusters[i].shape[0]\n",
        "        cluster_j_stat = within_cluster_dist_sum(clusters[j], centroids[j], j) / clusters[j].shape[0]\n",
        "        val = (cluster_i_stat + cluster_j_stat) / (((centroids[i] - centroids[j]) ** 2).sum() ** .5)\n",
        "        if val > max_val:\n",
        "            max_val = val\n",
        "            max_j = j\n",
        "    return max_val\n",
        "\n",
        "def DB(data, clusters, centroids):\n",
        "    result = 0\n",
        "    for i in range(len(clusters)):\n",
        "        result += DB_find_max_j(clusters, centroids, i)\n",
        "    return result / len(clusters)\n",
        "\n",
        "def XB(data, clusters, centroids):\n",
        "    sse = SSE(clusters, centroids)\n",
        "    min_dist = ((centroids[0] - centroids[1]) ** 2).sum()\n",
        "    for centroid_i, centroid_j in list(product(centroids, centroids)):\n",
        "        if (centroid_i - centroid_j).sum() == 0:\n",
        "            continue\n",
        "        dist = ((centroid_i - centroid_j) ** 2).sum()\n",
        "        if dist < min_dist:\n",
        "            min_dist = dist\n",
        "    return sse / (data.shape[0] * min_dist)"
      ],
      "id": "vh49B8Vq6Sot"
    },
    {
      "cell_type": "code",
      "execution_count": 8,
      "metadata": {
        "id": "ht-aiX7q6hhU"
      },
      "outputs": [],
      "source": [
        "def stat_clust(data, labels, verbose = 200, dist = True):\n",
        "  clusters = sorted(set(labels))\n",
        "  i = 0\n",
        "  n_c = len(clusters)\n",
        "  k = n_c // verbose\n",
        "\n",
        "  cluster_stat = []\n",
        "  print(datetime.utcnow().strftime('%Y-%m-%d %H:%M:%S.%f')[:-3], '|', 'Count clusters: ', n_c)\n",
        "  for cluster in clusters:\n",
        "    if verbose and (i % k == 0):\n",
        "      print(datetime.utcnow().strftime('%Y-%m-%d %H:%M:%S.%f')[:-3], '|', i,  'progress: ', round(i/ n_c, 3)*100, '%')\n",
        "    dict_c = dict()\n",
        "    cluster_data = data[labels == cluster, :]\n",
        "    centroid = cluster_data.mean(axis = 0)\n",
        "    clust_uniq = np.unique(cluster_data, axis=0)\n",
        "    count_uni = clust_uniq.shape[0]\n",
        "    dict_c['cluster'] = cluster\n",
        "    dict_c['centr_dist'] = ((cluster_data - centroid)**2).sum()\n",
        "    dict_c['count_all'] = cluster_data.shape[0]\n",
        "    dict_c['count_uniq'] = count_uni\n",
        "    #dist_nod_e = []\n",
        "    if dist:\n",
        "      min_e = 10000000\n",
        "      max_e = -1\n",
        "\n",
        "      for i in range(count_uni):\n",
        "        for j in range(i+1, count_uni):\n",
        "          dist_nod = fastdist.euclidean(clust_uniq[i], clust_uniq[j])\n",
        "          min_e = min(min_e, dist_nod)\n",
        "          max_e = max(max_e, dist_nod)\n",
        "\n",
        "      dict_c['min_euclidean'] = min_e\n",
        "      dict_c['max_euclidean'] = max_e\n",
        "\n",
        "    i += 1\n",
        "    gc.collect()\n",
        "\n",
        "    cluster_stat.append(dict_c)\n",
        "  return pd.DataFrame(cluster_stat)"
      ],
      "id": "ht-aiX7q6hhU"
    },
    {
      "cell_type": "code",
      "execution_count": 9,
      "metadata": {
        "id": "3qGzk3rrLinu"
      },
      "outputs": [],
      "source": [
        "# GridSearch results for Spanish human texts\n",
        "list_grid_human = []\n",
        "list_grid_human.append({'cohesion': 7278.732416123747, 'separation': 9101.393870913587, 'calinski_harabaz_score': 51.00766138842628, 'RMSSTD': 0.029878003793378453, 'RS': 0.5556363675972461, 'silhouette': -0.1434336072414732, 'significance': 1000, 'neighbors': 50, 'cluster_num': 9995})\n",
        "list_grid_human.append({'cohesion': 6088.561072503637, 'separation': 10291.565214533697, 'calinski_harabaz_score': 482.53757928932913, 'RMSSTD': 0.0270446512086672, 'RS': 0.628295840593005, 'silhouette': -0.057449611249742, 'significance': 1000, 'neighbors': 100, 'cluster_num': 1459})\n",
        "list_grid_human.append({'cohesion': 7278.732416123747, 'separation': 9101.393870913587, 'calinski_harabaz_score': 51.00766138842628, 'RMSSTD': 0.029878003793378453, 'RS': 0.5556363675972461, 'silhouette': -0.1434336072414732, 'significance': 100000, 'neighbors': 50, 'cluster_num': 9995})\n",
        "list_grid_human.append({'cohesion': 6088.561072503637, 'separation': 10291.565214533697, 'calinski_harabaz_score': 482.53757928932913, 'RMSSTD': 0.0270446512086672, 'RS': 0.628295840593005, 'silhouette': -0.057449611249742, 'significance': 100000, 'neighbors': 100, 'cluster_num': 1459})"
      ],
      "id": "3qGzk3rrLinu"
    },
    {
      "cell_type": "code",
      "source": [
        "# GridSearch results for NEW Spanish bot texts\n",
        "list_grid_bot = []\n",
        "list_grid_bot.append({'cohesion': 14485.81831072765, 'separation': 15821.372948615282, 'calinski_harabaz_score': None, 'RMSSTD': 0.039203958053728054, 'RS': 0.522033626053617, 'silhouette': None, 'significance': 1000, 'neighbors': 50, 'cluster_num': 133015})\n",
        "list_grid_bot.append({'cohesion': 14226.32451029995, 'separation': 16080.866749042983, 'calinski_harabaz_score': None, 'RMSSTD': 0.03703666307936679, 'RS': 0.5305957457897277, 'silhouette': None, 'significance': 1000, 'neighbors': 100, 'cluster_num': 85707})\n",
        "list_grid_bot.append({'cohesion': 14485.81831072765, 'separation': 15821.372948615282, 'calinski_harabaz_score': None, 'RMSSTD': 0.039203958053728054, 'RS': 0.522033626053617, 'silhouette': None, 'significance': 100000, 'neighbors': 50, 'cluster_num': 133015})\n",
        "list_grid_bot.append({'cohesion': 14230.40270015136, 'separation': 16076.788559191573, 'calinski_harabaz_score': None, 'RMSSTD': 0.03704193554105013, 'RS': 0.53046118400152, 'silhouette': None, 'significance': 100000, 'neighbors': 100, 'cluster_num': 85706})"
      ],
      "metadata": {
        "id": "aADUZk8OhGN_"
      },
      "id": "aADUZk8OhGN_",
      "execution_count": 10,
      "outputs": []
    },
    {
      "cell_type": "code",
      "execution_count": 11,
      "metadata": {
        "id": "v5Svp1MUMrSc"
      },
      "outputs": [],
      "source": [
        "list_grid_human = pd.DataFrame(list_grid_human)\n",
        "list_grid_bot = pd.DataFrame(list_grid_bot)\n"
      ],
      "id": "v5Svp1MUMrSc"
    },
    {
      "cell_type": "code",
      "execution_count": 12,
      "metadata": {
        "colab": {
          "base_uri": "https://localhost:8080/",
          "height": 175
        },
        "id": "dYH6ooikM2PC",
        "outputId": "2f5bca01-c2fc-40ef-d4a5-471b46b2abb8"
      },
      "outputs": [
        {
          "output_type": "execute_result",
          "data": {
            "text/html": [
              "\n",
              "  <div id=\"df-c6b134b5-f656-4f66-a2d8-d181739b416b\">\n",
              "    <div class=\"colab-df-container\">\n",
              "      <div>\n",
              "<style scoped>\n",
              "    .dataframe tbody tr th:only-of-type {\n",
              "        vertical-align: middle;\n",
              "    }\n",
              "\n",
              "    .dataframe tbody tr th {\n",
              "        vertical-align: top;\n",
              "    }\n",
              "\n",
              "    .dataframe thead th {\n",
              "        text-align: right;\n",
              "    }\n",
              "</style>\n",
              "<table border=\"1\" class=\"dataframe\">\n",
              "  <thead>\n",
              "    <tr style=\"text-align: right;\">\n",
              "      <th></th>\n",
              "      <th>cohesion</th>\n",
              "      <th>separation</th>\n",
              "      <th>calinski_harabaz_score</th>\n",
              "      <th>RMSSTD</th>\n",
              "      <th>RS</th>\n",
              "      <th>silhouette</th>\n",
              "      <th>significance</th>\n",
              "      <th>neighbors</th>\n",
              "      <th>cluster_num</th>\n",
              "    </tr>\n",
              "  </thead>\n",
              "  <tbody>\n",
              "    <tr>\n",
              "      <th>1</th>\n",
              "      <td>6088.561073</td>\n",
              "      <td>10291.565215</td>\n",
              "      <td>482.537579</td>\n",
              "      <td>0.027045</td>\n",
              "      <td>0.628296</td>\n",
              "      <td>-0.057450</td>\n",
              "      <td>1000</td>\n",
              "      <td>100</td>\n",
              "      <td>1459</td>\n",
              "    </tr>\n",
              "    <tr>\n",
              "      <th>3</th>\n",
              "      <td>6088.561073</td>\n",
              "      <td>10291.565215</td>\n",
              "      <td>482.537579</td>\n",
              "      <td>0.027045</td>\n",
              "      <td>0.628296</td>\n",
              "      <td>-0.057450</td>\n",
              "      <td>100000</td>\n",
              "      <td>100</td>\n",
              "      <td>1459</td>\n",
              "    </tr>\n",
              "    <tr>\n",
              "      <th>0</th>\n",
              "      <td>7278.732416</td>\n",
              "      <td>9101.393871</td>\n",
              "      <td>51.007661</td>\n",
              "      <td>0.029878</td>\n",
              "      <td>0.555636</td>\n",
              "      <td>-0.143434</td>\n",
              "      <td>1000</td>\n",
              "      <td>50</td>\n",
              "      <td>9995</td>\n",
              "    </tr>\n",
              "    <tr>\n",
              "      <th>2</th>\n",
              "      <td>7278.732416</td>\n",
              "      <td>9101.393871</td>\n",
              "      <td>51.007661</td>\n",
              "      <td>0.029878</td>\n",
              "      <td>0.555636</td>\n",
              "      <td>-0.143434</td>\n",
              "      <td>100000</td>\n",
              "      <td>50</td>\n",
              "      <td>9995</td>\n",
              "    </tr>\n",
              "  </tbody>\n",
              "</table>\n",
              "</div>\n",
              "      <button class=\"colab-df-convert\" onclick=\"convertToInteractive('df-c6b134b5-f656-4f66-a2d8-d181739b416b')\"\n",
              "              title=\"Convert this dataframe to an interactive table.\"\n",
              "              style=\"display:none;\">\n",
              "        \n",
              "  <svg xmlns=\"http://www.w3.org/2000/svg\" height=\"24px\"viewBox=\"0 0 24 24\"\n",
              "       width=\"24px\">\n",
              "    <path d=\"M0 0h24v24H0V0z\" fill=\"none\"/>\n",
              "    <path d=\"M18.56 5.44l.94 2.06.94-2.06 2.06-.94-2.06-.94-.94-2.06-.94 2.06-2.06.94zm-11 1L8.5 8.5l.94-2.06 2.06-.94-2.06-.94L8.5 2.5l-.94 2.06-2.06.94zm10 10l.94 2.06.94-2.06 2.06-.94-2.06-.94-.94-2.06-.94 2.06-2.06.94z\"/><path d=\"M17.41 7.96l-1.37-1.37c-.4-.4-.92-.59-1.43-.59-.52 0-1.04.2-1.43.59L10.3 9.45l-7.72 7.72c-.78.78-.78 2.05 0 2.83L4 21.41c.39.39.9.59 1.41.59.51 0 1.02-.2 1.41-.59l7.78-7.78 2.81-2.81c.8-.78.8-2.07 0-2.86zM5.41 20L4 18.59l7.72-7.72 1.47 1.35L5.41 20z\"/>\n",
              "  </svg>\n",
              "      </button>\n",
              "      \n",
              "  <style>\n",
              "    .colab-df-container {\n",
              "      display:flex;\n",
              "      flex-wrap:wrap;\n",
              "      gap: 12px;\n",
              "    }\n",
              "\n",
              "    .colab-df-convert {\n",
              "      background-color: #E8F0FE;\n",
              "      border: none;\n",
              "      border-radius: 50%;\n",
              "      cursor: pointer;\n",
              "      display: none;\n",
              "      fill: #1967D2;\n",
              "      height: 32px;\n",
              "      padding: 0 0 0 0;\n",
              "      width: 32px;\n",
              "    }\n",
              "\n",
              "    .colab-df-convert:hover {\n",
              "      background-color: #E2EBFA;\n",
              "      box-shadow: 0px 1px 2px rgba(60, 64, 67, 0.3), 0px 1px 3px 1px rgba(60, 64, 67, 0.15);\n",
              "      fill: #174EA6;\n",
              "    }\n",
              "\n",
              "    [theme=dark] .colab-df-convert {\n",
              "      background-color: #3B4455;\n",
              "      fill: #D2E3FC;\n",
              "    }\n",
              "\n",
              "    [theme=dark] .colab-df-convert:hover {\n",
              "      background-color: #434B5C;\n",
              "      box-shadow: 0px 1px 3px 1px rgba(0, 0, 0, 0.15);\n",
              "      filter: drop-shadow(0px 1px 2px rgba(0, 0, 0, 0.3));\n",
              "      fill: #FFFFFF;\n",
              "    }\n",
              "  </style>\n",
              "\n",
              "      <script>\n",
              "        const buttonEl =\n",
              "          document.querySelector('#df-c6b134b5-f656-4f66-a2d8-d181739b416b button.colab-df-convert');\n",
              "        buttonEl.style.display =\n",
              "          google.colab.kernel.accessAllowed ? 'block' : 'none';\n",
              "\n",
              "        async function convertToInteractive(key) {\n",
              "          const element = document.querySelector('#df-c6b134b5-f656-4f66-a2d8-d181739b416b');\n",
              "          const dataTable =\n",
              "            await google.colab.kernel.invokeFunction('convertToInteractive',\n",
              "                                                     [key], {});\n",
              "          if (!dataTable) return;\n",
              "\n",
              "          const docLinkHtml = 'Like what you see? Visit the ' +\n",
              "            '<a target=\"_blank\" href=https://colab.research.google.com/notebooks/data_table.ipynb>data table notebook</a>'\n",
              "            + ' to learn more about interactive tables.';\n",
              "          element.innerHTML = '';\n",
              "          dataTable['output_type'] = 'display_data';\n",
              "          await google.colab.output.renderOutput(dataTable, element);\n",
              "          const docLink = document.createElement('div');\n",
              "          docLink.innerHTML = docLinkHtml;\n",
              "          element.appendChild(docLink);\n",
              "        }\n",
              "      </script>\n",
              "    </div>\n",
              "  </div>\n",
              "  "
            ],
            "text/plain": [
              "      cohesion    separation  ...  neighbors  cluster_num\n",
              "1  6088.561073  10291.565215  ...        100         1459\n",
              "3  6088.561073  10291.565215  ...        100         1459\n",
              "0  7278.732416   9101.393871  ...         50         9995\n",
              "2  7278.732416   9101.393871  ...         50         9995\n",
              "\n",
              "[4 rows x 9 columns]"
            ]
          },
          "metadata": {},
          "execution_count": 12
        }
      ],
      "source": [
        "list_grid_human.sort_values('calinski_harabaz_score', ascending=False)"
      ],
      "id": "dYH6ooikM2PC"
    },
    {
      "cell_type": "code",
      "execution_count": 13,
      "metadata": {
        "colab": {
          "base_uri": "https://localhost:8080/",
          "height": 175
        },
        "id": "iLhMLroQLGdG",
        "outputId": "10789f8b-2421-469f-d584-7813d740e856"
      },
      "outputs": [
        {
          "output_type": "execute_result",
          "data": {
            "text/html": [
              "\n",
              "  <div id=\"df-4749d027-e9f0-4aad-8e2a-370dcecbb3d6\">\n",
              "    <div class=\"colab-df-container\">\n",
              "      <div>\n",
              "<style scoped>\n",
              "    .dataframe tbody tr th:only-of-type {\n",
              "        vertical-align: middle;\n",
              "    }\n",
              "\n",
              "    .dataframe tbody tr th {\n",
              "        vertical-align: top;\n",
              "    }\n",
              "\n",
              "    .dataframe thead th {\n",
              "        text-align: right;\n",
              "    }\n",
              "</style>\n",
              "<table border=\"1\" class=\"dataframe\">\n",
              "  <thead>\n",
              "    <tr style=\"text-align: right;\">\n",
              "      <th></th>\n",
              "      <th>cohesion</th>\n",
              "      <th>separation</th>\n",
              "      <th>calinski_harabaz_score</th>\n",
              "      <th>RMSSTD</th>\n",
              "      <th>RS</th>\n",
              "      <th>silhouette</th>\n",
              "      <th>significance</th>\n",
              "      <th>neighbors</th>\n",
              "      <th>cluster_num</th>\n",
              "    </tr>\n",
              "  </thead>\n",
              "  <tbody>\n",
              "    <tr>\n",
              "      <th>0</th>\n",
              "      <td>14485.818311</td>\n",
              "      <td>15821.372949</td>\n",
              "      <td>None</td>\n",
              "      <td>0.039204</td>\n",
              "      <td>0.522034</td>\n",
              "      <td>None</td>\n",
              "      <td>1000</td>\n",
              "      <td>50</td>\n",
              "      <td>133015</td>\n",
              "    </tr>\n",
              "    <tr>\n",
              "      <th>1</th>\n",
              "      <td>14226.324510</td>\n",
              "      <td>16080.866749</td>\n",
              "      <td>None</td>\n",
              "      <td>0.037037</td>\n",
              "      <td>0.530596</td>\n",
              "      <td>None</td>\n",
              "      <td>1000</td>\n",
              "      <td>100</td>\n",
              "      <td>85707</td>\n",
              "    </tr>\n",
              "    <tr>\n",
              "      <th>2</th>\n",
              "      <td>14485.818311</td>\n",
              "      <td>15821.372949</td>\n",
              "      <td>None</td>\n",
              "      <td>0.039204</td>\n",
              "      <td>0.522034</td>\n",
              "      <td>None</td>\n",
              "      <td>100000</td>\n",
              "      <td>50</td>\n",
              "      <td>133015</td>\n",
              "    </tr>\n",
              "    <tr>\n",
              "      <th>3</th>\n",
              "      <td>14230.402700</td>\n",
              "      <td>16076.788559</td>\n",
              "      <td>None</td>\n",
              "      <td>0.037042</td>\n",
              "      <td>0.530461</td>\n",
              "      <td>None</td>\n",
              "      <td>100000</td>\n",
              "      <td>100</td>\n",
              "      <td>85706</td>\n",
              "    </tr>\n",
              "  </tbody>\n",
              "</table>\n",
              "</div>\n",
              "      <button class=\"colab-df-convert\" onclick=\"convertToInteractive('df-4749d027-e9f0-4aad-8e2a-370dcecbb3d6')\"\n",
              "              title=\"Convert this dataframe to an interactive table.\"\n",
              "              style=\"display:none;\">\n",
              "        \n",
              "  <svg xmlns=\"http://www.w3.org/2000/svg\" height=\"24px\"viewBox=\"0 0 24 24\"\n",
              "       width=\"24px\">\n",
              "    <path d=\"M0 0h24v24H0V0z\" fill=\"none\"/>\n",
              "    <path d=\"M18.56 5.44l.94 2.06.94-2.06 2.06-.94-2.06-.94-.94-2.06-.94 2.06-2.06.94zm-11 1L8.5 8.5l.94-2.06 2.06-.94-2.06-.94L8.5 2.5l-.94 2.06-2.06.94zm10 10l.94 2.06.94-2.06 2.06-.94-2.06-.94-.94-2.06-.94 2.06-2.06.94z\"/><path d=\"M17.41 7.96l-1.37-1.37c-.4-.4-.92-.59-1.43-.59-.52 0-1.04.2-1.43.59L10.3 9.45l-7.72 7.72c-.78.78-.78 2.05 0 2.83L4 21.41c.39.39.9.59 1.41.59.51 0 1.02-.2 1.41-.59l7.78-7.78 2.81-2.81c.8-.78.8-2.07 0-2.86zM5.41 20L4 18.59l7.72-7.72 1.47 1.35L5.41 20z\"/>\n",
              "  </svg>\n",
              "      </button>\n",
              "      \n",
              "  <style>\n",
              "    .colab-df-container {\n",
              "      display:flex;\n",
              "      flex-wrap:wrap;\n",
              "      gap: 12px;\n",
              "    }\n",
              "\n",
              "    .colab-df-convert {\n",
              "      background-color: #E8F0FE;\n",
              "      border: none;\n",
              "      border-radius: 50%;\n",
              "      cursor: pointer;\n",
              "      display: none;\n",
              "      fill: #1967D2;\n",
              "      height: 32px;\n",
              "      padding: 0 0 0 0;\n",
              "      width: 32px;\n",
              "    }\n",
              "\n",
              "    .colab-df-convert:hover {\n",
              "      background-color: #E2EBFA;\n",
              "      box-shadow: 0px 1px 2px rgba(60, 64, 67, 0.3), 0px 1px 3px 1px rgba(60, 64, 67, 0.15);\n",
              "      fill: #174EA6;\n",
              "    }\n",
              "\n",
              "    [theme=dark] .colab-df-convert {\n",
              "      background-color: #3B4455;\n",
              "      fill: #D2E3FC;\n",
              "    }\n",
              "\n",
              "    [theme=dark] .colab-df-convert:hover {\n",
              "      background-color: #434B5C;\n",
              "      box-shadow: 0px 1px 3px 1px rgba(0, 0, 0, 0.15);\n",
              "      filter: drop-shadow(0px 1px 2px rgba(0, 0, 0, 0.3));\n",
              "      fill: #FFFFFF;\n",
              "    }\n",
              "  </style>\n",
              "\n",
              "      <script>\n",
              "        const buttonEl =\n",
              "          document.querySelector('#df-4749d027-e9f0-4aad-8e2a-370dcecbb3d6 button.colab-df-convert');\n",
              "        buttonEl.style.display =\n",
              "          google.colab.kernel.accessAllowed ? 'block' : 'none';\n",
              "\n",
              "        async function convertToInteractive(key) {\n",
              "          const element = document.querySelector('#df-4749d027-e9f0-4aad-8e2a-370dcecbb3d6');\n",
              "          const dataTable =\n",
              "            await google.colab.kernel.invokeFunction('convertToInteractive',\n",
              "                                                     [key], {});\n",
              "          if (!dataTable) return;\n",
              "\n",
              "          const docLinkHtml = 'Like what you see? Visit the ' +\n",
              "            '<a target=\"_blank\" href=https://colab.research.google.com/notebooks/data_table.ipynb>data table notebook</a>'\n",
              "            + ' to learn more about interactive tables.';\n",
              "          element.innerHTML = '';\n",
              "          dataTable['output_type'] = 'display_data';\n",
              "          await google.colab.output.renderOutput(dataTable, element);\n",
              "          const docLink = document.createElement('div');\n",
              "          docLink.innerHTML = docLinkHtml;\n",
              "          element.appendChild(docLink);\n",
              "        }\n",
              "      </script>\n",
              "    </div>\n",
              "  </div>\n",
              "  "
            ],
            "text/plain": [
              "       cohesion    separation  ... neighbors  cluster_num\n",
              "0  14485.818311  15821.372949  ...        50       133015\n",
              "1  14226.324510  16080.866749  ...       100        85707\n",
              "2  14485.818311  15821.372949  ...        50       133015\n",
              "3  14230.402700  16076.788559  ...       100        85706\n",
              "\n",
              "[4 rows x 9 columns]"
            ]
          },
          "metadata": {},
          "execution_count": 13
        }
      ],
      "source": [
        "list_grid_bot.sort_values('calinski_harabaz_score', ascending=False)"
      ],
      "id": "iLhMLroQLGdG"
    },
    {
      "cell_type": "code",
      "execution_count": 14,
      "metadata": {
        "id": "o4Eo6tdfczFT"
      },
      "outputs": [],
      "source": [
        "X_human = pd.read_csv('/content/drive/MyDrive/2022-01-15_Course_project/TF_IDF_clustering_es/10000_n_2gramm_human_es.csv')\n",
        "X_bot = pd.read_csv('/content/drive/MyDrive/2022-01-15_Course_project/new_TF_IDF_clustering_bot_es/n_2gramm_bot_es.csv')"
      ],
      "id": "o4Eo6tdfczFT"
    },
    {
      "cell_type": "code",
      "execution_count": 15,
      "metadata": {
        "id": "mwQJ25GIdboc"
      },
      "outputs": [],
      "source": [
        "list_col = ['0', '1', '2', '3', '4', '5', '6', '7', '8', '9', '10', '11', '12', '13', '14', '15', '16', '17', '18', '19']"
      ],
      "id": "mwQJ25GIdboc"
    },
    {
      "cell_type": "code",
      "execution_count": 16,
      "metadata": {
        "id": "OdKO-5h-Z3wm"
      },
      "outputs": [],
      "source": [
        "# Calculating 'calinski_harabaz_score' for bot texts\n",
        "\n",
        "from sklearn.metrics import calinski_harabasz_score\n",
        "\n",
        "for sig in list_grid_bot['significance']:\n",
        "  for nei in list_grid_bot['neighbors']:\n",
        "    idx = list_grid_bot[(list_grid_bot['significance'] == sig) & (list_grid_bot['neighbors'] == nei)].index\n",
        "    name_col = 'cluster_' + str(sig) + str(nei)\n",
        "    list_grid_bot.at[idx, 'calinski_harabaz_score'] = calinski_harabasz_score(np.array(X_bot[list_col]), X_bot[name_col])\n"
      ],
      "id": "OdKO-5h-Z3wm"
    },
    {
      "cell_type": "code",
      "source": [
        "list_grid_bot.sort_values('calinski_harabaz_score', ascending=False)"
      ],
      "metadata": {
        "colab": {
          "base_uri": "https://localhost:8080/",
          "height": 175
        },
        "id": "H9m-zz7W8mJL",
        "outputId": "f3519f08-4fde-4316-fd22-d977b3c59195"
      },
      "id": "H9m-zz7W8mJL",
      "execution_count": 17,
      "outputs": [
        {
          "output_type": "execute_result",
          "data": {
            "text/html": [
              "\n",
              "  <div id=\"df-6f26a739-f22e-401b-a963-f909eba4c91f\">\n",
              "    <div class=\"colab-df-container\">\n",
              "      <div>\n",
              "<style scoped>\n",
              "    .dataframe tbody tr th:only-of-type {\n",
              "        vertical-align: middle;\n",
              "    }\n",
              "\n",
              "    .dataframe tbody tr th {\n",
              "        vertical-align: top;\n",
              "    }\n",
              "\n",
              "    .dataframe thead th {\n",
              "        text-align: right;\n",
              "    }\n",
              "</style>\n",
              "<table border=\"1\" class=\"dataframe\">\n",
              "  <thead>\n",
              "    <tr style=\"text-align: right;\">\n",
              "      <th></th>\n",
              "      <th>cohesion</th>\n",
              "      <th>separation</th>\n",
              "      <th>calinski_harabaz_score</th>\n",
              "      <th>RMSSTD</th>\n",
              "      <th>RS</th>\n",
              "      <th>silhouette</th>\n",
              "      <th>significance</th>\n",
              "      <th>neighbors</th>\n",
              "      <th>cluster_num</th>\n",
              "    </tr>\n",
              "  </thead>\n",
              "  <tbody>\n",
              "    <tr>\n",
              "      <th>1</th>\n",
              "      <td>14226.324510</td>\n",
              "      <td>16080.866749</td>\n",
              "      <td>6.83919</td>\n",
              "      <td>0.037037</td>\n",
              "      <td>0.530596</td>\n",
              "      <td>None</td>\n",
              "      <td>1000</td>\n",
              "      <td>100</td>\n",
              "      <td>85707</td>\n",
              "    </tr>\n",
              "    <tr>\n",
              "      <th>3</th>\n",
              "      <td>14230.402700</td>\n",
              "      <td>16076.788559</td>\n",
              "      <td>6.83559</td>\n",
              "      <td>0.037042</td>\n",
              "      <td>0.530461</td>\n",
              "      <td>None</td>\n",
              "      <td>100000</td>\n",
              "      <td>100</td>\n",
              "      <td>85706</td>\n",
              "    </tr>\n",
              "    <tr>\n",
              "      <th>0</th>\n",
              "      <td>14485.818311</td>\n",
              "      <td>15821.372949</td>\n",
              "      <td>3.86952</td>\n",
              "      <td>0.039204</td>\n",
              "      <td>0.522034</td>\n",
              "      <td>None</td>\n",
              "      <td>1000</td>\n",
              "      <td>50</td>\n",
              "      <td>133015</td>\n",
              "    </tr>\n",
              "    <tr>\n",
              "      <th>2</th>\n",
              "      <td>14485.818311</td>\n",
              "      <td>15821.372949</td>\n",
              "      <td>3.86952</td>\n",
              "      <td>0.039204</td>\n",
              "      <td>0.522034</td>\n",
              "      <td>None</td>\n",
              "      <td>100000</td>\n",
              "      <td>50</td>\n",
              "      <td>133015</td>\n",
              "    </tr>\n",
              "  </tbody>\n",
              "</table>\n",
              "</div>\n",
              "      <button class=\"colab-df-convert\" onclick=\"convertToInteractive('df-6f26a739-f22e-401b-a963-f909eba4c91f')\"\n",
              "              title=\"Convert this dataframe to an interactive table.\"\n",
              "              style=\"display:none;\">\n",
              "        \n",
              "  <svg xmlns=\"http://www.w3.org/2000/svg\" height=\"24px\"viewBox=\"0 0 24 24\"\n",
              "       width=\"24px\">\n",
              "    <path d=\"M0 0h24v24H0V0z\" fill=\"none\"/>\n",
              "    <path d=\"M18.56 5.44l.94 2.06.94-2.06 2.06-.94-2.06-.94-.94-2.06-.94 2.06-2.06.94zm-11 1L8.5 8.5l.94-2.06 2.06-.94-2.06-.94L8.5 2.5l-.94 2.06-2.06.94zm10 10l.94 2.06.94-2.06 2.06-.94-2.06-.94-.94-2.06-.94 2.06-2.06.94z\"/><path d=\"M17.41 7.96l-1.37-1.37c-.4-.4-.92-.59-1.43-.59-.52 0-1.04.2-1.43.59L10.3 9.45l-7.72 7.72c-.78.78-.78 2.05 0 2.83L4 21.41c.39.39.9.59 1.41.59.51 0 1.02-.2 1.41-.59l7.78-7.78 2.81-2.81c.8-.78.8-2.07 0-2.86zM5.41 20L4 18.59l7.72-7.72 1.47 1.35L5.41 20z\"/>\n",
              "  </svg>\n",
              "      </button>\n",
              "      \n",
              "  <style>\n",
              "    .colab-df-container {\n",
              "      display:flex;\n",
              "      flex-wrap:wrap;\n",
              "      gap: 12px;\n",
              "    }\n",
              "\n",
              "    .colab-df-convert {\n",
              "      background-color: #E8F0FE;\n",
              "      border: none;\n",
              "      border-radius: 50%;\n",
              "      cursor: pointer;\n",
              "      display: none;\n",
              "      fill: #1967D2;\n",
              "      height: 32px;\n",
              "      padding: 0 0 0 0;\n",
              "      width: 32px;\n",
              "    }\n",
              "\n",
              "    .colab-df-convert:hover {\n",
              "      background-color: #E2EBFA;\n",
              "      box-shadow: 0px 1px 2px rgba(60, 64, 67, 0.3), 0px 1px 3px 1px rgba(60, 64, 67, 0.15);\n",
              "      fill: #174EA6;\n",
              "    }\n",
              "\n",
              "    [theme=dark] .colab-df-convert {\n",
              "      background-color: #3B4455;\n",
              "      fill: #D2E3FC;\n",
              "    }\n",
              "\n",
              "    [theme=dark] .colab-df-convert:hover {\n",
              "      background-color: #434B5C;\n",
              "      box-shadow: 0px 1px 3px 1px rgba(0, 0, 0, 0.15);\n",
              "      filter: drop-shadow(0px 1px 2px rgba(0, 0, 0, 0.3));\n",
              "      fill: #FFFFFF;\n",
              "    }\n",
              "  </style>\n",
              "\n",
              "      <script>\n",
              "        const buttonEl =\n",
              "          document.querySelector('#df-6f26a739-f22e-401b-a963-f909eba4c91f button.colab-df-convert');\n",
              "        buttonEl.style.display =\n",
              "          google.colab.kernel.accessAllowed ? 'block' : 'none';\n",
              "\n",
              "        async function convertToInteractive(key) {\n",
              "          const element = document.querySelector('#df-6f26a739-f22e-401b-a963-f909eba4c91f');\n",
              "          const dataTable =\n",
              "            await google.colab.kernel.invokeFunction('convertToInteractive',\n",
              "                                                     [key], {});\n",
              "          if (!dataTable) return;\n",
              "\n",
              "          const docLinkHtml = 'Like what you see? Visit the ' +\n",
              "            '<a target=\"_blank\" href=https://colab.research.google.com/notebooks/data_table.ipynb>data table notebook</a>'\n",
              "            + ' to learn more about interactive tables.';\n",
              "          element.innerHTML = '';\n",
              "          dataTable['output_type'] = 'display_data';\n",
              "          await google.colab.output.renderOutput(dataTable, element);\n",
              "          const docLink = document.createElement('div');\n",
              "          docLink.innerHTML = docLinkHtml;\n",
              "          element.appendChild(docLink);\n",
              "        }\n",
              "      </script>\n",
              "    </div>\n",
              "  </div>\n",
              "  "
            ],
            "text/plain": [
              "       cohesion    separation  ... neighbors  cluster_num\n",
              "1  14226.324510  16080.866749  ...       100        85707\n",
              "3  14230.402700  16076.788559  ...       100        85706\n",
              "0  14485.818311  15821.372949  ...        50       133015\n",
              "2  14485.818311  15821.372949  ...        50       133015\n",
              "\n",
              "[4 rows x 9 columns]"
            ]
          },
          "metadata": {},
          "execution_count": 17
        }
      ]
    },
    {
      "cell_type": "code",
      "execution_count": null,
      "metadata": {
        "colab": {
          "base_uri": "https://localhost:8080/",
          "height": 175
        },
        "id": "Adl1Y5pFZ30L",
        "outputId": "3afb9635-3249-4eb1-fb8c-d0c97ba977fe"
      },
      "outputs": [
        {
          "data": {
            "text/html": [
              "\n",
              "  <div id=\"df-07e265e6-b469-417d-9612-f61527c0d7e7\">\n",
              "    <div class=\"colab-df-container\">\n",
              "      <div>\n",
              "<style scoped>\n",
              "    .dataframe tbody tr th:only-of-type {\n",
              "        vertical-align: middle;\n",
              "    }\n",
              "\n",
              "    .dataframe tbody tr th {\n",
              "        vertical-align: top;\n",
              "    }\n",
              "\n",
              "    .dataframe thead th {\n",
              "        text-align: right;\n",
              "    }\n",
              "</style>\n",
              "<table border=\"1\" class=\"dataframe\">\n",
              "  <thead>\n",
              "    <tr style=\"text-align: right;\">\n",
              "      <th></th>\n",
              "      <th>cohesion</th>\n",
              "      <th>separation</th>\n",
              "      <th>calinski_harabaz_score</th>\n",
              "      <th>RMSSTD</th>\n",
              "      <th>RS</th>\n",
              "      <th>silhouette</th>\n",
              "      <th>significance</th>\n",
              "      <th>neighbors</th>\n",
              "      <th>cluster_num</th>\n",
              "    </tr>\n",
              "  </thead>\n",
              "  <tbody>\n",
              "    <tr>\n",
              "      <th>1</th>\n",
              "      <td>6929.649071</td>\n",
              "      <td>9460.751273</td>\n",
              "      <td>10.4322</td>\n",
              "      <td>0.028342</td>\n",
              "      <td>0.577213</td>\n",
              "      <td>None</td>\n",
              "      <td>1000</td>\n",
              "      <td>100</td>\n",
              "      <td>56451</td>\n",
              "    </tr>\n",
              "    <tr>\n",
              "      <th>3</th>\n",
              "      <td>6929.649071</td>\n",
              "      <td>9460.751273</td>\n",
              "      <td>10.4322</td>\n",
              "      <td>0.028342</td>\n",
              "      <td>0.577213</td>\n",
              "      <td>None</td>\n",
              "      <td>100000</td>\n",
              "      <td>100</td>\n",
              "      <td>56451</td>\n",
              "    </tr>\n",
              "    <tr>\n",
              "      <th>0</th>\n",
              "      <td>6894.231344</td>\n",
              "      <td>9496.168999</td>\n",
              "      <td>5.97909</td>\n",
              "      <td>0.029487</td>\n",
              "      <td>0.579374</td>\n",
              "      <td>None</td>\n",
              "      <td>1000</td>\n",
              "      <td>50</td>\n",
              "      <td>91334</td>\n",
              "    </tr>\n",
              "    <tr>\n",
              "      <th>2</th>\n",
              "      <td>6894.231344</td>\n",
              "      <td>9496.168999</td>\n",
              "      <td>5.97909</td>\n",
              "      <td>0.029487</td>\n",
              "      <td>0.579374</td>\n",
              "      <td>None</td>\n",
              "      <td>100000</td>\n",
              "      <td>50</td>\n",
              "      <td>91334</td>\n",
              "    </tr>\n",
              "  </tbody>\n",
              "</table>\n",
              "</div>\n",
              "      <button class=\"colab-df-convert\" onclick=\"convertToInteractive('df-07e265e6-b469-417d-9612-f61527c0d7e7')\"\n",
              "              title=\"Convert this dataframe to an interactive table.\"\n",
              "              style=\"display:none;\">\n",
              "        \n",
              "  <svg xmlns=\"http://www.w3.org/2000/svg\" height=\"24px\"viewBox=\"0 0 24 24\"\n",
              "       width=\"24px\">\n",
              "    <path d=\"M0 0h24v24H0V0z\" fill=\"none\"/>\n",
              "    <path d=\"M18.56 5.44l.94 2.06.94-2.06 2.06-.94-2.06-.94-.94-2.06-.94 2.06-2.06.94zm-11 1L8.5 8.5l.94-2.06 2.06-.94-2.06-.94L8.5 2.5l-.94 2.06-2.06.94zm10 10l.94 2.06.94-2.06 2.06-.94-2.06-.94-.94-2.06-.94 2.06-2.06.94z\"/><path d=\"M17.41 7.96l-1.37-1.37c-.4-.4-.92-.59-1.43-.59-.52 0-1.04.2-1.43.59L10.3 9.45l-7.72 7.72c-.78.78-.78 2.05 0 2.83L4 21.41c.39.39.9.59 1.41.59.51 0 1.02-.2 1.41-.59l7.78-7.78 2.81-2.81c.8-.78.8-2.07 0-2.86zM5.41 20L4 18.59l7.72-7.72 1.47 1.35L5.41 20z\"/>\n",
              "  </svg>\n",
              "      </button>\n",
              "      \n",
              "  <style>\n",
              "    .colab-df-container {\n",
              "      display:flex;\n",
              "      flex-wrap:wrap;\n",
              "      gap: 12px;\n",
              "    }\n",
              "\n",
              "    .colab-df-convert {\n",
              "      background-color: #E8F0FE;\n",
              "      border: none;\n",
              "      border-radius: 50%;\n",
              "      cursor: pointer;\n",
              "      display: none;\n",
              "      fill: #1967D2;\n",
              "      height: 32px;\n",
              "      padding: 0 0 0 0;\n",
              "      width: 32px;\n",
              "    }\n",
              "\n",
              "    .colab-df-convert:hover {\n",
              "      background-color: #E2EBFA;\n",
              "      box-shadow: 0px 1px 2px rgba(60, 64, 67, 0.3), 0px 1px 3px 1px rgba(60, 64, 67, 0.15);\n",
              "      fill: #174EA6;\n",
              "    }\n",
              "\n",
              "    [theme=dark] .colab-df-convert {\n",
              "      background-color: #3B4455;\n",
              "      fill: #D2E3FC;\n",
              "    }\n",
              "\n",
              "    [theme=dark] .colab-df-convert:hover {\n",
              "      background-color: #434B5C;\n",
              "      box-shadow: 0px 1px 3px 1px rgba(0, 0, 0, 0.15);\n",
              "      filter: drop-shadow(0px 1px 2px rgba(0, 0, 0, 0.3));\n",
              "      fill: #FFFFFF;\n",
              "    }\n",
              "  </style>\n",
              "\n",
              "      <script>\n",
              "        const buttonEl =\n",
              "          document.querySelector('#df-07e265e6-b469-417d-9612-f61527c0d7e7 button.colab-df-convert');\n",
              "        buttonEl.style.display =\n",
              "          google.colab.kernel.accessAllowed ? 'block' : 'none';\n",
              "\n",
              "        async function convertToInteractive(key) {\n",
              "          const element = document.querySelector('#df-07e265e6-b469-417d-9612-f61527c0d7e7');\n",
              "          const dataTable =\n",
              "            await google.colab.kernel.invokeFunction('convertToInteractive',\n",
              "                                                     [key], {});\n",
              "          if (!dataTable) return;\n",
              "\n",
              "          const docLinkHtml = 'Like what you see? Visit the ' +\n",
              "            '<a target=\"_blank\" href=https://colab.research.google.com/notebooks/data_table.ipynb>data table notebook</a>'\n",
              "            + ' to learn more about interactive tables.';\n",
              "          element.innerHTML = '';\n",
              "          dataTable['output_type'] = 'display_data';\n",
              "          await google.colab.output.renderOutput(dataTable, element);\n",
              "          const docLink = document.createElement('div');\n",
              "          docLink.innerHTML = docLinkHtml;\n",
              "          element.appendChild(docLink);\n",
              "        }\n",
              "      </script>\n",
              "    </div>\n",
              "  </div>\n",
              "  "
            ],
            "text/plain": [
              "      cohesion   separation  ... neighbors  cluster_num\n",
              "1  6929.649071  9460.751273  ...       100        56451\n",
              "3  6929.649071  9460.751273  ...       100        56451\n",
              "0  6894.231344  9496.168999  ...        50        91334\n",
              "2  6894.231344  9496.168999  ...        50        91334\n",
              "\n",
              "[4 rows x 9 columns]"
            ]
          },
          "execution_count": 30,
          "metadata": {},
          "output_type": "execute_result"
        }
      ],
      "source": [
        "#list_grid_bot.sort_values('calinski_harabaz_score', ascending=False)"
      ],
      "id": "Adl1Y5pFZ30L"
    },
    {
      "cell_type": "markdown",
      "metadata": {
        "id": "bt3AJNvW2n-z"
      },
      "source": [
        "### Permutation test\n",
        "$H_0\\colon$ median (or mean) metrics are the same for human and bot.\n",
        "\n",
        "$H_1\\colon$ median (or mean) metrics are not the same for human and bot."
      ],
      "id": "bt3AJNvW2n-z"
    },
    {
      "cell_type": "code",
      "execution_count": 18,
      "metadata": {
        "id": "fRlqgX9s4XwN"
      },
      "outputs": [],
      "source": [
        "def get_bootstrap_samples(x, n_resamples):\n",
        "    indices = np.random.randint(0, len(x), (n_resamples, len(x)))\n",
        "    resamples = x[indices]\n",
        "    return resamples"
      ],
      "id": "fRlqgX9s4XwN"
    },
    {
      "cell_type": "code",
      "execution_count": 19,
      "metadata": {
        "id": "dJ43vENc4YzD"
      },
      "outputs": [],
      "source": [
        "def percentile_interval(stat, alpha):\n",
        "    boundaries = np.percentile(stat, [100 * alpha / 2., 100 * (1 - alpha / 2.)])\n",
        "    return boundaries"
      ],
      "id": "dJ43vENc4YzD"
    },
    {
      "cell_type": "code",
      "execution_count": 20,
      "metadata": {
        "id": "igr6PDxC2m3E"
      },
      "outputs": [],
      "source": [
        "# permutation functions for median\n",
        "\n",
        "def permutation_t_stat_2s(sample1, sample2):\n",
        "    return np.median(sample1) - np.median(sample2)\n",
        "\n",
        "def get_random_combinations(n1, n2, max_permutations):\n",
        "    index = np.array(range(n1 + n2))\n",
        "    indices = set([tuple(index)])\n",
        "    for i in range(max_permutations - 1):\n",
        "        np.random.shuffle(index)\n",
        "        indices.add(tuple(index))\n",
        "    return [(index[:n1], index[n1:]) for index in indices]\n",
        "\n",
        "def permutation_null_dist_2s(sample1, sample2, max_permutations = None):\n",
        "    pooled_sample = np.hstack((sample1, sample2))\n",
        "    n1 = len(sample1)\n",
        "    n2 = len(sample2)\n",
        "    n = n1 + n2\n",
        "    \n",
        "    if max_permutations:\n",
        "        indices = get_random_combinations(n1, n2, max_permutations)\n",
        "    else:\n",
        "        indices = [(list(index), filter(lambda i: i not in index, range(n))) \\\n",
        "                    for index in itertools.combinations(range(n), n1)]\n",
        "    \n",
        "    distr = [permutation_t_stat_2s(pooled_sample[list(i[0])], pooled_sample[list(i[1])]) \\\n",
        "             for i in indices]\n",
        "    return distr\n",
        "\n",
        "def permutation_test_2s(sample1, sample2, max_permutations = None, alternative = 'two-sided', return_distr = False):\n",
        "    if alternative not in ('two-sided', 'less', 'greater'):\n",
        "        raise ValueError(\"alternative not recognized\\n\"\n",
        "                         \"should be 'two-sided', 'less' or 'greater'\")\n",
        "    \n",
        "    t_stat = permutation_t_stat_2s(sample1, sample2)\n",
        "    \n",
        "    null_distr = permutation_null_dist_2s(sample1, sample2, max_permutations)\n",
        "    \n",
        "    if alternative == 'two-sided':\n",
        "        p = sum([1. if abs(x) >= abs(t_stat) else 0. for x in null_distr]) / len(null_distr)\n",
        "    elif alternative == 'less':\n",
        "        p = sum([1. if x <= t_stat else 0. for x in null_distr]) / len(null_distr)\n",
        "    else: # alternative == 'greater':\n",
        "        p = sum([1. if x >= t_stat else 0. for x in null_distr]) / len(null_distr)\n",
        "    \n",
        "    if return_distr:\n",
        "        return {'t': t_stat, 'p': p, 'null_distr': null_distr}\n",
        "    else:\n",
        "        return {'t': t_stat, 'p': p}"
      ],
      "id": "igr6PDxC2m3E"
    },
    {
      "cell_type": "code",
      "execution_count": 21,
      "metadata": {
        "id": "zJ7kIYWl_klJ"
      },
      "outputs": [],
      "source": [
        "# permutation functions for mean\n",
        "\n",
        "def permutation_t_stat_2s_mean(sample1, sample2):\n",
        "    return np.mean(sample1) - np.mean(sample2)\n",
        "\n",
        "def permutation_null_dist_2s_mean(sample1, sample2, max_permutations = None):\n",
        "    pooled_sample = np.hstack((sample1, sample2))\n",
        "    n1 = len(sample1)\n",
        "    n2 = len(sample2)\n",
        "    n = n1 + n2\n",
        "    \n",
        "    if max_permutations:\n",
        "        indices = get_random_combinations(n1, n2, max_permutations)\n",
        "    else:\n",
        "        indices = [(list(index), filter(lambda i: i not in index, range(n))) \\\n",
        "                    for index in itertools.combinations(range(n), n1)]\n",
        "    \n",
        "    distr = [permutation_t_stat_2s_mean(pooled_sample[list(i[0])], pooled_sample[list(i[1])]) \\\n",
        "             for i in indices]\n",
        "    return distr\n",
        "\n",
        "def permutation_test_2s_mean(sample1, sample2, max_permutations = None, alternative = 'two-sided', return_distr = False):\n",
        "    if alternative not in ('two-sided', 'less', 'greater'):\n",
        "        raise ValueError(\"alternative not recognized\\n\"\n",
        "                         \"should be 'two-sided', 'less' or 'greater'\")\n",
        "    \n",
        "    t_stat = permutation_t_stat_2s_mean(sample1, sample2)\n",
        "    \n",
        "    null_distr = permutation_null_dist_2s_mean(sample1, sample2, max_permutations)\n",
        "    \n",
        "    if alternative == 'two-sided':\n",
        "        p = sum([1. if abs(x) >= abs(t_stat) else 0. for x in null_distr]) / len(null_distr)\n",
        "    elif alternative == 'less':\n",
        "        p = sum([1. if x <= t_stat else 0. for x in null_distr]) / len(null_distr)\n",
        "    else: # alternative == 'greater':\n",
        "        p = sum([1. if x >= t_stat else 0. for x in null_distr]) / len(null_distr)\n",
        "    \n",
        "    if return_distr:\n",
        "        return {'t': t_stat, 'p': p, 'null_distr': null_distr}\n",
        "    else:\n",
        "        return {'t': t_stat, 'p': p}"
      ],
      "id": "zJ7kIYWl_klJ"
    },
    {
      "cell_type": "markdown",
      "metadata": {
        "id": "0dQ0MQxnoZep"
      },
      "source": [
        "## Spanish - check result"
      ],
      "id": "0dQ0MQxnoZep"
    },
    {
      "cell_type": "code",
      "execution_count": 22,
      "metadata": {
        "colab": {
          "base_uri": "https://localhost:8080/"
        },
        "id": "WCq4JWzJqc_Q",
        "outputId": "d75d49f0-c1bc-40f3-e9cb-13c68d3c394b"
      },
      "outputs": [
        {
          "output_type": "execute_result",
          "data": {
            "text/plain": [
              "Index(['Unnamed: 0', '0', '1', '2', '3', '4', '5', '6', '7', '8', '9', '10',\n",
              "       '11', '12', '13', '14', '15', '16', '17', '18', '19', 'ind', 'name',\n",
              "       'cluster_100050', 'cluster_1000100', 'cluster_10000050',\n",
              "       'cluster_100000100'],\n",
              "      dtype='object')"
            ]
          },
          "metadata": {},
          "execution_count": 22
        }
      ],
      "source": [
        "X_human.columns"
      ],
      "id": "WCq4JWzJqc_Q"
    },
    {
      "cell_type": "code",
      "execution_count": 23,
      "metadata": {
        "colab": {
          "base_uri": "https://localhost:8080/"
        },
        "id": "C5fvmMQWqdCM",
        "outputId": "477eabd4-d6c7-4ba9-c632-3f3f83fb178e"
      },
      "outputs": [
        {
          "output_type": "execute_result",
          "data": {
            "text/plain": [
              "Index(['Unnamed: 0', '0', '1', '2', '3', '4', '5', '6', '7', '8', '9', '10',\n",
              "       '11', '12', '13', '14', '15', '16', '17', '18', '19', 'ind', 'name',\n",
              "       'cluster_100050', 'cluster_1000100', 'cluster_10000050',\n",
              "       'cluster_100000100'],\n",
              "      dtype='object')"
            ]
          },
          "metadata": {},
          "execution_count": 23
        }
      ],
      "source": [
        "X_bot.columns"
      ],
      "id": "C5fvmMQWqdCM"
    },
    {
      "cell_type": "code",
      "execution_count": 24,
      "metadata": {
        "colab": {
          "base_uri": "https://localhost:8080/"
        },
        "id": "KU7V4xtIqdEc",
        "outputId": "f036f28d-ed5e-45ef-f716-af305ff3ba0d"
      },
      "outputs": [
        {
          "output_type": "stream",
          "name": "stdout",
          "text": [
            "2022-01-30 03:46:39.607 | Count clusters:  1459\n",
            "2022-01-30 03:46:39.608 | 0 progress:  0.0 %\n",
            "2022-01-30 03:46:56.412 | 145 progress:  9.9 %\n",
            "2022-01-30 03:47:10.309 | 290 progress:  19.900000000000002 %\n",
            "2022-01-30 03:47:23.867 | 435 progress:  29.799999999999997 %\n",
            "2022-01-30 03:47:37.429 | 580 progress:  39.800000000000004 %\n",
            "2022-01-30 03:47:50.977 | 725 progress:  49.7 %\n",
            "2022-01-30 03:48:04.606 | 870 progress:  59.599999999999994 %\n",
            "2022-01-30 03:48:18.140 | 1015 progress:  69.6 %\n",
            "2022-01-30 03:48:32.572 | 1160 progress:  79.5 %\n",
            "2022-01-30 03:48:46.280 | 1305 progress:  89.4 %\n",
            "2022-01-30 03:49:00.069 | 1450 progress:  99.4 %\n"
          ]
        }
      ],
      "source": [
        "# for human texts\n",
        "es_human = stat_clust(np.array(X_human[list_col]), X_human['cluster_100000100'],  verbose = 10, dist = False)"
      ],
      "id": "KU7V4xtIqdEc"
    },
    {
      "cell_type": "code",
      "execution_count": 25,
      "metadata": {
        "colab": {
          "base_uri": "https://localhost:8080/"
        },
        "id": "8jK3dTl4qrcG",
        "outputId": "dd2b9908-9655-4924-915b-998f4bd8b3d8"
      },
      "outputs": [
        {
          "output_type": "stream",
          "name": "stdout",
          "text": [
            "2022-01-30 03:49:01.054 | Count clusters:  85706\n",
            "2022-01-30 03:49:01.055 | 0 progress:  0.0 %\n",
            "2022-01-30 04:02:42.086 | 8570 progress:  10.0 %\n",
            "2022-01-30 04:16:16.244 | 17140 progress:  20.0 %\n",
            "2022-01-30 04:29:52.299 | 25710 progress:  30.0 %\n",
            "2022-01-30 04:43:32.457 | 34280 progress:  40.0 %\n",
            "2022-01-30 04:57:13.821 | 42850 progress:  50.0 %\n",
            "2022-01-30 05:10:57.239 | 51420 progress:  60.0 %\n",
            "2022-01-30 05:24:58.862 | 59990 progress:  70.0 %\n",
            "2022-01-30 05:39:02.039 | 68560 progress:  80.0 %\n",
            "2022-01-30 05:53:05.294 | 77130 progress:  90.0 %\n",
            "2022-01-30 06:07:08.682 | 85700 progress:  100.0 %\n"
          ]
        }
      ],
      "source": [
        "# for bot texts\n",
        "es_bot = stat_clust(np.array(X_bot[list_col]), X_bot['cluster_100000100'],  verbose = 10, dist = False)"
      ],
      "id": "8jK3dTl4qrcG"
    },
    {
      "cell_type": "code",
      "execution_count": 26,
      "metadata": {
        "colab": {
          "base_uri": "https://localhost:8080/",
          "height": 206
        },
        "id": "P41T_21o8wIx",
        "outputId": "52924d62-b362-47f8-9d61-8b974fc3c7fd"
      },
      "outputs": [
        {
          "output_type": "execute_result",
          "data": {
            "text/html": [
              "\n",
              "  <div id=\"df-7a9cca46-cde4-4a31-a3a3-ad9e81e3a302\">\n",
              "    <div class=\"colab-df-container\">\n",
              "      <div>\n",
              "<style scoped>\n",
              "    .dataframe tbody tr th:only-of-type {\n",
              "        vertical-align: middle;\n",
              "    }\n",
              "\n",
              "    .dataframe tbody tr th {\n",
              "        vertical-align: top;\n",
              "    }\n",
              "\n",
              "    .dataframe thead th {\n",
              "        text-align: right;\n",
              "    }\n",
              "</style>\n",
              "<table border=\"1\" class=\"dataframe\">\n",
              "  <thead>\n",
              "    <tr style=\"text-align: right;\">\n",
              "      <th></th>\n",
              "      <th>cluster</th>\n",
              "      <th>centr_dist</th>\n",
              "      <th>count_all</th>\n",
              "      <th>count_uniq</th>\n",
              "    </tr>\n",
              "  </thead>\n",
              "  <tbody>\n",
              "    <tr>\n",
              "      <th>0</th>\n",
              "      <td>0</td>\n",
              "      <td>5019.539330</td>\n",
              "      <td>188353</td>\n",
              "      <td>76818</td>\n",
              "    </tr>\n",
              "    <tr>\n",
              "      <th>1</th>\n",
              "      <td>1</td>\n",
              "      <td>0.811933</td>\n",
              "      <td>2497</td>\n",
              "      <td>220</td>\n",
              "    </tr>\n",
              "    <tr>\n",
              "      <th>2</th>\n",
              "      <td>3</td>\n",
              "      <td>0.000000</td>\n",
              "      <td>1</td>\n",
              "      <td>1</td>\n",
              "    </tr>\n",
              "    <tr>\n",
              "      <th>3</th>\n",
              "      <td>4</td>\n",
              "      <td>9.958163</td>\n",
              "      <td>1174</td>\n",
              "      <td>163</td>\n",
              "    </tr>\n",
              "    <tr>\n",
              "      <th>4</th>\n",
              "      <td>5</td>\n",
              "      <td>3.803086</td>\n",
              "      <td>2126</td>\n",
              "      <td>275</td>\n",
              "    </tr>\n",
              "  </tbody>\n",
              "</table>\n",
              "</div>\n",
              "      <button class=\"colab-df-convert\" onclick=\"convertToInteractive('df-7a9cca46-cde4-4a31-a3a3-ad9e81e3a302')\"\n",
              "              title=\"Convert this dataframe to an interactive table.\"\n",
              "              style=\"display:none;\">\n",
              "        \n",
              "  <svg xmlns=\"http://www.w3.org/2000/svg\" height=\"24px\"viewBox=\"0 0 24 24\"\n",
              "       width=\"24px\">\n",
              "    <path d=\"M0 0h24v24H0V0z\" fill=\"none\"/>\n",
              "    <path d=\"M18.56 5.44l.94 2.06.94-2.06 2.06-.94-2.06-.94-.94-2.06-.94 2.06-2.06.94zm-11 1L8.5 8.5l.94-2.06 2.06-.94-2.06-.94L8.5 2.5l-.94 2.06-2.06.94zm10 10l.94 2.06.94-2.06 2.06-.94-2.06-.94-.94-2.06-.94 2.06-2.06.94z\"/><path d=\"M17.41 7.96l-1.37-1.37c-.4-.4-.92-.59-1.43-.59-.52 0-1.04.2-1.43.59L10.3 9.45l-7.72 7.72c-.78.78-.78 2.05 0 2.83L4 21.41c.39.39.9.59 1.41.59.51 0 1.02-.2 1.41-.59l7.78-7.78 2.81-2.81c.8-.78.8-2.07 0-2.86zM5.41 20L4 18.59l7.72-7.72 1.47 1.35L5.41 20z\"/>\n",
              "  </svg>\n",
              "      </button>\n",
              "      \n",
              "  <style>\n",
              "    .colab-df-container {\n",
              "      display:flex;\n",
              "      flex-wrap:wrap;\n",
              "      gap: 12px;\n",
              "    }\n",
              "\n",
              "    .colab-df-convert {\n",
              "      background-color: #E8F0FE;\n",
              "      border: none;\n",
              "      border-radius: 50%;\n",
              "      cursor: pointer;\n",
              "      display: none;\n",
              "      fill: #1967D2;\n",
              "      height: 32px;\n",
              "      padding: 0 0 0 0;\n",
              "      width: 32px;\n",
              "    }\n",
              "\n",
              "    .colab-df-convert:hover {\n",
              "      background-color: #E2EBFA;\n",
              "      box-shadow: 0px 1px 2px rgba(60, 64, 67, 0.3), 0px 1px 3px 1px rgba(60, 64, 67, 0.15);\n",
              "      fill: #174EA6;\n",
              "    }\n",
              "\n",
              "    [theme=dark] .colab-df-convert {\n",
              "      background-color: #3B4455;\n",
              "      fill: #D2E3FC;\n",
              "    }\n",
              "\n",
              "    [theme=dark] .colab-df-convert:hover {\n",
              "      background-color: #434B5C;\n",
              "      box-shadow: 0px 1px 3px 1px rgba(0, 0, 0, 0.15);\n",
              "      filter: drop-shadow(0px 1px 2px rgba(0, 0, 0, 0.3));\n",
              "      fill: #FFFFFF;\n",
              "    }\n",
              "  </style>\n",
              "\n",
              "      <script>\n",
              "        const buttonEl =\n",
              "          document.querySelector('#df-7a9cca46-cde4-4a31-a3a3-ad9e81e3a302 button.colab-df-convert');\n",
              "        buttonEl.style.display =\n",
              "          google.colab.kernel.accessAllowed ? 'block' : 'none';\n",
              "\n",
              "        async function convertToInteractive(key) {\n",
              "          const element = document.querySelector('#df-7a9cca46-cde4-4a31-a3a3-ad9e81e3a302');\n",
              "          const dataTable =\n",
              "            await google.colab.kernel.invokeFunction('convertToInteractive',\n",
              "                                                     [key], {});\n",
              "          if (!dataTable) return;\n",
              "\n",
              "          const docLinkHtml = 'Like what you see? Visit the ' +\n",
              "            '<a target=\"_blank\" href=https://colab.research.google.com/notebooks/data_table.ipynb>data table notebook</a>'\n",
              "            + ' to learn more about interactive tables.';\n",
              "          element.innerHTML = '';\n",
              "          dataTable['output_type'] = 'display_data';\n",
              "          await google.colab.output.renderOutput(dataTable, element);\n",
              "          const docLink = document.createElement('div');\n",
              "          docLink.innerHTML = docLinkHtml;\n",
              "          element.appendChild(docLink);\n",
              "        }\n",
              "      </script>\n",
              "    </div>\n",
              "  </div>\n",
              "  "
            ],
            "text/plain": [
              "   cluster   centr_dist  count_all  count_uniq\n",
              "0        0  5019.539330     188353       76818\n",
              "1        1     0.811933       2497         220\n",
              "2        3     0.000000          1           1\n",
              "3        4     9.958163       1174         163\n",
              "4        5     3.803086       2126         275"
            ]
          },
          "metadata": {},
          "execution_count": 26
        }
      ],
      "source": [
        "es_human.head()"
      ],
      "id": "P41T_21o8wIx"
    },
    {
      "cell_type": "code",
      "execution_count": 27,
      "metadata": {
        "colab": {
          "base_uri": "https://localhost:8080/",
          "height": 206
        },
        "id": "l25HX5CS83JQ",
        "outputId": "a976a65b-8851-4490-ae5b-c33402d62200"
      },
      "outputs": [
        {
          "output_type": "execute_result",
          "data": {
            "text/html": [
              "\n",
              "  <div id=\"df-f91d5cf0-e90b-4c5a-9ca5-4a7ff9a8306b\">\n",
              "    <div class=\"colab-df-container\">\n",
              "      <div>\n",
              "<style scoped>\n",
              "    .dataframe tbody tr th:only-of-type {\n",
              "        vertical-align: middle;\n",
              "    }\n",
              "\n",
              "    .dataframe tbody tr th {\n",
              "        vertical-align: top;\n",
              "    }\n",
              "\n",
              "    .dataframe thead th {\n",
              "        text-align: right;\n",
              "    }\n",
              "</style>\n",
              "<table border=\"1\" class=\"dataframe\">\n",
              "  <thead>\n",
              "    <tr style=\"text-align: right;\">\n",
              "      <th></th>\n",
              "      <th>cluster</th>\n",
              "      <th>centr_dist</th>\n",
              "      <th>count_all</th>\n",
              "      <th>count_uniq</th>\n",
              "    </tr>\n",
              "  </thead>\n",
              "  <tbody>\n",
              "    <tr>\n",
              "      <th>0</th>\n",
              "      <td>0</td>\n",
              "      <td>13302.013971</td>\n",
              "      <td>254048</td>\n",
              "      <td>61010</td>\n",
              "    </tr>\n",
              "    <tr>\n",
              "      <th>1</th>\n",
              "      <td>2</td>\n",
              "      <td>0.006180</td>\n",
              "      <td>309</td>\n",
              "      <td>3</td>\n",
              "    </tr>\n",
              "    <tr>\n",
              "      <th>2</th>\n",
              "      <td>3</td>\n",
              "      <td>0.000000</td>\n",
              "      <td>1</td>\n",
              "      <td>1</td>\n",
              "    </tr>\n",
              "    <tr>\n",
              "      <th>3</th>\n",
              "      <td>4</td>\n",
              "      <td>0.000000</td>\n",
              "      <td>1</td>\n",
              "      <td>1</td>\n",
              "    </tr>\n",
              "    <tr>\n",
              "      <th>4</th>\n",
              "      <td>5</td>\n",
              "      <td>0.000000</td>\n",
              "      <td>1</td>\n",
              "      <td>1</td>\n",
              "    </tr>\n",
              "  </tbody>\n",
              "</table>\n",
              "</div>\n",
              "      <button class=\"colab-df-convert\" onclick=\"convertToInteractive('df-f91d5cf0-e90b-4c5a-9ca5-4a7ff9a8306b')\"\n",
              "              title=\"Convert this dataframe to an interactive table.\"\n",
              "              style=\"display:none;\">\n",
              "        \n",
              "  <svg xmlns=\"http://www.w3.org/2000/svg\" height=\"24px\"viewBox=\"0 0 24 24\"\n",
              "       width=\"24px\">\n",
              "    <path d=\"M0 0h24v24H0V0z\" fill=\"none\"/>\n",
              "    <path d=\"M18.56 5.44l.94 2.06.94-2.06 2.06-.94-2.06-.94-.94-2.06-.94 2.06-2.06.94zm-11 1L8.5 8.5l.94-2.06 2.06-.94-2.06-.94L8.5 2.5l-.94 2.06-2.06.94zm10 10l.94 2.06.94-2.06 2.06-.94-2.06-.94-.94-2.06-.94 2.06-2.06.94z\"/><path d=\"M17.41 7.96l-1.37-1.37c-.4-.4-.92-.59-1.43-.59-.52 0-1.04.2-1.43.59L10.3 9.45l-7.72 7.72c-.78.78-.78 2.05 0 2.83L4 21.41c.39.39.9.59 1.41.59.51 0 1.02-.2 1.41-.59l7.78-7.78 2.81-2.81c.8-.78.8-2.07 0-2.86zM5.41 20L4 18.59l7.72-7.72 1.47 1.35L5.41 20z\"/>\n",
              "  </svg>\n",
              "      </button>\n",
              "      \n",
              "  <style>\n",
              "    .colab-df-container {\n",
              "      display:flex;\n",
              "      flex-wrap:wrap;\n",
              "      gap: 12px;\n",
              "    }\n",
              "\n",
              "    .colab-df-convert {\n",
              "      background-color: #E8F0FE;\n",
              "      border: none;\n",
              "      border-radius: 50%;\n",
              "      cursor: pointer;\n",
              "      display: none;\n",
              "      fill: #1967D2;\n",
              "      height: 32px;\n",
              "      padding: 0 0 0 0;\n",
              "      width: 32px;\n",
              "    }\n",
              "\n",
              "    .colab-df-convert:hover {\n",
              "      background-color: #E2EBFA;\n",
              "      box-shadow: 0px 1px 2px rgba(60, 64, 67, 0.3), 0px 1px 3px 1px rgba(60, 64, 67, 0.15);\n",
              "      fill: #174EA6;\n",
              "    }\n",
              "\n",
              "    [theme=dark] .colab-df-convert {\n",
              "      background-color: #3B4455;\n",
              "      fill: #D2E3FC;\n",
              "    }\n",
              "\n",
              "    [theme=dark] .colab-df-convert:hover {\n",
              "      background-color: #434B5C;\n",
              "      box-shadow: 0px 1px 3px 1px rgba(0, 0, 0, 0.15);\n",
              "      filter: drop-shadow(0px 1px 2px rgba(0, 0, 0, 0.3));\n",
              "      fill: #FFFFFF;\n",
              "    }\n",
              "  </style>\n",
              "\n",
              "      <script>\n",
              "        const buttonEl =\n",
              "          document.querySelector('#df-f91d5cf0-e90b-4c5a-9ca5-4a7ff9a8306b button.colab-df-convert');\n",
              "        buttonEl.style.display =\n",
              "          google.colab.kernel.accessAllowed ? 'block' : 'none';\n",
              "\n",
              "        async function convertToInteractive(key) {\n",
              "          const element = document.querySelector('#df-f91d5cf0-e90b-4c5a-9ca5-4a7ff9a8306b');\n",
              "          const dataTable =\n",
              "            await google.colab.kernel.invokeFunction('convertToInteractive',\n",
              "                                                     [key], {});\n",
              "          if (!dataTable) return;\n",
              "\n",
              "          const docLinkHtml = 'Like what you see? Visit the ' +\n",
              "            '<a target=\"_blank\" href=https://colab.research.google.com/notebooks/data_table.ipynb>data table notebook</a>'\n",
              "            + ' to learn more about interactive tables.';\n",
              "          element.innerHTML = '';\n",
              "          dataTable['output_type'] = 'display_data';\n",
              "          await google.colab.output.renderOutput(dataTable, element);\n",
              "          const docLink = document.createElement('div');\n",
              "          docLink.innerHTML = docLinkHtml;\n",
              "          element.appendChild(docLink);\n",
              "        }\n",
              "      </script>\n",
              "    </div>\n",
              "  </div>\n",
              "  "
            ],
            "text/plain": [
              "   cluster    centr_dist  count_all  count_uniq\n",
              "0        0  13302.013971     254048       61010\n",
              "1        2      0.006180        309           3\n",
              "2        3      0.000000          1           1\n",
              "3        4      0.000000          1           1\n",
              "4        5      0.000000          1           1"
            ]
          },
          "metadata": {},
          "execution_count": 27
        }
      ],
      "source": [
        "es_bot.head()"
      ],
      "id": "l25HX5CS83JQ"
    },
    {
      "cell_type": "code",
      "execution_count": 28,
      "metadata": {
        "id": "4EHzfi2yQhPf"
      },
      "outputs": [],
      "source": [
        "es_human.to_csv('/content/drive/MyDrive/2022-01-15_Course_project/TF_IDF_clustering_es/10000_statistics_human_es.csv')\n",
        "es_bot.to_csv('/content/drive/MyDrive/2022-01-15_Course_project/new_TF_IDF_clustering_bot_es/statistics_bot_es.csv')"
      ],
      "id": "4EHzfi2yQhPf"
    },
    {
      "cell_type": "code",
      "execution_count": 29,
      "metadata": {
        "colab": {
          "base_uri": "https://localhost:8080/",
          "height": 279
        },
        "id": "_yMpLu-r3M9O",
        "outputId": "ea777cb8-cf77-4b25-cb7c-a8ed3f4b517f"
      },
      "outputs": [
        {
          "output_type": "display_data",
          "data": {
            "image/png": "[encoded data removed]",
            "text/plain": [
              "<Figure size 864x288 with 2 Axes>"
            ]
          },
          "metadata": {
            "needs_background": "light"
          }
        }
      ],
      "source": [
        "plt.figure(figsize=(12,4))\n",
        "\n",
        "plt.subplot(1,2,1)\n",
        "plt.grid()\n",
        "plt.hist(es_human['count_all'].sort_values(ascending = False)[10 :], bins = 100, color = 'g')\n",
        "plt.xlabel('Human-written text')\n",
        "\n",
        "plt.subplot(1,2,2)\n",
        "plt.grid()\n",
        "plt.hist( es_bot['count_all'].sort_values(ascending = False)[10 :], bins = 100, color = 'r')\n",
        "plt.xlabel('Bot-written text');"
      ],
      "id": "_yMpLu-r3M9O"
    },
    {
      "cell_type": "code",
      "execution_count": 30,
      "metadata": {
        "id": "gDaFJuRQRC59"
      },
      "outputs": [],
      "source": [
        "es_human['norm_clusters'] = es_human['count_all'] / sum(es_human['count_all'])"
      ],
      "id": "gDaFJuRQRC59"
    },
    {
      "cell_type": "code",
      "execution_count": 31,
      "metadata": {
        "colab": {
          "base_uri": "https://localhost:8080/"
        },
        "id": "UBZlmaf2RWNR",
        "outputId": "e11ea972-b40d-46b0-d1f8-8d6332a649b9"
      },
      "outputs": [
        {
          "output_type": "execute_result",
          "data": {
            "text/plain": [
              "0.9999999999999811"
            ]
          },
          "metadata": {},
          "execution_count": 31
        }
      ],
      "source": [
        "sum(es_human['norm_clusters'])"
      ],
      "id": "UBZlmaf2RWNR"
    },
    {
      "cell_type": "code",
      "execution_count": 32,
      "metadata": {
        "id": "2TQ7zkpiRu74"
      },
      "outputs": [],
      "source": [
        "es_bot['norm_clusters'] = es_bot['count_all'] / sum(es_bot['count_all'])"
      ],
      "id": "2TQ7zkpiRu74"
    },
    {
      "cell_type": "code",
      "execution_count": 33,
      "metadata": {
        "colab": {
          "base_uri": "https://localhost:8080/"
        },
        "id": "Kbi54BSnR0io",
        "outputId": "90c6c77a-3a70-4639-e7b3-b1f7f3a44353"
      },
      "outputs": [
        {
          "output_type": "execute_result",
          "data": {
            "text/plain": [
              "0.9999999999975323"
            ]
          },
          "metadata": {},
          "execution_count": 33
        }
      ],
      "source": [
        "sum(es_bot['norm_clusters'])"
      ],
      "id": "Kbi54BSnR0io"
    },
    {
      "cell_type": "code",
      "execution_count": 34,
      "metadata": {
        "colab": {
          "base_uri": "https://localhost:8080/"
        },
        "id": "u4xMZN8r4flC",
        "outputId": "eb1b7ca1-045e-4b41-eaf7-daa32e92cc4e"
      },
      "outputs": [
        {
          "output_type": "stream",
          "name": "stdout",
          "text": [
            "95% confidence interval for average number of vectors in a cluster (Human-written): [2.39418882e-06 2.39418882e-06]\n",
            "95% confidence interval for average number of vectors in a cluster (Bot-written): [1.65489759e-06 1.65489759e-06]\n",
            "Estimated difference avg number of vectors in a cluster: 7.392912382213916e-07\n",
            "95% confidence interval for the difference between median number of vectors in a cluster: [7.39291238e-07 7.39291238e-07]\n"
          ]
        }
      ],
      "source": [
        "#median number of vectors in a cluster\n",
        "np.random.seed(0)\n",
        "\n",
        "human_median_scores = list(map(np.median, get_bootstrap_samples(np.array(es_human['norm_clusters']), 5000)))\n",
        "bot_median_scores = list(map(np.median, get_bootstrap_samples(np.array(es_bot['norm_clusters']), 5000)))\n",
        "\n",
        "print(\"95% confidence interval for average number of vectors in a cluster (Human-written):\",  percentile_interval(human_median_scores, 0.05))\n",
        "print(\"95% confidence interval for average number of vectors in a cluster (Bot-written):\",  percentile_interval(bot_median_scores, 0.05))\n",
        "print(\"Estimated difference avg number of vectors in a cluster:\", np.median(es_human['norm_clusters']) - np.median(es_bot['norm_clusters']))\n",
        "\n",
        "delta_median_scores = list(map(lambda x: x[0] - x[1], zip(human_median_scores, bot_median_scores)))\n",
        "print(\"95% confidence interval for the difference between median number of vectors in a cluster:\",  \n",
        "      percentile_interval(delta_median_scores, 0.05))"
      ],
      "id": "u4xMZN8r4flC"
    },
    {
      "cell_type": "code",
      "execution_count": 35,
      "metadata": {
        "colab": {
          "base_uri": "https://localhost:8080/"
        },
        "id": "iF9-dOhbowpZ",
        "outputId": "0d625fc6-9ace-4b80-afd6-bc00de0e0ae7"
      },
      "outputs": [
        {
          "output_type": "stream",
          "name": "stdout",
          "text": [
            "Permutation test: t = 0.000001, p = 0.000200\n",
            "---------------------------------------------------------------\n",
            "H0 is rejected:\n",
            "Median metrics are not the same for Human and Bot texts.\n",
            "---------------------------------------------------------------\n"
          ]
        }
      ],
      "source": [
        "np.random.seed(0)\n",
        "res = permutation_test_2s(es_human['norm_clusters'], es_bot['norm_clusters'], max_permutations = 5000, return_distr = True)\n",
        "print(\"Permutation test: t = %f, p = %f\" % (res['t'], res['p']))\n",
        "print('---------------------------------------------------------------')\n",
        "\n",
        "if res['p'] < 0.05:\n",
        "  print('H0 is rejected:')\n",
        "  print('Median metrics are not the same for Human and Bot texts.')\n",
        "else:\n",
        "  print('H0 is not rejected:')\n",
        "  print('Median metrics are the same for Human and Bot texts.')\n",
        "\n",
        "print('---------------------------------------------------------------')\n"
      ],
      "id": "iF9-dOhbowpZ"
    },
    {
      "cell_type": "code",
      "execution_count": 36,
      "metadata": {
        "colab": {
          "base_uri": "https://localhost:8080/"
        },
        "id": "fHk65fln6L_B",
        "outputId": "3a89447d-370e-49f7-f25c-c0fcda5a5dd7"
      },
      "outputs": [
        {
          "output_type": "stream",
          "name": "stdout",
          "text": [
            "95% confidence interval for average distance to centroid in a cluster (Human-written): [0. 0.]\n",
            "95% confidence interval for average distance to centroid in a cluster (Bot-written): [0. 0.]\n",
            "Estimated difference average distance to centroid in a cluster: 0.0\n",
            "95% confidence interval for the difference between median distance to centroid in a cluster: [0. 0.]\n"
          ]
        }
      ],
      "source": [
        "# median distance to centroid\n",
        "np.random.seed(0)\n",
        "\n",
        "human_median_scores = list(map(np.median, get_bootstrap_samples(np.array(es_human['centr_dist']), 5000)))\n",
        "bot_median_scores = list(map(np.median, get_bootstrap_samples(np.array(es_bot['centr_dist']), 5000)))\n",
        "\n",
        "print(\"95% confidence interval for average distance to centroid in a cluster (Human-written):\",  percentile_interval(human_median_scores, 0.05))\n",
        "print(\"95% confidence interval for average distance to centroid in a cluster (Bot-written):\",  percentile_interval(bot_median_scores, 0.05))\n",
        "print(\"Estimated difference average distance to centroid in a cluster:\", np.median(es_human['centr_dist']) - np.median(es_bot['centr_dist']))\n",
        "\n",
        "delta_median_scores = list(map(lambda x: x[0] - x[1], zip(human_median_scores, bot_median_scores)))\n",
        "print(\"95% confidence interval for the difference between median distance to centroid in a cluster:\",  \n",
        "      percentile_interval(delta_median_scores, 0.05))"
      ],
      "id": "fHk65fln6L_B"
    },
    {
      "cell_type": "code",
      "execution_count": 37,
      "metadata": {
        "colab": {
          "base_uri": "https://localhost:8080/"
        },
        "id": "LGrXirCC6MCb",
        "outputId": "0a3d0b0e-2176-4893-81ce-b1dc32b81bd3"
      },
      "outputs": [
        {
          "output_type": "stream",
          "name": "stdout",
          "text": [
            "Permutation test: t = 0.000000, p = 1.000000\n",
            "---------------------------------------------------------------\n",
            "H0 is not rejected:\n",
            "Median metrics are the same for Human and Bot texts.\n",
            "---------------------------------------------------------------\n"
          ]
        }
      ],
      "source": [
        "# permutation for median distance to centroid\n",
        "np.random.seed(0)\n",
        "res = permutation_test_2s(es_human['centr_dist'], es_bot['centr_dist'], max_permutations = 5000, return_distr = True)\n",
        "print(\"Permutation test: t = %f, p = %f\" % (res['t'], res['p']))\n",
        "\n",
        "print('---------------------------------------------------------------')\n",
        "\n",
        "if res['p'] < 0.05:\n",
        "  print('H0 is rejected:')\n",
        "  print('Median metrics are not the same for Human and Bot texts.')\n",
        "else:\n",
        "  print('H0 is not rejected:')\n",
        "  print('Median metrics are the same for Human and Bot texts.')\n",
        "\n",
        "print('---------------------------------------------------------------')"
      ],
      "id": "LGrXirCC6MCb"
    },
    {
      "cell_type": "code",
      "execution_count": 38,
      "metadata": {
        "colab": {
          "base_uri": "https://localhost:8080/",
          "height": 279
        },
        "id": "2iCceBeK6mb9",
        "outputId": "73cffe72-c616-4abc-a473-7fb524b2be2a"
      },
      "outputs": [
        {
          "output_type": "display_data",
          "data": {
            "image/png": "[encoded data removed]",
            "text/plain": [
              "<Figure size 864x288 with 2 Axes>"
            ]
          },
          "metadata": {
            "needs_background": "light"
          }
        }
      ],
      "source": [
        "# distribution distance to centroid\n",
        "\n",
        "plt.figure(figsize=(12,4))\n",
        "\n",
        "plt.subplot(1,2,1)\n",
        "plt.grid()\n",
        "plt.hist(es_human['centr_dist'].sort_values(ascending = False)[10 :], bins = 100, color = 'g')\n",
        "plt.xlabel('Human-written text')\n",
        "\n",
        "plt.subplot(1,2,2)\n",
        "plt.grid()\n",
        "plt.hist( es_bot['centr_dist'].sort_values(ascending = False)[10 :], bins = 100, color = 'r')\n",
        "plt.xlabel('Bot-written text');"
      ],
      "id": "2iCceBeK6mb9"
    },
    {
      "cell_type": "code",
      "execution_count": 39,
      "metadata": {
        "colab": {
          "base_uri": "https://localhost:8080/"
        },
        "id": "pzKVB7zl9mBJ",
        "outputId": "7da01090-1251-4c1f-f9d6-2f52f6c500c0"
      },
      "outputs": [
        {
          "output_type": "stream",
          "name": "stdout",
          "text": [
            "95% confidence interval for mean distance to centroid in a cluster (Human-written): [ 0.63413419 11.13322875]\n",
            "95% confidence interval for mean distance to centroid in a cluster (Bot-written): [0.00856368 0.47809111]\n",
            "Estimated difference mean distance to centroid in a cluster: 4.0070681863232736\n",
            "95% confidence interval for the difference between mean distance to centroid in a cluster: [ 0.29603737 11.06946318]\n"
          ]
        }
      ],
      "source": [
        "# mean distance to centroid\n",
        "np.random.seed(0)\n",
        "\n",
        "human_mean_scores = list(map(np.mean, get_bootstrap_samples(np.array(es_human['centr_dist']), 5000)))\n",
        "bot_mean_scores = list(map(np.mean, get_bootstrap_samples(np.array(es_bot['centr_dist']), 5000)))\n",
        "\n",
        "print(\"95% confidence interval for mean distance to centroid in a cluster (Human-written):\",  percentile_interval(human_mean_scores, 0.05))\n",
        "print(\"95% confidence interval for mean distance to centroid in a cluster (Bot-written):\",  percentile_interval(bot_mean_scores, 0.05))\n",
        "print(\"Estimated difference mean distance to centroid in a cluster:\", np.mean(es_human['centr_dist']) - np.mean(es_bot['centr_dist']))\n",
        "\n",
        "delta_mean_scores = list(map(lambda x: x[0] - x[1], zip(human_mean_scores, bot_mean_scores)))\n",
        "print(\"95% confidence interval for the difference between mean distance to centroid in a cluster:\",  \n",
        "      percentile_interval(delta_mean_scores, 0.05))"
      ],
      "id": "pzKVB7zl9mBJ"
    },
    {
      "cell_type": "code",
      "execution_count": 40,
      "metadata": {
        "colab": {
          "base_uri": "https://localhost:8080/"
        },
        "id": "tD0hUeeZ9yaS",
        "outputId": "59b077b4-9452-4473-d2c6-33519570ca61"
      },
      "outputs": [
        {
          "output_type": "stream",
          "name": "stdout",
          "text": [
            "Permutation test: t = 4.007068, p = 0.014400\n",
            "---------------------------------------------------------------\n",
            "H0 is rejected:\n",
            "Median metrics are not the same for Human and Bot texts.\n",
            "---------------------------------------------------------------\n"
          ]
        }
      ],
      "source": [
        "# permutation for mean distance to centroid\n",
        "\n",
        "np.random.seed(0)\n",
        "res = permutation_test_2s_mean(es_human['centr_dist'], es_bot['centr_dist'], max_permutations = 5000, return_distr = True)\n",
        "print(\"Permutation test: t = %f, p = %f\" % (res['t'], res['p']))\n",
        "\n",
        "print('---------------------------------------------------------------')\n",
        "\n",
        "if res['p'] < 0.05:\n",
        "  print('H0 is rejected:')\n",
        "  print('Median metrics are not the same for Human and Bot texts.')\n",
        "else:\n",
        "  print('H0 is not rejected:')\n",
        "  print('Median metrics are the same for Human and Bot texts.')\n",
        "\n",
        "print('---------------------------------------------------------------')"
      ],
      "id": "tD0hUeeZ9yaS"
    },
    {
      "cell_type": "code",
      "execution_count": null,
      "metadata": {
        "id": "Sl1Q4VQ4-UVs"
      },
      "outputs": [],
      "source": [
        ""
      ],
      "id": "Sl1Q4VQ4-UVs"
    }
  ],
  "metadata": {
    "colab": {
      "collapsed_sections": [],
      "machine_shape": "hm",
      "name": "6_Comparing_clusterizations_es.ipynb",
      "provenance": []
    },
    "kernelspec": {
      "display_name": "Python 3",
      "language": "python",
      "name": "python3"
    },
    "language_info": {
      "codemirror_mode": {
        "name": "ipython",
        "version": 3
      },
      "file_extension": ".py",
      "mimetype": "text/x-python",
      "name": "python",
      "nbconvert_exporter": "python",
      "pygments_lexer": "ipython3",
      "version": "3.8.3"
    }
  },
  "nbformat": 4,
  "nbformat_minor": 5
}