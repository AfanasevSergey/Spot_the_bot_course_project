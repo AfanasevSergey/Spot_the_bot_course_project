{
  "cells": [
    {
      "cell_type": "code",
      "execution_count": 1,
      "id": "cdb50c2b",
      "metadata": {
        "ExecuteTime": {
          "end_time": "2022-01-20T00:05:19.638787Z",
          "start_time": "2022-01-20T00:05:19.628854Z"
        },
        "id": "cdb50c2b",
        "colab": {
          "base_uri": "https://localhost:8080/"
        },
        "outputId": "9e2e5286-573e-49d7-9832-2745412c5c77"
      },
      "outputs": [
        {
          "output_type": "stream",
          "name": "stdout",
          "text": [
            "Collecting unidecode\n",
            "  Downloading Unidecode-1.3.2-py3-none-any.whl (235 kB)\n",
            "\u001b[?25l\r\u001b[K     |█▍                              | 10 kB 22.6 MB/s eta 0:00:01\r\u001b[K     |██▉                             | 20 kB 11.4 MB/s eta 0:00:01\r\u001b[K     |████▏                           | 30 kB 9.3 MB/s eta 0:00:01\r\u001b[K     |█████▋                          | 40 kB 8.4 MB/s eta 0:00:01\r\u001b[K     |███████                         | 51 kB 4.9 MB/s eta 0:00:01\r\u001b[K     |████████▍                       | 61 kB 5.2 MB/s eta 0:00:01\r\u001b[K     |█████████▊                      | 71 kB 5.4 MB/s eta 0:00:01\r\u001b[K     |███████████▏                    | 81 kB 6.0 MB/s eta 0:00:01\r\u001b[K     |████████████▌                   | 92 kB 4.7 MB/s eta 0:00:01\r\u001b[K     |██████████████                  | 102 kB 5.1 MB/s eta 0:00:01\r\u001b[K     |███████████████▎                | 112 kB 5.1 MB/s eta 0:00:01\r\u001b[K     |████████████████▊               | 122 kB 5.1 MB/s eta 0:00:01\r\u001b[K     |██████████████████              | 133 kB 5.1 MB/s eta 0:00:01\r\u001b[K     |███████████████████▌            | 143 kB 5.1 MB/s eta 0:00:01\r\u001b[K     |████████████████████▉           | 153 kB 5.1 MB/s eta 0:00:01\r\u001b[K     |██████████████████████▎         | 163 kB 5.1 MB/s eta 0:00:01\r\u001b[K     |███████████████████████▋        | 174 kB 5.1 MB/s eta 0:00:01\r\u001b[K     |█████████████████████████       | 184 kB 5.1 MB/s eta 0:00:01\r\u001b[K     |██████████████████████████▍     | 194 kB 5.1 MB/s eta 0:00:01\r\u001b[K     |███████████████████████████▉    | 204 kB 5.1 MB/s eta 0:00:01\r\u001b[K     |█████████████████████████████▏  | 215 kB 5.1 MB/s eta 0:00:01\r\u001b[K     |██████████████████████████████▋ | 225 kB 5.1 MB/s eta 0:00:01\r\u001b[K     |████████████████████████████████| 235 kB 5.1 MB/s eta 0:00:01\r\u001b[K     |████████████████████████████████| 235 kB 5.1 MB/s \n",
            "\u001b[?25hInstalling collected packages: unidecode\n",
            "Successfully installed unidecode-1.3.2\n"
          ]
        }
      ],
      "source": [
        "!pip install unidecode"
      ]
    },
    {
      "cell_type": "code",
      "source": [
        "!pip install fastdist"
      ],
      "metadata": {
        "colab": {
          "base_uri": "https://localhost:8080/"
        },
        "id": "X1_n7_oWJ1BF",
        "outputId": "2dd02209-536b-4f0e-dc6b-20cbd7270829"
      },
      "id": "X1_n7_oWJ1BF",
      "execution_count": 2,
      "outputs": [
        {
          "output_type": "stream",
          "name": "stdout",
          "text": [
            "Collecting fastdist\n",
            "  Downloading fastdist-1.1.3-py3-none-any.whl (11 kB)\n",
            "Installing collected packages: fastdist\n",
            "Successfully installed fastdist-1.1.3\n"
          ]
        }
      ]
    },
    {
      "cell_type": "code",
      "source": [
        "import numpy as np\n",
        "import pandas as pd\n",
        "import re\n",
        "import gensim\n",
        "import glob\n",
        "import os\n",
        "import pickle\n",
        "import matplotlib.pyplot as plt\n",
        "from scipy.sparse.linalg import svds\n",
        "from datetime import datetime\n",
        "import codecs\n",
        "import unidecode\n",
        "from itertools import product\n",
        "from math import log\n",
        "from sklearn.metrics import silhouette_score, silhouette_samples\n",
        "from sklearn.metrics.pairwise import pairwise_distances\n",
        "from sklearn.metrics import calinski_harabasz_score\n",
        "from scipy.spatial.distance import cityblock\n",
        "from scipy.spatial.distance import euclidean\n",
        "import gc\n",
        "from fastdist import fastdist"
      ],
      "metadata": {
        "id": "yYIiBCgzJLJL"
      },
      "id": "yYIiBCgzJLJL",
      "execution_count": 3,
      "outputs": []
    },
    {
      "cell_type": "code",
      "execution_count": 4,
      "id": "6120d187",
      "metadata": {
        "ExecuteTime": {
          "end_time": "2022-01-19T23:16:44.565625Z",
          "start_time": "2022-01-19T23:16:40.800174Z"
        },
        "colab": {
          "base_uri": "https://localhost:8080/"
        },
        "id": "6120d187",
        "outputId": "80923891-a400-4a4b-ffe2-b199d2598d8a"
      },
      "outputs": [
        {
          "output_type": "stream",
          "name": "stdout",
          "text": [
            "[nltk_data] Downloading package stopwords to /root/nltk_data...\n",
            "[nltk_data]   Unzipping corpora/stopwords.zip.\n"
          ]
        }
      ],
      "source": [
        "from sklearn.feature_extraction.text import TfidfVectorizer\n",
        "import nltk\n",
        "nltk.download('stopwords')\n",
        "from nltk.corpus import stopwords"
      ]
    },
    {
      "cell_type": "code",
      "execution_count": 5,
      "id": "4bdd0d23",
      "metadata": {
        "colab": {
          "base_uri": "https://localhost:8080/"
        },
        "id": "4bdd0d23",
        "outputId": "ce467b9d-41f8-4aea-e0b1-d5998f5e9570"
      },
      "outputs": [
        {
          "output_type": "stream",
          "name": "stdout",
          "text": [
            "Mounted at /content/drive\n"
          ]
        }
      ],
      "source": [
        "from google.colab import drive\n",
        "drive.mount('/content/drive')"
      ]
    },
    {
      "cell_type": "code",
      "source": [
        "def divide(data, labels):\n",
        "    clusters = set(labels)\n",
        "    clusters_data = []\n",
        "    for cluster in clusters:\n",
        "        clusters_data.append(data[labels == cluster, :])\n",
        "    return clusters_data\n",
        "\n",
        "def get_centroids(clusters):\n",
        "    centroids = []\n",
        "    for cluster_data in clusters:\n",
        "        centroids.append(cluster_data.mean(axis=0))\n",
        "    return centroids"
      ],
      "metadata": {
        "id": "RmkSdUrn6ONZ"
      },
      "id": "RmkSdUrn6ONZ",
      "execution_count": 6,
      "outputs": []
    },
    {
      "cell_type": "code",
      "source": [
        "def cohesion(data, labels):\n",
        "    clusters = sorted(set(labels))\n",
        "    sse = 0\n",
        "    for cluster in clusters:\n",
        "        cluster_data = data[labels == cluster, :]\n",
        "        centroid = cluster_data.mean(axis = 0)\n",
        "        sse += ((cluster_data - centroid)**2).sum()\n",
        "    return sse\n",
        "\n",
        "def separation(data, labels, cohesion_score):\n",
        "    # calculate separation as SST - SSE\n",
        "    return cohesion(data, np.zeros(data.shape[0])) - cohesion_score\n",
        "\n",
        "def SST(data):\n",
        "    c = get_centroids([data])\n",
        "    return ((data - c) ** 2).sum()\n",
        "\n",
        "def SSE(clusters, centroids):\n",
        "    result = 0\n",
        "    for cluster, centroid in zip(clusters, centroids):\n",
        "        result += ((cluster - centroid) ** 2).sum()\n",
        "    return result\n",
        "\n",
        "# Clear the store before running each time\n",
        "within_cluster_dist_sum_store = {}\n",
        "def within_cluster_dist_sum(cluster, centroid, cluster_id):\n",
        "    if cluster_id in within_cluster_dist_sum_store:\n",
        "        return within_cluster_dist_sum_store[cluster_id]\n",
        "    else:\n",
        "        result = (((cluster - centroid) ** 2).sum(axis=1)**.5).sum()\n",
        "        within_cluster_dist_sum_store[cluster_id] = result\n",
        "    return result\n",
        "\n",
        "def RMSSTD(data, clusters, centroids):\n",
        "    df = data.shape[0] - len(clusters)\n",
        "    attribute_num = data.shape[1]\n",
        "    return (SSE(clusters, centroids) / (attribute_num * df)) ** .5\n",
        "\n",
        "# equal to separation / (cohesion + separation)\n",
        "def RS(data, clusters, centroids):\n",
        "    sst = SST(data)\n",
        "    sse = SSE(clusters, centroids)\n",
        "    return (sst - sse) / sst\n",
        "\n",
        "def DB_find_max_j(clusters, centroids, i):\n",
        "    max_val = 0\n",
        "    max_j = 0\n",
        "    for j in range(len(clusters)):\n",
        "        if j == i:\n",
        "            continue\n",
        "        cluster_i_stat = within_cluster_dist_sum(clusters[i], centroids[i], i) / clusters[i].shape[0]\n",
        "        cluster_j_stat = within_cluster_dist_sum(clusters[j], centroids[j], j) / clusters[j].shape[0]\n",
        "        val = (cluster_i_stat + cluster_j_stat) / (((centroids[i] - centroids[j]) ** 2).sum() ** .5)\n",
        "        if val > max_val:\n",
        "            max_val = val\n",
        "            max_j = j\n",
        "    return max_val\n",
        "\n",
        "def DB(data, clusters, centroids):\n",
        "    result = 0\n",
        "    for i in range(len(clusters)):\n",
        "        result += DB_find_max_j(clusters, centroids, i)\n",
        "    return result / len(clusters)\n",
        "\n",
        "def XB(data, clusters, centroids):\n",
        "    sse = SSE(clusters, centroids)\n",
        "    min_dist = ((centroids[0] - centroids[1]) ** 2).sum()\n",
        "    for centroid_i, centroid_j in list(product(centroids, centroids)):\n",
        "        if (centroid_i - centroid_j).sum() == 0:\n",
        "            continue\n",
        "        dist = ((centroid_i - centroid_j) ** 2).sum()\n",
        "        if dist < min_dist:\n",
        "            min_dist = dist\n",
        "    return sse / (data.shape[0] * min_dist)"
      ],
      "metadata": {
        "id": "vh49B8Vq6Sot"
      },
      "id": "vh49B8Vq6Sot",
      "execution_count": 7,
      "outputs": []
    },
    {
      "cell_type": "code",
      "source": [
        "def stat_clust(data, labels, verbose = 200, dist = True):\n",
        "  clusters = sorted(set(labels))\n",
        "  i = 0\n",
        "  n_c = len(clusters)\n",
        "  k = n_c // verbose\n",
        "\n",
        "  cluster_stat = []\n",
        "  print(datetime.utcnow().strftime('%Y-%m-%d %H:%M:%S.%f')[:-3], '|', 'Count clusters: ', n_c)\n",
        "  for cluster in clusters:\n",
        "    if verbose and (i % k == 0):\n",
        "      print(datetime.utcnow().strftime('%Y-%m-%d %H:%M:%S.%f')[:-3], '|', i,  'progress: ', round(i/ n_c, 3)*100, '%')\n",
        "    dict_c = dict()\n",
        "    cluster_data = data[labels == cluster, :]\n",
        "    centroid = cluster_data.mean(axis = 0)\n",
        "    clust_uniq = np.unique(cluster_data, axis=0)\n",
        "    count_uni = clust_uniq.shape[0]\n",
        "    dict_c['cluster'] = cluster\n",
        "    dict_c['centr_dist'] = ((cluster_data - centroid)**2).sum()\n",
        "    dict_c['count_all'] = cluster_data.shape[0]\n",
        "    dict_c['count_uniq'] = count_uni\n",
        "    #dist_nod_e = []\n",
        "    if dist:\n",
        "      min_e = 10000000\n",
        "      max_e = -1\n",
        "\n",
        "      for i in range(count_uni):\n",
        "        for j in range(i+1, count_uni):\n",
        "          dist_nod = fastdist.euclidean(clust_uniq[i], clust_uniq[j])\n",
        "          min_e = min(min_e, dist_nod)\n",
        "          max_e = max(max_e, dist_nod)\n",
        "\n",
        "      dict_c['min_euclidean'] = min_e\n",
        "      dict_c['max_euclidean'] = max_e\n",
        "\n",
        "    i += 1\n",
        "    gc.collect()\n",
        "\n",
        "    cluster_stat.append(dict_c)\n",
        "  return pd.DataFrame(cluster_stat)"
      ],
      "metadata": {
        "id": "ht-aiX7q6hhU"
      },
      "id": "ht-aiX7q6hhU",
      "execution_count": 8,
      "outputs": []
    },
    {
      "cell_type": "code",
      "source": [
        "# GridSearch results for Spanish human texts\n",
        "list_grid_human = []\n",
        "list_grid_human.append({'cohesion': 7278.732416123747, 'separation': 9101.393870913587, 'calinski_harabaz_score': 51.00766138842628, 'RMSSTD': 0.029878003793378453, 'RS': 0.5556363675972461, 'silhouette': -0.1434336072414732, 'significance': 1000, 'neighbors': 50, 'cluster_num': 9995})\n",
        "list_grid_human.append({'cohesion': 6088.561072503637, 'separation': 10291.565214533697, 'calinski_harabaz_score': 482.53757928932913, 'RMSSTD': 0.0270446512086672, 'RS': 0.628295840593005, 'silhouette': -0.057449611249742, 'significance': 1000, 'neighbors': 100, 'cluster_num': 1459})\n",
        "list_grid_human.append({'cohesion': 7278.732416123747, 'separation': 9101.393870913587, 'calinski_harabaz_score': 51.00766138842628, 'RMSSTD': 0.029878003793378453, 'RS': 0.5556363675972461, 'silhouette': -0.1434336072414732, 'significance': 100000, 'neighbors': 50, 'cluster_num': 9995})\n",
        "list_grid_human.append({'cohesion': 6088.561072503637, 'separation': 10291.565214533697, 'calinski_harabaz_score': 482.53757928932913, 'RMSSTD': 0.0270446512086672, 'RS': 0.628295840593005, 'silhouette': -0.057449611249742, 'significance': 100000, 'neighbors': 100, 'cluster_num': 1459})"
      ],
      "metadata": {
        "id": "3qGzk3rrLinu"
      },
      "id": "3qGzk3rrLinu",
      "execution_count": 9,
      "outputs": []
    },
    {
      "cell_type": "code",
      "source": [
        "# GridSearch results for Spanish bot texts\n",
        "list_grid_bot = []\n",
        "list_grid_bot.append({'cohesion': 6894.231344275017, 'separation': 9496.168999144247, 'calinski_harabaz_score': None, 'RMSSTD': 0.02948680328095718, 'RS': 0.5793738285933299, 'silhouette': None, 'significance': 1000, 'neighbors': 50, 'cluster_num': 91334})\n",
        "list_grid_bot.append({'cohesion': 6929.649070743622, 'separation': 9460.751272675641, 'calinski_harabaz_score': None, 'RMSSTD': 0.028341885707917996, 'RS': 0.577212946264252, 'silhouette': None, 'significance': 1000, 'neighbors': 100, 'cluster_num': 56451})\n",
        "list_grid_bot.append({'cohesion': 6894.231344275017, 'separation': 9496.168999144247, 'calinski_harabaz_score': None, 'RMSSTD': 0.02948680328095718, 'RS': 0.5793738285933299, 'silhouette': None, 'significance': 100000, 'neighbors': 50, 'cluster_num': 91334})\n",
        "list_grid_bot.append({'cohesion': 6929.649070743622, 'separation': 9460.751272675641, 'calinski_harabaz_score': None, 'RMSSTD': 0.028341885707917996, 'RS': 0.577212946264252, 'silhouette': None, 'significance': 100000, 'neighbors': 100, 'cluster_num': 56451})"
      ],
      "metadata": {
        "id": "ArRkXpuqLGS6"
      },
      "id": "ArRkXpuqLGS6",
      "execution_count": 10,
      "outputs": []
    },
    {
      "cell_type": "code",
      "source": [
        "list_grid_human = pd.DataFrame(list_grid_human)\n",
        "list_grid_bot = pd.DataFrame(list_grid_bot)\n"
      ],
      "metadata": {
        "id": "v5Svp1MUMrSc"
      },
      "id": "v5Svp1MUMrSc",
      "execution_count": 11,
      "outputs": []
    },
    {
      "cell_type": "code",
      "source": [
        "list_grid_human.sort_values('calinski_harabaz_score', ascending=False)"
      ],
      "metadata": {
        "colab": {
          "base_uri": "https://localhost:8080/",
          "height": 175
        },
        "id": "dYH6ooikM2PC",
        "outputId": "71619785-b0cd-4baf-c434-f55f6b9527b8"
      },
      "id": "dYH6ooikM2PC",
      "execution_count": 12,
      "outputs": [
        {
          "output_type": "execute_result",
          "data": {
            "text/html": [
              "\n",
              "  <div id=\"df-2e25f1c1-adb6-4c79-bcda-6229320fd4e4\">\n",
              "    <div class=\"colab-df-container\">\n",
              "      <div>\n",
              "<style scoped>\n",
              "    .dataframe tbody tr th:only-of-type {\n",
              "        vertical-align: middle;\n",
              "    }\n",
              "\n",
              "    .dataframe tbody tr th {\n",
              "        vertical-align: top;\n",
              "    }\n",
              "\n",
              "    .dataframe thead th {\n",
              "        text-align: right;\n",
              "    }\n",
              "</style>\n",
              "<table border=\"1\" class=\"dataframe\">\n",
              "  <thead>\n",
              "    <tr style=\"text-align: right;\">\n",
              "      <th></th>\n",
              "      <th>cohesion</th>\n",
              "      <th>separation</th>\n",
              "      <th>calinski_harabaz_score</th>\n",
              "      <th>RMSSTD</th>\n",
              "      <th>RS</th>\n",
              "      <th>silhouette</th>\n",
              "      <th>significance</th>\n",
              "      <th>neighbors</th>\n",
              "      <th>cluster_num</th>\n",
              "    </tr>\n",
              "  </thead>\n",
              "  <tbody>\n",
              "    <tr>\n",
              "      <th>1</th>\n",
              "      <td>6088.561073</td>\n",
              "      <td>10291.565215</td>\n",
              "      <td>482.537579</td>\n",
              "      <td>0.027045</td>\n",
              "      <td>0.628296</td>\n",
              "      <td>-0.057450</td>\n",
              "      <td>1000</td>\n",
              "      <td>100</td>\n",
              "      <td>1459</td>\n",
              "    </tr>\n",
              "    <tr>\n",
              "      <th>3</th>\n",
              "      <td>6088.561073</td>\n",
              "      <td>10291.565215</td>\n",
              "      <td>482.537579</td>\n",
              "      <td>0.027045</td>\n",
              "      <td>0.628296</td>\n",
              "      <td>-0.057450</td>\n",
              "      <td>100000</td>\n",
              "      <td>100</td>\n",
              "      <td>1459</td>\n",
              "    </tr>\n",
              "    <tr>\n",
              "      <th>0</th>\n",
              "      <td>7278.732416</td>\n",
              "      <td>9101.393871</td>\n",
              "      <td>51.007661</td>\n",
              "      <td>0.029878</td>\n",
              "      <td>0.555636</td>\n",
              "      <td>-0.143434</td>\n",
              "      <td>1000</td>\n",
              "      <td>50</td>\n",
              "      <td>9995</td>\n",
              "    </tr>\n",
              "    <tr>\n",
              "      <th>2</th>\n",
              "      <td>7278.732416</td>\n",
              "      <td>9101.393871</td>\n",
              "      <td>51.007661</td>\n",
              "      <td>0.029878</td>\n",
              "      <td>0.555636</td>\n",
              "      <td>-0.143434</td>\n",
              "      <td>100000</td>\n",
              "      <td>50</td>\n",
              "      <td>9995</td>\n",
              "    </tr>\n",
              "  </tbody>\n",
              "</table>\n",
              "</div>\n",
              "      <button class=\"colab-df-convert\" onclick=\"convertToInteractive('df-2e25f1c1-adb6-4c79-bcda-6229320fd4e4')\"\n",
              "              title=\"Convert this dataframe to an interactive table.\"\n",
              "              style=\"display:none;\">\n",
              "        \n",
              "  <svg xmlns=\"http://www.w3.org/2000/svg\" height=\"24px\"viewBox=\"0 0 24 24\"\n",
              "       width=\"24px\">\n",
              "    <path d=\"M0 0h24v24H0V0z\" fill=\"none\"/>\n",
              "    <path d=\"M18.56 5.44l.94 2.06.94-2.06 2.06-.94-2.06-.94-.94-2.06-.94 2.06-2.06.94zm-11 1L8.5 8.5l.94-2.06 2.06-.94-2.06-.94L8.5 2.5l-.94 2.06-2.06.94zm10 10l.94 2.06.94-2.06 2.06-.94-2.06-.94-.94-2.06-.94 2.06-2.06.94z\"/><path d=\"M17.41 7.96l-1.37-1.37c-.4-.4-.92-.59-1.43-.59-.52 0-1.04.2-1.43.59L10.3 9.45l-7.72 7.72c-.78.78-.78 2.05 0 2.83L4 21.41c.39.39.9.59 1.41.59.51 0 1.02-.2 1.41-.59l7.78-7.78 2.81-2.81c.8-.78.8-2.07 0-2.86zM5.41 20L4 18.59l7.72-7.72 1.47 1.35L5.41 20z\"/>\n",
              "  </svg>\n",
              "      </button>\n",
              "      \n",
              "  <style>\n",
              "    .colab-df-container {\n",
              "      display:flex;\n",
              "      flex-wrap:wrap;\n",
              "      gap: 12px;\n",
              "    }\n",
              "\n",
              "    .colab-df-convert {\n",
              "      background-color: #E8F0FE;\n",
              "      border: none;\n",
              "      border-radius: 50%;\n",
              "      cursor: pointer;\n",
              "      display: none;\n",
              "      fill: #1967D2;\n",
              "      height: 32px;\n",
              "      padding: 0 0 0 0;\n",
              "      width: 32px;\n",
              "    }\n",
              "\n",
              "    .colab-df-convert:hover {\n",
              "      background-color: #E2EBFA;\n",
              "      box-shadow: 0px 1px 2px rgba(60, 64, 67, 0.3), 0px 1px 3px 1px rgba(60, 64, 67, 0.15);\n",
              "      fill: #174EA6;\n",
              "    }\n",
              "\n",
              "    [theme=dark] .colab-df-convert {\n",
              "      background-color: #3B4455;\n",
              "      fill: #D2E3FC;\n",
              "    }\n",
              "\n",
              "    [theme=dark] .colab-df-convert:hover {\n",
              "      background-color: #434B5C;\n",
              "      box-shadow: 0px 1px 3px 1px rgba(0, 0, 0, 0.15);\n",
              "      filter: drop-shadow(0px 1px 2px rgba(0, 0, 0, 0.3));\n",
              "      fill: #FFFFFF;\n",
              "    }\n",
              "  </style>\n",
              "\n",
              "      <script>\n",
              "        const buttonEl =\n",
              "          document.querySelector('#df-2e25f1c1-adb6-4c79-bcda-6229320fd4e4 button.colab-df-convert');\n",
              "        buttonEl.style.display =\n",
              "          google.colab.kernel.accessAllowed ? 'block' : 'none';\n",
              "\n",
              "        async function convertToInteractive(key) {\n",
              "          const element = document.querySelector('#df-2e25f1c1-adb6-4c79-bcda-6229320fd4e4');\n",
              "          const dataTable =\n",
              "            await google.colab.kernel.invokeFunction('convertToInteractive',\n",
              "                                                     [key], {});\n",
              "          if (!dataTable) return;\n",
              "\n",
              "          const docLinkHtml = 'Like what you see? Visit the ' +\n",
              "            '<a target=\"_blank\" href=https://colab.research.google.com/notebooks/data_table.ipynb>data table notebook</a>'\n",
              "            + ' to learn more about interactive tables.';\n",
              "          element.innerHTML = '';\n",
              "          dataTable['output_type'] = 'display_data';\n",
              "          await google.colab.output.renderOutput(dataTable, element);\n",
              "          const docLink = document.createElement('div');\n",
              "          docLink.innerHTML = docLinkHtml;\n",
              "          element.appendChild(docLink);\n",
              "        }\n",
              "      </script>\n",
              "    </div>\n",
              "  </div>\n",
              "  "
            ],
            "text/plain": [
              "      cohesion    separation  ...  neighbors  cluster_num\n",
              "1  6088.561073  10291.565215  ...        100         1459\n",
              "3  6088.561073  10291.565215  ...        100         1459\n",
              "0  7278.732416   9101.393871  ...         50         9995\n",
              "2  7278.732416   9101.393871  ...         50         9995\n",
              "\n",
              "[4 rows x 9 columns]"
            ]
          },
          "metadata": {},
          "execution_count": 12
        }
      ]
    },
    {
      "cell_type": "code",
      "source": [
        "list_grid_bot.sort_values('calinski_harabaz_score', ascending=False)"
      ],
      "metadata": {
        "colab": {
          "base_uri": "https://localhost:8080/",
          "height": 175
        },
        "id": "iLhMLroQLGdG",
        "outputId": "39ffef6e-f945-4b47-c17c-1e15eb5cb5dd"
      },
      "id": "iLhMLroQLGdG",
      "execution_count": 13,
      "outputs": [
        {
          "output_type": "execute_result",
          "data": {
            "text/html": [
              "\n",
              "  <div id=\"df-c9da3175-87fb-4f9b-9057-8032e35a553c\">\n",
              "    <div class=\"colab-df-container\">\n",
              "      <div>\n",
              "<style scoped>\n",
              "    .dataframe tbody tr th:only-of-type {\n",
              "        vertical-align: middle;\n",
              "    }\n",
              "\n",
              "    .dataframe tbody tr th {\n",
              "        vertical-align: top;\n",
              "    }\n",
              "\n",
              "    .dataframe thead th {\n",
              "        text-align: right;\n",
              "    }\n",
              "</style>\n",
              "<table border=\"1\" class=\"dataframe\">\n",
              "  <thead>\n",
              "    <tr style=\"text-align: right;\">\n",
              "      <th></th>\n",
              "      <th>cohesion</th>\n",
              "      <th>separation</th>\n",
              "      <th>calinski_harabaz_score</th>\n",
              "      <th>RMSSTD</th>\n",
              "      <th>RS</th>\n",
              "      <th>silhouette</th>\n",
              "      <th>significance</th>\n",
              "      <th>neighbors</th>\n",
              "      <th>cluster_num</th>\n",
              "    </tr>\n",
              "  </thead>\n",
              "  <tbody>\n",
              "    <tr>\n",
              "      <th>0</th>\n",
              "      <td>6894.231344</td>\n",
              "      <td>9496.168999</td>\n",
              "      <td>None</td>\n",
              "      <td>0.029487</td>\n",
              "      <td>0.579374</td>\n",
              "      <td>None</td>\n",
              "      <td>1000</td>\n",
              "      <td>50</td>\n",
              "      <td>91334</td>\n",
              "    </tr>\n",
              "    <tr>\n",
              "      <th>1</th>\n",
              "      <td>6929.649071</td>\n",
              "      <td>9460.751273</td>\n",
              "      <td>None</td>\n",
              "      <td>0.028342</td>\n",
              "      <td>0.577213</td>\n",
              "      <td>None</td>\n",
              "      <td>1000</td>\n",
              "      <td>100</td>\n",
              "      <td>56451</td>\n",
              "    </tr>\n",
              "    <tr>\n",
              "      <th>2</th>\n",
              "      <td>6894.231344</td>\n",
              "      <td>9496.168999</td>\n",
              "      <td>None</td>\n",
              "      <td>0.029487</td>\n",
              "      <td>0.579374</td>\n",
              "      <td>None</td>\n",
              "      <td>100000</td>\n",
              "      <td>50</td>\n",
              "      <td>91334</td>\n",
              "    </tr>\n",
              "    <tr>\n",
              "      <th>3</th>\n",
              "      <td>6929.649071</td>\n",
              "      <td>9460.751273</td>\n",
              "      <td>None</td>\n",
              "      <td>0.028342</td>\n",
              "      <td>0.577213</td>\n",
              "      <td>None</td>\n",
              "      <td>100000</td>\n",
              "      <td>100</td>\n",
              "      <td>56451</td>\n",
              "    </tr>\n",
              "  </tbody>\n",
              "</table>\n",
              "</div>\n",
              "      <button class=\"colab-df-convert\" onclick=\"convertToInteractive('df-c9da3175-87fb-4f9b-9057-8032e35a553c')\"\n",
              "              title=\"Convert this dataframe to an interactive table.\"\n",
              "              style=\"display:none;\">\n",
              "        \n",
              "  <svg xmlns=\"http://www.w3.org/2000/svg\" height=\"24px\"viewBox=\"0 0 24 24\"\n",
              "       width=\"24px\">\n",
              "    <path d=\"M0 0h24v24H0V0z\" fill=\"none\"/>\n",
              "    <path d=\"M18.56 5.44l.94 2.06.94-2.06 2.06-.94-2.06-.94-.94-2.06-.94 2.06-2.06.94zm-11 1L8.5 8.5l.94-2.06 2.06-.94-2.06-.94L8.5 2.5l-.94 2.06-2.06.94zm10 10l.94 2.06.94-2.06 2.06-.94-2.06-.94-.94-2.06-.94 2.06-2.06.94z\"/><path d=\"M17.41 7.96l-1.37-1.37c-.4-.4-.92-.59-1.43-.59-.52 0-1.04.2-1.43.59L10.3 9.45l-7.72 7.72c-.78.78-.78 2.05 0 2.83L4 21.41c.39.39.9.59 1.41.59.51 0 1.02-.2 1.41-.59l7.78-7.78 2.81-2.81c.8-.78.8-2.07 0-2.86zM5.41 20L4 18.59l7.72-7.72 1.47 1.35L5.41 20z\"/>\n",
              "  </svg>\n",
              "      </button>\n",
              "      \n",
              "  <style>\n",
              "    .colab-df-container {\n",
              "      display:flex;\n",
              "      flex-wrap:wrap;\n",
              "      gap: 12px;\n",
              "    }\n",
              "\n",
              "    .colab-df-convert {\n",
              "      background-color: #E8F0FE;\n",
              "      border: none;\n",
              "      border-radius: 50%;\n",
              "      cursor: pointer;\n",
              "      display: none;\n",
              "      fill: #1967D2;\n",
              "      height: 32px;\n",
              "      padding: 0 0 0 0;\n",
              "      width: 32px;\n",
              "    }\n",
              "\n",
              "    .colab-df-convert:hover {\n",
              "      background-color: #E2EBFA;\n",
              "      box-shadow: 0px 1px 2px rgba(60, 64, 67, 0.3), 0px 1px 3px 1px rgba(60, 64, 67, 0.15);\n",
              "      fill: #174EA6;\n",
              "    }\n",
              "\n",
              "    [theme=dark] .colab-df-convert {\n",
              "      background-color: #3B4455;\n",
              "      fill: #D2E3FC;\n",
              "    }\n",
              "\n",
              "    [theme=dark] .colab-df-convert:hover {\n",
              "      background-color: #434B5C;\n",
              "      box-shadow: 0px 1px 3px 1px rgba(0, 0, 0, 0.15);\n",
              "      filter: drop-shadow(0px 1px 2px rgba(0, 0, 0, 0.3));\n",
              "      fill: #FFFFFF;\n",
              "    }\n",
              "  </style>\n",
              "\n",
              "      <script>\n",
              "        const buttonEl =\n",
              "          document.querySelector('#df-c9da3175-87fb-4f9b-9057-8032e35a553c button.colab-df-convert');\n",
              "        buttonEl.style.display =\n",
              "          google.colab.kernel.accessAllowed ? 'block' : 'none';\n",
              "\n",
              "        async function convertToInteractive(key) {\n",
              "          const element = document.querySelector('#df-c9da3175-87fb-4f9b-9057-8032e35a553c');\n",
              "          const dataTable =\n",
              "            await google.colab.kernel.invokeFunction('convertToInteractive',\n",
              "                                                     [key], {});\n",
              "          if (!dataTable) return;\n",
              "\n",
              "          const docLinkHtml = 'Like what you see? Visit the ' +\n",
              "            '<a target=\"_blank\" href=https://colab.research.google.com/notebooks/data_table.ipynb>data table notebook</a>'\n",
              "            + ' to learn more about interactive tables.';\n",
              "          element.innerHTML = '';\n",
              "          dataTable['output_type'] = 'display_data';\n",
              "          await google.colab.output.renderOutput(dataTable, element);\n",
              "          const docLink = document.createElement('div');\n",
              "          docLink.innerHTML = docLinkHtml;\n",
              "          element.appendChild(docLink);\n",
              "        }\n",
              "      </script>\n",
              "    </div>\n",
              "  </div>\n",
              "  "
            ],
            "text/plain": [
              "      cohesion   separation  ... neighbors  cluster_num\n",
              "0  6894.231344  9496.168999  ...        50        91334\n",
              "1  6929.649071  9460.751273  ...       100        56451\n",
              "2  6894.231344  9496.168999  ...        50        91334\n",
              "3  6929.649071  9460.751273  ...       100        56451\n",
              "\n",
              "[4 rows x 9 columns]"
            ]
          },
          "metadata": {},
          "execution_count": 13
        }
      ]
    },
    {
      "cell_type": "code",
      "source": [
        "X_human = pd.read_csv('/content/drive/MyDrive/2022-01-15_Course_project/TF_IDF_clustering_es/10000_n_2gramm_human_es.csv')\n",
        "X_bot = pd.read_csv('/content/drive/MyDrive/2022-01-15_Course_project/TF_IDF_clustering_bot_es/10000_n_2gramm_bot_es.csv')"
      ],
      "metadata": {
        "id": "o4Eo6tdfczFT"
      },
      "id": "o4Eo6tdfczFT",
      "execution_count": 28,
      "outputs": []
    },
    {
      "cell_type": "code",
      "source": [
        "list_col = ['0', '1', '2', '3', '4', '5', '6', '7', '8', '9', '10', '11', '12', '13', '14', '15', '16', '17', '18', '19']"
      ],
      "metadata": {
        "id": "mwQJ25GIdboc"
      },
      "id": "mwQJ25GIdboc",
      "execution_count": null,
      "outputs": []
    },
    {
      "cell_type": "code",
      "source": [
        "# Calculating 'calinski_harabaz_score' for bot texts\n",
        "\n",
        "from sklearn.metrics import calinski_harabasz_score\n",
        "\n",
        "for sig in list_grid_bot['significance']:\n",
        "  for nei in list_grid_bot['neighbors']:\n",
        "    idx = list_grid_bot[(list_grid_bot['significance'] == sig) & (list_grid_bot['neighbors'] == nei)].index\n",
        "    name_col = 'cluster_' + str(sig) + str(nei)\n",
        "    list_grid_bot.at[idx, 'calinski_harabaz_score'] = calinski_harabasz_score(np.array(X_bot[list_col]), X_bot[name_col])\n"
      ],
      "metadata": {
        "id": "OdKO-5h-Z3wm"
      },
      "id": "OdKO-5h-Z3wm",
      "execution_count": 29,
      "outputs": []
    },
    {
      "cell_type": "code",
      "source": [
        "list_grid_bot.sort_values('calinski_harabaz_score', ascending=False)"
      ],
      "metadata": {
        "colab": {
          "base_uri": "https://localhost:8080/",
          "height": 175
        },
        "id": "Adl1Y5pFZ30L",
        "outputId": "3afb9635-3249-4eb1-fb8c-d0c97ba977fe"
      },
      "id": "Adl1Y5pFZ30L",
      "execution_count": 30,
      "outputs": [
        {
          "output_type": "execute_result",
          "data": {
            "text/html": [
              "\n",
              "  <div id=\"df-07e265e6-b469-417d-9612-f61527c0d7e7\">\n",
              "    <div class=\"colab-df-container\">\n",
              "      <div>\n",
              "<style scoped>\n",
              "    .dataframe tbody tr th:only-of-type {\n",
              "        vertical-align: middle;\n",
              "    }\n",
              "\n",
              "    .dataframe tbody tr th {\n",
              "        vertical-align: top;\n",
              "    }\n",
              "\n",
              "    .dataframe thead th {\n",
              "        text-align: right;\n",
              "    }\n",
              "</style>\n",
              "<table border=\"1\" class=\"dataframe\">\n",
              "  <thead>\n",
              "    <tr style=\"text-align: right;\">\n",
              "      <th></th>\n",
              "      <th>cohesion</th>\n",
              "      <th>separation</th>\n",
              "      <th>calinski_harabaz_score</th>\n",
              "      <th>RMSSTD</th>\n",
              "      <th>RS</th>\n",
              "      <th>silhouette</th>\n",
              "      <th>significance</th>\n",
              "      <th>neighbors</th>\n",
              "      <th>cluster_num</th>\n",
              "    </tr>\n",
              "  </thead>\n",
              "  <tbody>\n",
              "    <tr>\n",
              "      <th>1</th>\n",
              "      <td>6929.649071</td>\n",
              "      <td>9460.751273</td>\n",
              "      <td>10.4322</td>\n",
              "      <td>0.028342</td>\n",
              "      <td>0.577213</td>\n",
              "      <td>None</td>\n",
              "      <td>1000</td>\n",
              "      <td>100</td>\n",
              "      <td>56451</td>\n",
              "    </tr>\n",
              "    <tr>\n",
              "      <th>3</th>\n",
              "      <td>6929.649071</td>\n",
              "      <td>9460.751273</td>\n",
              "      <td>10.4322</td>\n",
              "      <td>0.028342</td>\n",
              "      <td>0.577213</td>\n",
              "      <td>None</td>\n",
              "      <td>100000</td>\n",
              "      <td>100</td>\n",
              "      <td>56451</td>\n",
              "    </tr>\n",
              "    <tr>\n",
              "      <th>0</th>\n",
              "      <td>6894.231344</td>\n",
              "      <td>9496.168999</td>\n",
              "      <td>5.97909</td>\n",
              "      <td>0.029487</td>\n",
              "      <td>0.579374</td>\n",
              "      <td>None</td>\n",
              "      <td>1000</td>\n",
              "      <td>50</td>\n",
              "      <td>91334</td>\n",
              "    </tr>\n",
              "    <tr>\n",
              "      <th>2</th>\n",
              "      <td>6894.231344</td>\n",
              "      <td>9496.168999</td>\n",
              "      <td>5.97909</td>\n",
              "      <td>0.029487</td>\n",
              "      <td>0.579374</td>\n",
              "      <td>None</td>\n",
              "      <td>100000</td>\n",
              "      <td>50</td>\n",
              "      <td>91334</td>\n",
              "    </tr>\n",
              "  </tbody>\n",
              "</table>\n",
              "</div>\n",
              "      <button class=\"colab-df-convert\" onclick=\"convertToInteractive('df-07e265e6-b469-417d-9612-f61527c0d7e7')\"\n",
              "              title=\"Convert this dataframe to an interactive table.\"\n",
              "              style=\"display:none;\">\n",
              "        \n",
              "  <svg xmlns=\"http://www.w3.org/2000/svg\" height=\"24px\"viewBox=\"0 0 24 24\"\n",
              "       width=\"24px\">\n",
              "    <path d=\"M0 0h24v24H0V0z\" fill=\"none\"/>\n",
              "    <path d=\"M18.56 5.44l.94 2.06.94-2.06 2.06-.94-2.06-.94-.94-2.06-.94 2.06-2.06.94zm-11 1L8.5 8.5l.94-2.06 2.06-.94-2.06-.94L8.5 2.5l-.94 2.06-2.06.94zm10 10l.94 2.06.94-2.06 2.06-.94-2.06-.94-.94-2.06-.94 2.06-2.06.94z\"/><path d=\"M17.41 7.96l-1.37-1.37c-.4-.4-.92-.59-1.43-.59-.52 0-1.04.2-1.43.59L10.3 9.45l-7.72 7.72c-.78.78-.78 2.05 0 2.83L4 21.41c.39.39.9.59 1.41.59.51 0 1.02-.2 1.41-.59l7.78-7.78 2.81-2.81c.8-.78.8-2.07 0-2.86zM5.41 20L4 18.59l7.72-7.72 1.47 1.35L5.41 20z\"/>\n",
              "  </svg>\n",
              "      </button>\n",
              "      \n",
              "  <style>\n",
              "    .colab-df-container {\n",
              "      display:flex;\n",
              "      flex-wrap:wrap;\n",
              "      gap: 12px;\n",
              "    }\n",
              "\n",
              "    .colab-df-convert {\n",
              "      background-color: #E8F0FE;\n",
              "      border: none;\n",
              "      border-radius: 50%;\n",
              "      cursor: pointer;\n",
              "      display: none;\n",
              "      fill: #1967D2;\n",
              "      height: 32px;\n",
              "      padding: 0 0 0 0;\n",
              "      width: 32px;\n",
              "    }\n",
              "\n",
              "    .colab-df-convert:hover {\n",
              "      background-color: #E2EBFA;\n",
              "      box-shadow: 0px 1px 2px rgba(60, 64, 67, 0.3), 0px 1px 3px 1px rgba(60, 64, 67, 0.15);\n",
              "      fill: #174EA6;\n",
              "    }\n",
              "\n",
              "    [theme=dark] .colab-df-convert {\n",
              "      background-color: #3B4455;\n",
              "      fill: #D2E3FC;\n",
              "    }\n",
              "\n",
              "    [theme=dark] .colab-df-convert:hover {\n",
              "      background-color: #434B5C;\n",
              "      box-shadow: 0px 1px 3px 1px rgba(0, 0, 0, 0.15);\n",
              "      filter: drop-shadow(0px 1px 2px rgba(0, 0, 0, 0.3));\n",
              "      fill: #FFFFFF;\n",
              "    }\n",
              "  </style>\n",
              "\n",
              "      <script>\n",
              "        const buttonEl =\n",
              "          document.querySelector('#df-07e265e6-b469-417d-9612-f61527c0d7e7 button.colab-df-convert');\n",
              "        buttonEl.style.display =\n",
              "          google.colab.kernel.accessAllowed ? 'block' : 'none';\n",
              "\n",
              "        async function convertToInteractive(key) {\n",
              "          const element = document.querySelector('#df-07e265e6-b469-417d-9612-f61527c0d7e7');\n",
              "          const dataTable =\n",
              "            await google.colab.kernel.invokeFunction('convertToInteractive',\n",
              "                                                     [key], {});\n",
              "          if (!dataTable) return;\n",
              "\n",
              "          const docLinkHtml = 'Like what you see? Visit the ' +\n",
              "            '<a target=\"_blank\" href=https://colab.research.google.com/notebooks/data_table.ipynb>data table notebook</a>'\n",
              "            + ' to learn more about interactive tables.';\n",
              "          element.innerHTML = '';\n",
              "          dataTable['output_type'] = 'display_data';\n",
              "          await google.colab.output.renderOutput(dataTable, element);\n",
              "          const docLink = document.createElement('div');\n",
              "          docLink.innerHTML = docLinkHtml;\n",
              "          element.appendChild(docLink);\n",
              "        }\n",
              "      </script>\n",
              "    </div>\n",
              "  </div>\n",
              "  "
            ],
            "text/plain": [
              "      cohesion   separation  ... neighbors  cluster_num\n",
              "1  6929.649071  9460.751273  ...       100        56451\n",
              "3  6929.649071  9460.751273  ...       100        56451\n",
              "0  6894.231344  9496.168999  ...        50        91334\n",
              "2  6894.231344  9496.168999  ...        50        91334\n",
              "\n",
              "[4 rows x 9 columns]"
            ]
          },
          "metadata": {},
          "execution_count": 30
        }
      ]
    },
    {
      "cell_type": "markdown",
      "source": [
        "**The Root-mean-square standard deviation (𝑅𝑀𝑆𝑆𝑇𝐷)**\n",
        "is the square root of the pooled sample variance of all the\n",
        "attributes. It measures the homogeneity of the formed\n",
        "clusters. \n",
        "\n",
        "**R-squared (𝑅𝑆) ** is the ratio of sum of squares\n",
        "between clusters to the total sum of squares of the whole data\n",
        "set. It measures the degree of difference between clusters.\n",
        "\n",
        "\n",
        "𝑅𝑀𝑆𝑆𝑇𝐷 decreases as 𝑁𝐶 increases.\n",
        "𝑅𝑆 = (𝑇𝑆𝑆 −𝑆𝑆𝐸)/𝑇 𝑆𝑆 (𝑇𝑆𝑆 - Total Sum of Squares), and 𝑇𝑆𝑆 = 𝑆𝑆𝐸 +𝑆𝑆𝐵 (𝑆𝑆𝐵 - Between group Sum of Squares) which is a constant number for a certain data set. Thus, 𝑅𝑆 increases as 𝑁𝐶 increases.\n",
        "Looking further into these two indices, we can find out that they only take either separation or compactness into account. (𝑅𝑆 only consider separation, and 𝑅𝑀𝑆𝑆𝑇𝐷 only considers compactness). As the property\n",
        "of monotonicity, the curves of 𝑅𝑀𝑆𝑆𝑇𝐷 and 𝑅𝑆 will be either upward or downward. It is claimed that the optimal cluster number is reached at the shift point of the curves.\n",
        "\n",
        "\n",
        "\n",
        "**The Calinski-Harabasz index (𝐶𝐻)** evaluates the cluster validity based on the average between- and withincluster sum of squares. The optimal cluster number is determined by maximizing the value of these indices. take a form of\n",
        "$𝐼𝑛𝑑𝑒𝑥 = (𝑎⋅ 𝑆𝑒𝑝𝑎𝑟𝑎𝑡𝑖𝑜𝑛)/(𝑏⋅ 𝐶𝑜𝑚𝑝𝑎𝑐𝑡𝑛𝑒𝑠𝑠)$, where 𝑎 and 𝑏 are weights.\n",
        "\n",
        "**The Silhouette index (𝑆)** validates the clustering performance based on the pairwise difference of betweenand within-cluster distances. In addition, the optimal cluster number is determined by maximizing the value of this index.\n",
        "\n"
      ],
      "metadata": {
        "id": "b7UdeUbPjOql"
      },
      "id": "b7UdeUbPjOql"
    },
    {
      "cell_type": "markdown",
      "source": [
        "### Permutation test\n",
        "$H_0\\colon$ median metrics are the same for human and bot.\n",
        "\n",
        "$H_1\\colon$ median metrics are not the same for human and bot."
      ],
      "metadata": {
        "id": "bt3AJNvW2n-z"
      },
      "id": "bt3AJNvW2n-z"
    },
    {
      "cell_type": "code",
      "source": [
        "def get_bootstrap_samples(x, n_resamples):\n",
        "    indices = np.random.randint(0, len(x), (n_resamples, len(x)))\n",
        "    resamples = x[indices]\n",
        "    return resamples"
      ],
      "metadata": {
        "id": "fRlqgX9s4XwN"
      },
      "id": "fRlqgX9s4XwN",
      "execution_count": 31,
      "outputs": []
    },
    {
      "cell_type": "code",
      "source": [
        "def percentile_interval(stat, alpha):\n",
        "    boundaries = np.percentile(stat, [100 * alpha / 2., 100 * (1 - alpha / 2.)])\n",
        "    return boundaries"
      ],
      "metadata": {
        "id": "dJ43vENc4YzD"
      },
      "id": "dJ43vENc4YzD",
      "execution_count": 32,
      "outputs": []
    },
    {
      "cell_type": "code",
      "source": [
        "# permutation functions for median\n",
        "\n",
        "def permutation_t_stat_2s(sample1, sample2):\n",
        "    return np.median(sample1) - np.median(sample2)\n",
        "\n",
        "def get_random_combinations(n1, n2, max_permutations):\n",
        "    index = np.array(range(n1 + n2))\n",
        "    indices = set([tuple(index)])\n",
        "    for i in range(max_permutations - 1):\n",
        "        np.random.shuffle(index)\n",
        "        indices.add(tuple(index))\n",
        "    return [(index[:n1], index[n1:]) for index in indices]\n",
        "\n",
        "def permutation_null_dist_2s(sample1, sample2, max_permutations = None):\n",
        "    pooled_sample = np.hstack((sample1, sample2))\n",
        "    n1 = len(sample1)\n",
        "    n2 = len(sample2)\n",
        "    n = n1 + n2\n",
        "    \n",
        "    if max_permutations:\n",
        "        indices = get_random_combinations(n1, n2, max_permutations)\n",
        "    else:\n",
        "        indices = [(list(index), filter(lambda i: i not in index, range(n))) \\\n",
        "                    for index in itertools.combinations(range(n), n1)]\n",
        "    \n",
        "    distr = [permutation_t_stat_2s(pooled_sample[list(i[0])], pooled_sample[list(i[1])]) \\\n",
        "             for i in indices]\n",
        "    return distr\n",
        "\n",
        "def permutation_test_2s(sample1, sample2, max_permutations = None, alternative = 'two-sided', return_distr = False):\n",
        "    if alternative not in ('two-sided', 'less', 'greater'):\n",
        "        raise ValueError(\"alternative not recognized\\n\"\n",
        "                         \"should be 'two-sided', 'less' or 'greater'\")\n",
        "    \n",
        "    t_stat = permutation_t_stat_2s(sample1, sample2)\n",
        "    \n",
        "    null_distr = permutation_null_dist_2s(sample1, sample2, max_permutations)\n",
        "    \n",
        "    if alternative == 'two-sided':\n",
        "        p = sum([1. if abs(x) >= abs(t_stat) else 0. for x in null_distr]) / len(null_distr)\n",
        "    elif alternative == 'less':\n",
        "        p = sum([1. if x <= t_stat else 0. for x in null_distr]) / len(null_distr)\n",
        "    else: # alternative == 'greater':\n",
        "        p = sum([1. if x >= t_stat else 0. for x in null_distr]) / len(null_distr)\n",
        "    \n",
        "    if return_distr:\n",
        "        return {'t': t_stat, 'p': p, 'null_distr': null_distr}\n",
        "    else:\n",
        "        return {'t': t_stat, 'p': p}"
      ],
      "metadata": {
        "id": "igr6PDxC2m3E"
      },
      "id": "igr6PDxC2m3E",
      "execution_count": 33,
      "outputs": []
    },
    {
      "cell_type": "code",
      "source": [
        "# permutation functions for mean\n",
        "\n",
        "def permutation_t_stat_2s_mean(sample1, sample2):\n",
        "    return np.mean(sample1) - np.mean(sample2)\n",
        "\n",
        "def permutation_null_dist_2s_mean(sample1, sample2, max_permutations = None):\n",
        "    pooled_sample = np.hstack((sample1, sample2))\n",
        "    n1 = len(sample1)\n",
        "    n2 = len(sample2)\n",
        "    n = n1 + n2\n",
        "    \n",
        "    if max_permutations:\n",
        "        indices = get_random_combinations(n1, n2, max_permutations)\n",
        "    else:\n",
        "        indices = [(list(index), filter(lambda i: i not in index, range(n))) \\\n",
        "                    for index in itertools.combinations(range(n), n1)]\n",
        "    \n",
        "    distr = [permutation_t_stat_2s_mean(pooled_sample[list(i[0])], pooled_sample[list(i[1])]) \\\n",
        "             for i in indices]\n",
        "    return distr\n",
        "\n",
        "def permutation_test_2s_mean(sample1, sample2, max_permutations = None, alternative = 'two-sided', return_distr = False):\n",
        "    if alternative not in ('two-sided', 'less', 'greater'):\n",
        "        raise ValueError(\"alternative not recognized\\n\"\n",
        "                         \"should be 'two-sided', 'less' or 'greater'\")\n",
        "    \n",
        "    t_stat = permutation_t_stat_2s_mean(sample1, sample2)\n",
        "    \n",
        "    null_distr = permutation_null_dist_2s_mean(sample1, sample2, max_permutations)\n",
        "    \n",
        "    if alternative == 'two-sided':\n",
        "        p = sum([1. if abs(x) >= abs(t_stat) else 0. for x in null_distr]) / len(null_distr)\n",
        "    elif alternative == 'less':\n",
        "        p = sum([1. if x <= t_stat else 0. for x in null_distr]) / len(null_distr)\n",
        "    else: # alternative == 'greater':\n",
        "        p = sum([1. if x >= t_stat else 0. for x in null_distr]) / len(null_distr)\n",
        "    \n",
        "    if return_distr:\n",
        "        return {'t': t_stat, 'p': p, 'null_distr': null_distr}\n",
        "    else:\n",
        "        return {'t': t_stat, 'p': p}"
      ],
      "metadata": {
        "id": "zJ7kIYWl_klJ"
      },
      "id": "zJ7kIYWl_klJ",
      "execution_count": 63,
      "outputs": []
    },
    {
      "cell_type": "markdown",
      "source": [
        "## Spanish - check result"
      ],
      "metadata": {
        "id": "0dQ0MQxnoZep"
      },
      "id": "0dQ0MQxnoZep"
    },
    {
      "cell_type": "code",
      "source": [
        "# Figure for human texts\n",
        "\n",
        "fig, ax1 = plt.subplots()\n",
        "\n",
        "k = list_grid_human.sort_values('neighbors')\n",
        "color = 'tab:red'\n",
        "ax1.set_xlabel('neighbors')\n",
        "ax1.set_ylabel('calinski_harabaz', color=color)\n",
        "lns1 = ax1.plot(k['neighbors'], k['calinski_harabaz_score'], color=color, label = \"calinski_harabaz\")\n",
        "ax1.tick_params(axis='y', labelcolor=color)\n",
        "\n",
        "ax2 = ax1.twinx()  # instantiate a second axes that shares the same x-axis\n",
        "\n",
        "color = 'tab:blue'\n",
        "ax2.set_ylabel('silhouette', color=color)  # we already handled the x-label with ax1\n",
        "lns2 = ax2.plot(k['neighbors'], k['silhouette'], color=color, label = \"silhouette\", linestyle = ':', linewidth = 5)\n",
        "ax2.tick_params(axis='y', labelcolor=color)\n",
        "\n",
        "fig.tight_layout()  # otherwise the right y-label is slightly clipped\n",
        "plt.legend(title = \"Metrics\")\n",
        "lns = lns1+lns2\n",
        "labs = [l.get_label() for l in lns]\n",
        "ax2.legend(lns, labs, loc=0)\n",
        "plt.title(\"Internal clustering measures for human-written texts\")\n",
        "plt.show()"
      ],
      "metadata": {
        "colab": {
          "base_uri": "https://localhost:8080/",
          "height": 311
        },
        "id": "On7khAx4owmk",
        "outputId": "075a0b18-1f55-477f-fd8c-c406a0c0f043"
      },
      "id": "On7khAx4owmk",
      "execution_count": 34,
      "outputs": [
        {
          "output_type": "display_data",
          "data": {
            "image/png": "[encoded data removed]",
            "text/plain": [
              "<Figure size 432x288 with 2 Axes>"
            ]
          },
          "metadata": {
            "needs_background": "light"
          }
        }
      ]
    },
    {
      "cell_type": "code",
      "source": [
        "# Figure for bot texts\n",
        "\n",
        "fig, ax1 = plt.subplots()\n",
        "\n",
        "k = list_grid_bot.sort_values('neighbors')\n",
        "color = 'tab:red'\n",
        "ax1.set_xlabel('neighbors')\n",
        "ax1.set_ylabel('calinski_harabaz', color=color)\n",
        "lns1 = ax1.plot(k['neighbors'], k['calinski_harabaz_score'], color=color, label = \"calinski_harabaz\")\n",
        "ax1.tick_params(axis='y', labelcolor=color)\n",
        "\n",
        "#ax2 = ax1.twinx()  # instantiate a second axes that shares the same x-axis\n",
        "\n",
        "#color = 'tab:blue'\n",
        "#ax2.set_ylabel('silhouette', color=color)  # we already handled the x-label with ax1\n",
        "#lns2 = ax2.plot(k['neighbors'], k['silhouette'], color=color, label = \"silhouette\", linestyle = ':', linewidth = 5)\n",
        "#ax2.tick_params(axis='y', labelcolor=color)\n",
        "\n",
        "fig.tight_layout()  # otherwise the right y-label is slightly clipped\n",
        "plt.legend(title = \"Metrics\")\n",
        "lns = lns1+lns2\n",
        "labs = [l.get_label() for l in lns]\n",
        "ax2.legend(lns, labs, loc=0)\n",
        "plt.title(\"Internal clustering measures for human-written texts\")\n",
        "plt.show()"
      ],
      "metadata": {
        "colab": {
          "base_uri": "https://localhost:8080/",
          "height": 313
        },
        "id": "alKHiUsuPjfV",
        "outputId": "be1a78cc-3b73-4917-f2d7-849facddabb5"
      },
      "id": "alKHiUsuPjfV",
      "execution_count": 40,
      "outputs": [
        {
          "output_type": "display_data",
          "data": {
            "image/png": "[encoded data removed]",
            "text/plain": [
              "<Figure size 432x288 with 1 Axes>"
            ]
          },
          "metadata": {
            "needs_background": "light"
          }
        }
      ]
    },
    {
      "cell_type": "code",
      "source": [
        "X_human.columns"
      ],
      "metadata": {
        "colab": {
          "base_uri": "https://localhost:8080/"
        },
        "id": "WCq4JWzJqc_Q",
        "outputId": "e9c10b5b-8b1a-457d-ef60-7b0c4db558cf"
      },
      "id": "WCq4JWzJqc_Q",
      "execution_count": 36,
      "outputs": [
        {
          "output_type": "execute_result",
          "data": {
            "text/plain": [
              "Index(['Unnamed: 0', '0', '1', '2', '3', '4', '5', '6', '7', '8', '9', '10',\n",
              "       '11', '12', '13', '14', '15', '16', '17', '18', '19', 'ind', 'name',\n",
              "       'cluster_100050', 'cluster_1000100', 'cluster_10000050',\n",
              "       'cluster_100000100'],\n",
              "      dtype='object')"
            ]
          },
          "metadata": {},
          "execution_count": 36
        }
      ]
    },
    {
      "cell_type": "code",
      "source": [
        "X_bot.columns"
      ],
      "metadata": {
        "colab": {
          "base_uri": "https://localhost:8080/"
        },
        "id": "C5fvmMQWqdCM",
        "outputId": "6976c810-4c98-4b13-8bd6-2f23d4b55607"
      },
      "id": "C5fvmMQWqdCM",
      "execution_count": 37,
      "outputs": [
        {
          "output_type": "execute_result",
          "data": {
            "text/plain": [
              "Index(['Unnamed: 0', '0', '1', '2', '3', '4', '5', '6', '7', '8', '9', '10',\n",
              "       '11', '12', '13', '14', '15', '16', '17', '18', '19', 'ind', 'name',\n",
              "       'cluster_100050', 'cluster_1000100', 'cluster_10000050',\n",
              "       'cluster_100000100'],\n",
              "      dtype='object')"
            ]
          },
          "metadata": {},
          "execution_count": 37
        }
      ]
    },
    {
      "cell_type": "code",
      "source": [
        "# for human texts\n",
        "es_human = stat_clust(np.array(X_human[list_col]), X_human['cluster_100000100'],  verbose = 10, dist = False)"
      ],
      "metadata": {
        "colab": {
          "base_uri": "https://localhost:8080/"
        },
        "id": "KU7V4xtIqdEc",
        "outputId": "2e66df3f-bea2-4142-912c-d065ddc45a6b"
      },
      "id": "KU7V4xtIqdEc",
      "execution_count": 38,
      "outputs": [
        {
          "output_type": "stream",
          "name": "stdout",
          "text": [
            "2022-01-25 18:49:36.940 | Count clusters:  1459\n",
            "2022-01-25 18:49:36.940 | 0 progress:  0.0 %\n",
            "2022-01-25 18:49:52.572 | 145 progress:  9.9 %\n",
            "2022-01-25 18:50:07.199 | 290 progress:  19.900000000000002 %\n",
            "2022-01-25 18:50:21.378 | 435 progress:  29.799999999999997 %\n",
            "2022-01-25 18:50:35.766 | 580 progress:  39.800000000000004 %\n",
            "2022-01-25 18:50:50.128 | 725 progress:  49.7 %\n",
            "2022-01-25 18:51:04.251 | 870 progress:  59.599999999999994 %\n",
            "2022-01-25 18:51:18.617 | 1015 progress:  69.6 %\n",
            "2022-01-25 18:51:33.211 | 1160 progress:  79.5 %\n",
            "2022-01-25 18:51:48.302 | 1305 progress:  89.4 %\n",
            "2022-01-25 18:52:02.990 | 1450 progress:  99.4 %\n"
          ]
        }
      ]
    },
    {
      "cell_type": "code",
      "source": [
        "# for bot texts\n",
        "es_bot = stat_clust(np.array(X_bot[list_col]), X_bot['cluster_100000100'],  verbose = 10, dist = False)"
      ],
      "metadata": {
        "colab": {
          "base_uri": "https://localhost:8080/"
        },
        "id": "8jK3dTl4qrcG",
        "outputId": "d46ec261-0a07-4156-888a-bd4b3ba46492"
      },
      "id": "8jK3dTl4qrcG",
      "execution_count": 39,
      "outputs": [
        {
          "output_type": "stream",
          "name": "stdout",
          "text": [
            "2022-01-25 18:52:04.086 | Count clusters:  56451\n",
            "2022-01-25 18:52:04.089 | 0 progress:  0.0 %\n",
            "2022-01-25 19:01:38.023 | 5645 progress:  10.0 %\n",
            "2022-01-25 19:11:22.395 | 11290 progress:  20.0 %\n",
            "2022-01-25 19:20:56.195 | 16935 progress:  30.0 %\n",
            "2022-01-25 19:30:09.148 | 22580 progress:  40.0 %\n",
            "2022-01-25 19:39:49.083 | 28225 progress:  50.0 %\n",
            "2022-01-25 19:49:21.971 | 33870 progress:  60.0 %\n",
            "2022-01-25 19:58:45.227 | 39515 progress:  70.0 %\n",
            "2022-01-25 20:08:40.864 | 45160 progress:  80.0 %\n",
            "2022-01-25 20:18:18.924 | 50805 progress:  90.0 %\n",
            "2022-01-25 20:27:53.083 | 56450 progress:  100.0 %\n"
          ]
        }
      ]
    },
    {
      "cell_type": "code",
      "source": [
        "es_human.head()"
      ],
      "metadata": {
        "colab": {
          "base_uri": "https://localhost:8080/",
          "height": 206
        },
        "id": "P41T_21o8wIx",
        "outputId": "55e5ccc6-0c98-446f-f095-adae9e27484e"
      },
      "id": "P41T_21o8wIx",
      "execution_count": 52,
      "outputs": [
        {
          "output_type": "execute_result",
          "data": {
            "text/html": [
              "\n",
              "  <div id=\"df-1b497fe7-9927-4bf2-83a1-6a8e92d4c8b2\">\n",
              "    <div class=\"colab-df-container\">\n",
              "      <div>\n",
              "<style scoped>\n",
              "    .dataframe tbody tr th:only-of-type {\n",
              "        vertical-align: middle;\n",
              "    }\n",
              "\n",
              "    .dataframe tbody tr th {\n",
              "        vertical-align: top;\n",
              "    }\n",
              "\n",
              "    .dataframe thead th {\n",
              "        text-align: right;\n",
              "    }\n",
              "</style>\n",
              "<table border=\"1\" class=\"dataframe\">\n",
              "  <thead>\n",
              "    <tr style=\"text-align: right;\">\n",
              "      <th></th>\n",
              "      <th>cluster</th>\n",
              "      <th>centr_dist</th>\n",
              "      <th>count_all</th>\n",
              "      <th>count_uniq</th>\n",
              "      <th>norm_clusters</th>\n",
              "    </tr>\n",
              "  </thead>\n",
              "  <tbody>\n",
              "    <tr>\n",
              "      <th>0</th>\n",
              "      <td>0</td>\n",
              "      <td>5019.539330</td>\n",
              "      <td>188353</td>\n",
              "      <td>76818</td>\n",
              "      <td>0.450953</td>\n",
              "    </tr>\n",
              "    <tr>\n",
              "      <th>1</th>\n",
              "      <td>1</td>\n",
              "      <td>0.811933</td>\n",
              "      <td>2497</td>\n",
              "      <td>220</td>\n",
              "      <td>0.005978</td>\n",
              "    </tr>\n",
              "    <tr>\n",
              "      <th>2</th>\n",
              "      <td>3</td>\n",
              "      <td>0.000000</td>\n",
              "      <td>1</td>\n",
              "      <td>1</td>\n",
              "      <td>0.000002</td>\n",
              "    </tr>\n",
              "    <tr>\n",
              "      <th>3</th>\n",
              "      <td>4</td>\n",
              "      <td>9.958163</td>\n",
              "      <td>1174</td>\n",
              "      <td>163</td>\n",
              "      <td>0.002811</td>\n",
              "    </tr>\n",
              "    <tr>\n",
              "      <th>4</th>\n",
              "      <td>5</td>\n",
              "      <td>3.803086</td>\n",
              "      <td>2126</td>\n",
              "      <td>275</td>\n",
              "      <td>0.005090</td>\n",
              "    </tr>\n",
              "  </tbody>\n",
              "</table>\n",
              "</div>\n",
              "      <button class=\"colab-df-convert\" onclick=\"convertToInteractive('df-1b497fe7-9927-4bf2-83a1-6a8e92d4c8b2')\"\n",
              "              title=\"Convert this dataframe to an interactive table.\"\n",
              "              style=\"display:none;\">\n",
              "        \n",
              "  <svg xmlns=\"http://www.w3.org/2000/svg\" height=\"24px\"viewBox=\"0 0 24 24\"\n",
              "       width=\"24px\">\n",
              "    <path d=\"M0 0h24v24H0V0z\" fill=\"none\"/>\n",
              "    <path d=\"M18.56 5.44l.94 2.06.94-2.06 2.06-.94-2.06-.94-.94-2.06-.94 2.06-2.06.94zm-11 1L8.5 8.5l.94-2.06 2.06-.94-2.06-.94L8.5 2.5l-.94 2.06-2.06.94zm10 10l.94 2.06.94-2.06 2.06-.94-2.06-.94-.94-2.06-.94 2.06-2.06.94z\"/><path d=\"M17.41 7.96l-1.37-1.37c-.4-.4-.92-.59-1.43-.59-.52 0-1.04.2-1.43.59L10.3 9.45l-7.72 7.72c-.78.78-.78 2.05 0 2.83L4 21.41c.39.39.9.59 1.41.59.51 0 1.02-.2 1.41-.59l7.78-7.78 2.81-2.81c.8-.78.8-2.07 0-2.86zM5.41 20L4 18.59l7.72-7.72 1.47 1.35L5.41 20z\"/>\n",
              "  </svg>\n",
              "      </button>\n",
              "      \n",
              "  <style>\n",
              "    .colab-df-container {\n",
              "      display:flex;\n",
              "      flex-wrap:wrap;\n",
              "      gap: 12px;\n",
              "    }\n",
              "\n",
              "    .colab-df-convert {\n",
              "      background-color: #E8F0FE;\n",
              "      border: none;\n",
              "      border-radius: 50%;\n",
              "      cursor: pointer;\n",
              "      display: none;\n",
              "      fill: #1967D2;\n",
              "      height: 32px;\n",
              "      padding: 0 0 0 0;\n",
              "      width: 32px;\n",
              "    }\n",
              "\n",
              "    .colab-df-convert:hover {\n",
              "      background-color: #E2EBFA;\n",
              "      box-shadow: 0px 1px 2px rgba(60, 64, 67, 0.3), 0px 1px 3px 1px rgba(60, 64, 67, 0.15);\n",
              "      fill: #174EA6;\n",
              "    }\n",
              "\n",
              "    [theme=dark] .colab-df-convert {\n",
              "      background-color: #3B4455;\n",
              "      fill: #D2E3FC;\n",
              "    }\n",
              "\n",
              "    [theme=dark] .colab-df-convert:hover {\n",
              "      background-color: #434B5C;\n",
              "      box-shadow: 0px 1px 3px 1px rgba(0, 0, 0, 0.15);\n",
              "      filter: drop-shadow(0px 1px 2px rgba(0, 0, 0, 0.3));\n",
              "      fill: #FFFFFF;\n",
              "    }\n",
              "  </style>\n",
              "\n",
              "      <script>\n",
              "        const buttonEl =\n",
              "          document.querySelector('#df-1b497fe7-9927-4bf2-83a1-6a8e92d4c8b2 button.colab-df-convert');\n",
              "        buttonEl.style.display =\n",
              "          google.colab.kernel.accessAllowed ? 'block' : 'none';\n",
              "\n",
              "        async function convertToInteractive(key) {\n",
              "          const element = document.querySelector('#df-1b497fe7-9927-4bf2-83a1-6a8e92d4c8b2');\n",
              "          const dataTable =\n",
              "            await google.colab.kernel.invokeFunction('convertToInteractive',\n",
              "                                                     [key], {});\n",
              "          if (!dataTable) return;\n",
              "\n",
              "          const docLinkHtml = 'Like what you see? Visit the ' +\n",
              "            '<a target=\"_blank\" href=https://colab.research.google.com/notebooks/data_table.ipynb>data table notebook</a>'\n",
              "            + ' to learn more about interactive tables.';\n",
              "          element.innerHTML = '';\n",
              "          dataTable['output_type'] = 'display_data';\n",
              "          await google.colab.output.renderOutput(dataTable, element);\n",
              "          const docLink = document.createElement('div');\n",
              "          docLink.innerHTML = docLinkHtml;\n",
              "          element.appendChild(docLink);\n",
              "        }\n",
              "      </script>\n",
              "    </div>\n",
              "  </div>\n",
              "  "
            ],
            "text/plain": [
              "   cluster   centr_dist  count_all  count_uniq  norm_clusters\n",
              "0        0  5019.539330     188353       76818       0.450953\n",
              "1        1     0.811933       2497         220       0.005978\n",
              "2        3     0.000000          1           1       0.000002\n",
              "3        4     9.958163       1174         163       0.002811\n",
              "4        5     3.803086       2126         275       0.005090"
            ]
          },
          "metadata": {},
          "execution_count": 52
        }
      ]
    },
    {
      "cell_type": "code",
      "source": [
        "es_bot.head()"
      ],
      "metadata": {
        "colab": {
          "base_uri": "https://localhost:8080/",
          "height": 206
        },
        "id": "l25HX5CS83JQ",
        "outputId": "5a4b65d0-ad82-49b7-d0d8-6693c1d0ee0b"
      },
      "id": "l25HX5CS83JQ",
      "execution_count": 53,
      "outputs": [
        {
          "output_type": "execute_result",
          "data": {
            "text/html": [
              "\n",
              "  <div id=\"df-6ba1e802-0cdf-4451-8100-35dd48faf00b\">\n",
              "    <div class=\"colab-df-container\">\n",
              "      <div>\n",
              "<style scoped>\n",
              "    .dataframe tbody tr th:only-of-type {\n",
              "        vertical-align: middle;\n",
              "    }\n",
              "\n",
              "    .dataframe tbody tr th {\n",
              "        vertical-align: top;\n",
              "    }\n",
              "\n",
              "    .dataframe thead th {\n",
              "        text-align: right;\n",
              "    }\n",
              "</style>\n",
              "<table border=\"1\" class=\"dataframe\">\n",
              "  <thead>\n",
              "    <tr style=\"text-align: right;\">\n",
              "      <th></th>\n",
              "      <th>cluster</th>\n",
              "      <th>centr_dist</th>\n",
              "      <th>count_all</th>\n",
              "      <th>count_uniq</th>\n",
              "      <th>norm_clusters</th>\n",
              "    </tr>\n",
              "  </thead>\n",
              "  <tbody>\n",
              "    <tr>\n",
              "      <th>0</th>\n",
              "      <td>0</td>\n",
              "      <td>6356.059107</td>\n",
              "      <td>181095</td>\n",
              "      <td>37181</td>\n",
              "      <td>0.371252</td>\n",
              "    </tr>\n",
              "    <tr>\n",
              "      <th>1</th>\n",
              "      <td>1</td>\n",
              "      <td>0.003758</td>\n",
              "      <td>336</td>\n",
              "      <td>5</td>\n",
              "      <td>0.000689</td>\n",
              "    </tr>\n",
              "    <tr>\n",
              "      <th>2</th>\n",
              "      <td>3</td>\n",
              "      <td>0.103305</td>\n",
              "      <td>124</td>\n",
              "      <td>10</td>\n",
              "      <td>0.000254</td>\n",
              "    </tr>\n",
              "    <tr>\n",
              "      <th>3</th>\n",
              "      <td>5</td>\n",
              "      <td>0.000000</td>\n",
              "      <td>1</td>\n",
              "      <td>1</td>\n",
              "      <td>0.000002</td>\n",
              "    </tr>\n",
              "    <tr>\n",
              "      <th>4</th>\n",
              "      <td>6</td>\n",
              "      <td>0.003510</td>\n",
              "      <td>154</td>\n",
              "      <td>2</td>\n",
              "      <td>0.000316</td>\n",
              "    </tr>\n",
              "  </tbody>\n",
              "</table>\n",
              "</div>\n",
              "      <button class=\"colab-df-convert\" onclick=\"convertToInteractive('df-6ba1e802-0cdf-4451-8100-35dd48faf00b')\"\n",
              "              title=\"Convert this dataframe to an interactive table.\"\n",
              "              style=\"display:none;\">\n",
              "        \n",
              "  <svg xmlns=\"http://www.w3.org/2000/svg\" height=\"24px\"viewBox=\"0 0 24 24\"\n",
              "       width=\"24px\">\n",
              "    <path d=\"M0 0h24v24H0V0z\" fill=\"none\"/>\n",
              "    <path d=\"M18.56 5.44l.94 2.06.94-2.06 2.06-.94-2.06-.94-.94-2.06-.94 2.06-2.06.94zm-11 1L8.5 8.5l.94-2.06 2.06-.94-2.06-.94L8.5 2.5l-.94 2.06-2.06.94zm10 10l.94 2.06.94-2.06 2.06-.94-2.06-.94-.94-2.06-.94 2.06-2.06.94z\"/><path d=\"M17.41 7.96l-1.37-1.37c-.4-.4-.92-.59-1.43-.59-.52 0-1.04.2-1.43.59L10.3 9.45l-7.72 7.72c-.78.78-.78 2.05 0 2.83L4 21.41c.39.39.9.59 1.41.59.51 0 1.02-.2 1.41-.59l7.78-7.78 2.81-2.81c.8-.78.8-2.07 0-2.86zM5.41 20L4 18.59l7.72-7.72 1.47 1.35L5.41 20z\"/>\n",
              "  </svg>\n",
              "      </button>\n",
              "      \n",
              "  <style>\n",
              "    .colab-df-container {\n",
              "      display:flex;\n",
              "      flex-wrap:wrap;\n",
              "      gap: 12px;\n",
              "    }\n",
              "\n",
              "    .colab-df-convert {\n",
              "      background-color: #E8F0FE;\n",
              "      border: none;\n",
              "      border-radius: 50%;\n",
              "      cursor: pointer;\n",
              "      display: none;\n",
              "      fill: #1967D2;\n",
              "      height: 32px;\n",
              "      padding: 0 0 0 0;\n",
              "      width: 32px;\n",
              "    }\n",
              "\n",
              "    .colab-df-convert:hover {\n",
              "      background-color: #E2EBFA;\n",
              "      box-shadow: 0px 1px 2px rgba(60, 64, 67, 0.3), 0px 1px 3px 1px rgba(60, 64, 67, 0.15);\n",
              "      fill: #174EA6;\n",
              "    }\n",
              "\n",
              "    [theme=dark] .colab-df-convert {\n",
              "      background-color: #3B4455;\n",
              "      fill: #D2E3FC;\n",
              "    }\n",
              "\n",
              "    [theme=dark] .colab-df-convert:hover {\n",
              "      background-color: #434B5C;\n",
              "      box-shadow: 0px 1px 3px 1px rgba(0, 0, 0, 0.15);\n",
              "      filter: drop-shadow(0px 1px 2px rgba(0, 0, 0, 0.3));\n",
              "      fill: #FFFFFF;\n",
              "    }\n",
              "  </style>\n",
              "\n",
              "      <script>\n",
              "        const buttonEl =\n",
              "          document.querySelector('#df-6ba1e802-0cdf-4451-8100-35dd48faf00b button.colab-df-convert');\n",
              "        buttonEl.style.display =\n",
              "          google.colab.kernel.accessAllowed ? 'block' : 'none';\n",
              "\n",
              "        async function convertToInteractive(key) {\n",
              "          const element = document.querySelector('#df-6ba1e802-0cdf-4451-8100-35dd48faf00b');\n",
              "          const dataTable =\n",
              "            await google.colab.kernel.invokeFunction('convertToInteractive',\n",
              "                                                     [key], {});\n",
              "          if (!dataTable) return;\n",
              "\n",
              "          const docLinkHtml = 'Like what you see? Visit the ' +\n",
              "            '<a target=\"_blank\" href=https://colab.research.google.com/notebooks/data_table.ipynb>data table notebook</a>'\n",
              "            + ' to learn more about interactive tables.';\n",
              "          element.innerHTML = '';\n",
              "          dataTable['output_type'] = 'display_data';\n",
              "          await google.colab.output.renderOutput(dataTable, element);\n",
              "          const docLink = document.createElement('div');\n",
              "          docLink.innerHTML = docLinkHtml;\n",
              "          element.appendChild(docLink);\n",
              "        }\n",
              "      </script>\n",
              "    </div>\n",
              "  </div>\n",
              "  "
            ],
            "text/plain": [
              "   cluster   centr_dist  count_all  count_uniq  norm_clusters\n",
              "0        0  6356.059107     181095       37181       0.371252\n",
              "1        1     0.003758        336           5       0.000689\n",
              "2        3     0.103305        124          10       0.000254\n",
              "3        5     0.000000          1           1       0.000002\n",
              "4        6     0.003510        154           2       0.000316"
            ]
          },
          "metadata": {},
          "execution_count": 53
        }
      ]
    },
    {
      "cell_type": "code",
      "source": [
        "es_human.to_csv('/content/drive/MyDrive/2022-01-15_Course_project/TF_IDF_clustering_es/10000_statistics_human_es.csv')\n",
        "es_bot.to_csv('/content/drive/MyDrive/2022-01-15_Course_project/TF_IDF_clustering_bot_es/10000_statistics_bot_es.csv')"
      ],
      "metadata": {
        "id": "4EHzfi2yQhPf"
      },
      "id": "4EHzfi2yQhPf",
      "execution_count": 41,
      "outputs": []
    },
    {
      "cell_type": "code",
      "source": [
        "plt.figure(figsize=(12,4))\n",
        "\n",
        "plt.subplot(1,2,1)\n",
        "plt.grid()\n",
        "plt.hist(es_human['count_all'].sort_values(ascending = False)[10 :], bins = 100, color = 'g')\n",
        "plt.xlabel('Human-written text')\n",
        "\n",
        "plt.subplot(1,2,2)\n",
        "plt.grid()\n",
        "plt.hist( es_bot['count_all'].sort_values(ascending = False)[10 :], bins = 100, color = 'r')\n",
        "plt.xlabel('Bot-written text');"
      ],
      "metadata": {
        "colab": {
          "base_uri": "https://localhost:8080/",
          "height": 279
        },
        "id": "_yMpLu-r3M9O",
        "outputId": "0342741d-d9d0-421c-e129-53a7e0acb80e"
      },
      "id": "_yMpLu-r3M9O",
      "execution_count": 43,
      "outputs": [
        {
          "output_type": "display_data",
          "data": {
            "image/png": "[encoded data removed]",
            "text/plain": [
              "<Figure size 864x288 with 2 Axes>"
            ]
          },
          "metadata": {
            "needs_background": "light"
          }
        }
      ]
    },
    {
      "cell_type": "code",
      "source": [
        "es_human['norm_clusters'] = es_human['count_all'] / sum(es_human['count_all'])"
      ],
      "metadata": {
        "id": "gDaFJuRQRC59"
      },
      "id": "gDaFJuRQRC59",
      "execution_count": 44,
      "outputs": []
    },
    {
      "cell_type": "code",
      "source": [
        "sum(es_human['norm_clusters'])"
      ],
      "metadata": {
        "colab": {
          "base_uri": "https://localhost:8080/"
        },
        "id": "UBZlmaf2RWNR",
        "outputId": "a1cd7c93-8ea1-43fc-9c7b-aedd44e40382"
      },
      "id": "UBZlmaf2RWNR",
      "execution_count": 45,
      "outputs": [
        {
          "output_type": "execute_result",
          "data": {
            "text/plain": [
              "0.9999999999999811"
            ]
          },
          "metadata": {},
          "execution_count": 45
        }
      ]
    },
    {
      "cell_type": "code",
      "source": [
        "es_bot['norm_clusters'] = es_bot['count_all'] / sum(es_bot['count_all'])"
      ],
      "metadata": {
        "id": "2TQ7zkpiRu74"
      },
      "id": "2TQ7zkpiRu74",
      "execution_count": 46,
      "outputs": []
    },
    {
      "cell_type": "code",
      "source": [
        "sum(es_bot['norm_clusters'])"
      ],
      "metadata": {
        "colab": {
          "base_uri": "https://localhost:8080/"
        },
        "id": "Kbi54BSnR0io",
        "outputId": "4c1a1f60-be7a-46cc-ba05-9f4cba6fe6e0"
      },
      "id": "Kbi54BSnR0io",
      "execution_count": 47,
      "outputs": [
        {
          "output_type": "execute_result",
          "data": {
            "text/plain": [
              "0.9999999999990686"
            ]
          },
          "metadata": {},
          "execution_count": 47
        }
      ]
    },
    {
      "cell_type": "code",
      "source": [
        "#median number of vectors in a cluster\n",
        "np.random.seed(0)\n",
        "\n",
        "human_median_scores = list(map(np.median, get_bootstrap_samples(np.array(es_human['norm_clusters']), 5000)))\n",
        "bot_median_scores = list(map(np.median, get_bootstrap_samples(np.array(es_bot['norm_clusters']), 5000)))\n",
        "\n",
        "print(\"95% confidence interval for average number of vectors in a cluster (Human-written):\",  percentile_interval(human_median_scores, 0.05))\n",
        "print(\"95% confidence interval for average number of vectors in a cluster (Bot-written):\",  percentile_interval(bot_median_scores, 0.05))\n",
        "print(\"Estimated difference avg number of vectors in a cluster:\", np.median(es_human['norm_clusters']) - np.median(es_bot['norm_clusters']))\n",
        "\n",
        "delta_median_scores = list(map(lambda x: x[0] - x[1], zip(human_median_scores, bot_median_scores)))\n",
        "print(\"95% confidence interval for the difference between median number of vectors in a cluster:\",  \n",
        "      percentile_interval(delta_median_scores, 0.05))"
      ],
      "metadata": {
        "colab": {
          "base_uri": "https://localhost:8080/"
        },
        "id": "u4xMZN8r4flC",
        "outputId": "7b6fb122-fd73-4804-bebb-51c8be4ae5a9"
      },
      "id": "u4xMZN8r4flC",
      "execution_count": 48,
      "outputs": [
        {
          "output_type": "stream",
          "name": "stdout",
          "text": [
            "95% confidence interval for average number of vectors in a cluster (Human-written): [2.39418882e-06 2.39418882e-06]\n",
            "95% confidence interval for average number of vectors in a cluster (Bot-written): [2.05004151e-06 2.05004151e-06]\n",
            "Estimated difference avg number of vectors in a cluster: 3.441473115435957e-07\n",
            "95% confidence interval for the difference between median number of vectors in a cluster: [3.44147312e-07 3.44147312e-07]\n"
          ]
        }
      ]
    },
    {
      "cell_type": "code",
      "source": [
        "np.random.seed(0)\n",
        "res = permutation_test_2s(es_human['norm_clusters'], es_bot['norm_clusters'], max_permutations = 5000, return_distr = True)\n",
        "print(\"Permutation test: t = %f, p = %f\" % (res['t'], res['p']))\n",
        "print('---------------------------------------------------------------')\n",
        "\n",
        "if res['p'] < 0.05:\n",
        "  print('H0 is rejected:')\n",
        "  print('Median metrics are not the same for Human and Bot texts.')\n",
        "else:\n",
        "  print('H0 is not rejected:')\n",
        "  print('Median metrics are the same for Human and Bot texts.')\n",
        "\n",
        "print('---------------------------------------------------------------')\n"
      ],
      "metadata": {
        "colab": {
          "base_uri": "https://localhost:8080/"
        },
        "id": "iF9-dOhbowpZ",
        "outputId": "c4525300-3f94-41b1-9ad3-bd241d0d7430"
      },
      "id": "iF9-dOhbowpZ",
      "execution_count": 49,
      "outputs": [
        {
          "output_type": "stream",
          "name": "stdout",
          "text": [
            "Permutation test: t = 0.000000, p = 0.000200\n",
            "---------------------------------------------------------------\n",
            "H0 is rejected:\n",
            "Median metrics are not the same for Human and Bot texts.\n",
            "---------------------------------------------------------------\n"
          ]
        }
      ]
    },
    {
      "cell_type": "code",
      "source": [
        "# median distance to centroid\n",
        "np.random.seed(0)\n",
        "\n",
        "human_median_scores = list(map(np.median, get_bootstrap_samples(np.array(es_human['centr_dist']), 5000)))\n",
        "bot_median_scores = list(map(np.median, get_bootstrap_samples(np.array(es_bot['centr_dist']), 5000)))\n",
        "\n",
        "print(\"95% confidence interval for average distance to centroid in a cluster (Human-written):\",  percentile_interval(human_median_scores, 0.05))\n",
        "print(\"95% confidence interval for average distance to centroid in a cluster (Bot-written):\",  percentile_interval(bot_median_scores, 0.05))\n",
        "print(\"Estimated difference average distance to centroid in a cluster:\", np.median(es_human['centr_dist']) - np.median(es_bot['centr_dist']))\n",
        "\n",
        "delta_median_scores = list(map(lambda x: x[0] - x[1], zip(human_median_scores, bot_median_scores)))\n",
        "print(\"95% confidence interval for the difference between median distance to centroid in a cluster:\",  \n",
        "      percentile_interval(delta_median_scores, 0.05))"
      ],
      "metadata": {
        "colab": {
          "base_uri": "https://localhost:8080/"
        },
        "id": "fHk65fln6L_B",
        "outputId": "2ed398f2-7949-4780-b90d-a76e8688665e"
      },
      "id": "fHk65fln6L_B",
      "execution_count": 56,
      "outputs": [
        {
          "output_type": "stream",
          "name": "stdout",
          "text": [
            "95% confidence interval for average distance to centroid in a cluster (Human-written): [0. 0.]\n",
            "95% confidence interval for average distance to centroid in a cluster (Bot-written): [0. 0.]\n",
            "Estimated difference average distance to centroid in a cluster: 0.0\n",
            "95% confidence interval for the difference between median distance to centroid in a cluster: [0. 0.]\n"
          ]
        }
      ]
    },
    {
      "cell_type": "code",
      "source": [
        "# permutation for median distance to centroid\n",
        "np.random.seed(0)\n",
        "res = permutation_test_2s(es_human['centr_dist'], es_bot['centr_dist'], max_permutations = 5000, return_distr = True)\n",
        "print(\"Permutation test: t = %f, p = %f\" % (res['t'], res['p']))\n",
        "\n",
        "print('---------------------------------------------------------------')\n",
        "\n",
        "if res['p'] < 0.05:\n",
        "  print('H0 is rejected:')\n",
        "  print('Median metrics are not the same for Human and Bot texts.')\n",
        "else:\n",
        "  print('H0 is not rejected:')\n",
        "  print('Median metrics are the same for Human and Bot texts.')\n",
        "\n",
        "print('---------------------------------------------------------------')"
      ],
      "metadata": {
        "colab": {
          "base_uri": "https://localhost:8080/"
        },
        "id": "LGrXirCC6MCb",
        "outputId": "b46c6224-6f03-4a38-e71a-4e46ffed8925"
      },
      "id": "LGrXirCC6MCb",
      "execution_count": 51,
      "outputs": [
        {
          "output_type": "stream",
          "name": "stdout",
          "text": [
            "Permutation test: t = 0.000000, p = 1.000000\n",
            "---------------------------------------------------------------\n",
            "H0 is not rejected:\n",
            "Median metrics are the same for Human and Bot texts.\n",
            "---------------------------------------------------------------\n"
          ]
        }
      ]
    },
    {
      "cell_type": "code",
      "source": [
        "# distribution distance to centroid\n",
        "\n",
        "plt.figure(figsize=(12,4))\n",
        "\n",
        "plt.subplot(1,2,1)\n",
        "plt.grid()\n",
        "plt.hist(es_human['centr_dist'].sort_values(ascending = False)[10 :], bins = 100, color = 'g')\n",
        "plt.xlabel('Human-written text')\n",
        "\n",
        "plt.subplot(1,2,2)\n",
        "plt.grid()\n",
        "plt.hist( es_bot['centr_dist'].sort_values(ascending = False)[10 :], bins = 100, color = 'r')\n",
        "plt.xlabel('Bot-written text');"
      ],
      "metadata": {
        "id": "2iCceBeK6mb9",
        "colab": {
          "base_uri": "https://localhost:8080/",
          "height": 279
        },
        "outputId": "4799437b-4435-42f4-f3f4-5639719d76a0"
      },
      "id": "2iCceBeK6mb9",
      "execution_count": 57,
      "outputs": [
        {
          "output_type": "display_data",
          "data": {
            "image/png": "[encoded data removed]",
            "text/plain": [
              "<Figure size 864x288 with 2 Axes>"
            ]
          },
          "metadata": {
            "needs_background": "light"
          }
        }
      ]
    },
    {
      "cell_type": "code",
      "source": [
        "# mean distance to centroid\n",
        "np.random.seed(0)\n",
        "\n",
        "human_mean_scores = list(map(np.mean, get_bootstrap_samples(np.array(es_human['centr_dist']), 5000)))\n",
        "bot_mean_scores = list(map(np.mean, get_bootstrap_samples(np.array(es_bot['centr_dist']), 5000)))\n",
        "\n",
        "print(\"95% confidence interval for mean distance to centroid in a cluster (Human-written):\",  percentile_interval(human_mean_scores, 0.05))\n",
        "print(\"95% confidence interval for mean distance to centroid in a cluster (Bot-written):\",  percentile_interval(bot_mean_scores, 0.05))\n",
        "print(\"Estimated difference mean distance to centroid in a cluster:\", np.mean(es_human['centr_dist']) - np.mean(es_bot['centr_dist']))\n",
        "\n",
        "delta_mean_scores = list(map(lambda x: x[0] - x[1], zip(human_mean_scores, bot_mean_scores)))\n",
        "print(\"95% confidence interval for the difference between mean distance to centroid in a cluster:\",  \n",
        "      percentile_interval(delta_mean_scores, 0.05))"
      ],
      "metadata": {
        "colab": {
          "base_uri": "https://localhost:8080/"
        },
        "id": "pzKVB7zl9mBJ",
        "outputId": "cb9bf720-7c28-448b-fa8a-a6cca20bc570"
      },
      "id": "pzKVB7zl9mBJ",
      "execution_count": 62,
      "outputs": [
        {
          "output_type": "stream",
          "name": "stdout",
          "text": [
            "95% confidence interval for mean distance to centroid in a cluster (Human-written): [ 0.63413419 11.13322875]\n",
            "95% confidence interval for mean distance to centroid in a cluster (Bot-written): [0.00843714 0.34980472]\n",
            "Estimated difference mean distance to centroid in a cluster: 4.050350485133113\n",
            "95% confidence interval for the difference between mean distance to centroid in a cluster: [ 0.3974714 11.0800248]\n"
          ]
        }
      ]
    },
    {
      "cell_type": "code",
      "source": [
        "# permutation for mean distance to centroid\n",
        "\n",
        "np.random.seed(0)\n",
        "res = permutation_test_2s_mean(es_human['centr_dist'], es_bot['centr_dist'], max_permutations = 5000, return_distr = True)\n",
        "print(\"Permutation test: t = %f, p = %f\" % (res['t'], res['p']))\n",
        "\n",
        "print('---------------------------------------------------------------')\n",
        "\n",
        "if res['p'] < 0.05:\n",
        "  print('H0 is rejected:')\n",
        "  print('Median metrics are not the same for Human and Bot texts.')\n",
        "else:\n",
        "  print('H0 is not rejected:')\n",
        "  print('Median metrics are the same for Human and Bot texts.')\n",
        "\n",
        "print('---------------------------------------------------------------')"
      ],
      "metadata": {
        "colab": {
          "base_uri": "https://localhost:8080/"
        },
        "id": "tD0hUeeZ9yaS",
        "outputId": "5d60ba96-ca7e-4842-f700-ce1370d38927"
      },
      "id": "tD0hUeeZ9yaS",
      "execution_count": 64,
      "outputs": [
        {
          "output_type": "stream",
          "name": "stdout",
          "text": [
            "Permutation test: t = 4.050350, p = 0.024800\n",
            "---------------------------------------------------------------\n",
            "H0 is rejected:\n",
            "Median metrics are not the same for Human and Bot texts.\n",
            "---------------------------------------------------------------\n"
          ]
        }
      ]
    },
    {
      "cell_type": "code",
      "source": [
        ""
      ],
      "metadata": {
        "id": "Sl1Q4VQ4-UVs"
      },
      "id": "Sl1Q4VQ4-UVs",
      "execution_count": null,
      "outputs": []
    }
  ],
  "metadata": {
    "kernelspec": {
      "display_name": "Python 3",
      "language": "python",
      "name": "python3"
    },
    "language_info": {
      "codemirror_mode": {
        "name": "ipython",
        "version": 3
      },
      "file_extension": ".py",
      "mimetype": "text/x-python",
      "name": "python",
      "nbconvert_exporter": "python",
      "pygments_lexer": "ipython3",
      "version": "3.8.8"
    },
    "colab": {
      "name": "Comparing_clusterizations_es.ipynb",
      "provenance": [],
      "collapsed_sections": [],
      "machine_shape": "hm"
    }
  },
  "nbformat": 4,
  "nbformat_minor": 5
}